{
 "cells": [
  {
   "cell_type": "code",
   "execution_count": 1,
   "metadata": {},
   "outputs": [],
   "source": [
    "import os\n",
    "import numpy as np\n",
    "import matplotlib.pyplot as plt\n",
    "from matplotlib.gridspec import GridSpec\n",
    "import h5py\n",
    "from pylab import *\n",
    "import scipy.integrate as integrate\n",
    "#from cmocean import cm as cmo\n",
    "import matplotlib.gridspec as gridspec\n",
    "import matplotlib.ticker \n",
    "import scipy.stats as stats\n",
    "import scipy.optimize as optimize\n",
    "from mpl_toolkits.axes_grid1.inset_locator import inset_axes\n",
    "from scipy.signal import savgol_filter\n",
    "from netCDF4 import Dataset\n",
    "\n",
    "plt.rcParams['text.usetex'] = True\n",
    "plt.rcParams.update({'font.size': 22})\n",
    "plt.rcParams['mathtext.fontset'] = 'stix'\n",
    "plt.rcParams['font.family'] = 'STIXGeneral'"
   ]
  },
  {
   "cell_type": "code",
   "execution_count": 3,
   "metadata": {},
   "outputs": [],
   "source": [
    "# Load Dedalus Run RUN 1\n",
    "\n",
    "#%% Pick the filename and path\n",
    "filename = '/data/thomas/jacob13/SI_ON_A_SLOPE/SI_DNS/SI_1e-5_0p02/snapshots/snapshots_1e-5_0p02_LONG.h5' #Ruan case F\n",
    "visc = 1e-4\n",
    "\n",
    "f = h5py.File(filename, 'r')\n",
    "\n",
    "# Get the data\n",
    "data = list(f['tasks'])\n",
    "\n",
    "# Basic parameters\n",
    "N1 = f['tasks']['N'][0,0,0] #Interior stratification (background)\n",
    "tht1 = f['tasks']['tht'][0,0,0] # Slope angle\n",
    "\n",
    "\n",
    "# Load variables in physical space\n",
    "u = f['tasks']['u'] # Cross-slope direction\n",
    "v = f['tasks']['v'] # Along-slope direction\n",
    "w = f['tasks']['w']\n",
    "\n",
    "b = f['tasks']['b'] # Perturbation buoyancy\n",
    "\n",
    "\n",
    "# Domain parameters\n",
    "x = u.dims[1][0][:]\n",
    "z = u.dims[2][0][:]\n",
    "time1 = u.dims[0][0][:]\n",
    "\n",
    "vgz1 = f['tasks']['bxbar'][:,0,:]/1e-4\n",
    "vg1 = integrate.cumtrapz(vgz1, x=z, axis=-1, initial=0)\n",
    "vg1 = vg1 - vg1[:,-1][:,np.newaxis]\n",
    "\n",
    "\n"
   ]
  },
  {
   "cell_type": "code",
   "execution_count": 4,
   "metadata": {},
   "outputs": [],
   "source": [
    "# Load Dedalus Run RUN 2\n",
    "\n",
    "#%% Pick the filename and path\n",
    "filename = '/data/thomas/jacob13/SI_ON_A_SLOPE/SI_DNS/SI_1e-5_0p05/snapshots/snapshots_1e-5_0p05.h5' #Ruan case F\n",
    "visc = 1e-4\n",
    "\n",
    "f = h5py.File(filename, 'r')\n",
    "\n",
    "# Get the data\n",
    "data = list(f['tasks'])\n",
    "\n",
    "# Basic parameters\n",
    "N2 = f['tasks']['N'][0,0,0] #Interior stratification (background)\n",
    "tht2 = f['tasks']['tht'][0,0,0] # Slope angle\n",
    "\n",
    "\n",
    "# Load variables in physical space\n",
    "u = f['tasks']['u'] # Cross-slope direction\n",
    "v = f['tasks']['v'] # Along-slope direction\n",
    "w = f['tasks']['w']\n",
    "\n",
    "b = f['tasks']['b'] # Perturbation buoyancy\n",
    "\n",
    "\n",
    "# Domain parameters\n",
    "x = u.dims[1][0][:]\n",
    "z = u.dims[2][0][:]\n",
    "time2 = u.dims[0][0][:]\n",
    "\n",
    "vgz2 = f['tasks']['bxbar'][:,0,:]/1e-4\n",
    "vg2 = integrate.cumtrapz(vgz2, x=z, axis=-1, initial=0)\n",
    "vg2 = vg2 - vg2[:,-1][:,np.newaxis]\n",
    "\n",
    "\n"
   ]
  },
  {
   "cell_type": "code",
   "execution_count": 50,
   "metadata": {},
   "outputs": [],
   "source": [
    "# Load Dedalus Run RUN 3\n",
    "\n",
    "#%% Pick the filename and path\n",
    "filename = '/data/thomas/jacob13/SI_ON_A_SLOPE/SI_DNS/SI_1e-5_0p02/snapshots/snapshots_1e-5_0p02_Q1D.h5' #Ruan case F\n",
    "visc = 1e-4\n",
    "\n",
    "f = h5py.File(filename, 'r')\n",
    "\n",
    "# Get the data\n",
    "data = list(f['tasks'])\n",
    "\n",
    "# Basic parameters\n",
    "N3 = f['tasks']['N'][0,0,0] #Interior stratification (background)\n",
    "tht3 = f['tasks']['tht'][0,0,0] # Slope angle\n",
    "\n",
    "\n",
    "# Load variables in physical space\n",
    "u = f['tasks']['u'] # Cross-slope direction\n",
    "v = f['tasks']['v'] # Along-slope direction\n",
    "w = f['tasks']['w']\n",
    "\n",
    "b = f['tasks']['b'] # Perturbation buoyancy\n",
    "\n",
    "\n",
    "# Domain parameters\n",
    "x = u.dims[1][0][:]\n",
    "z = u.dims[2][0][:]\n",
    "time3 = u.dims[0][0][:]\n",
    "\n",
    "vgz3 = f['tasks']['bxbar'][:,0,:]/1e-4\n",
    "vg3 = integrate.cumtrapz(vgz3, x=z, axis=-1, initial=0)\n",
    "vg3 = vg3 - vg3[:,-1][:,np.newaxis]\n",
    "\n",
    "\n"
   ]
  },
  {
   "cell_type": "code",
   "execution_count": 36,
   "metadata": {},
   "outputs": [],
   "source": [
    "filename = '/data/thomas/jacob13/SI_ON_A_SLOPE/GOTMOUTPUTS/gotm_1e-5_0p02.nc' # Ruan et al. 2019 case F\n",
    "Ng = np.sqrt(1e-5)\n",
    "thtg = 0.02\n",
    "\n",
    "ds =  Dataset(filename, 'r')  # Dataset is the class behavior to open the file\n",
    "\n",
    "u1 = np.squeeze(ds.variables['u'])\n",
    "v1 = np.squeeze(ds.variables['v'])\n",
    "av = np.squeeze(ds.variables['num'])\n",
    "b = ds.variables['buoy'][:,:,0,0]\n",
    "timeg = ds.variables['time'][:]\n",
    "\n",
    "zg = ds.variables['z'][:][0,:,0,0]\n",
    "bz = np.gradient(b, axis=-1)/np.gradient(zg)\n",
    "vgz = -(bz-Ng**2)*np.sin(thtg)/1e-4\n",
    "vgg = integrate.cumtrapz(vgz, x=zg, axis=-1, initial=0)\n",
    "vgg = vgg - vgg[:,-1][:,np.newaxis]"
   ]
  },
  {
   "cell_type": "code",
   "execution_count": 73,
   "metadata": {},
   "outputs": [
    {
     "data": {
      "text/plain": [
       "(0, 100)"
      ]
     },
     "execution_count": 73,
     "metadata": {},
     "output_type": "execute_result"
    },
    {
     "data": {
      "image/png": "[encoded data removed]",
      "text/plain": [
       "<Figure size 432x288 with 2 Axes>"
      ]
     },
     "metadata": {
      "needs_background": "light"
     },
     "output_type": "display_data"
    }
   ],
   "source": [
    "t1 = 40\n",
    "t2 = 45\n",
    "ts1 = np.where((time1/86400>t1) & (time1/86400<t2))[0]\n",
    "ts2 = np.where((time2/86400>t1) & (time2/86400<t2))[0]\n",
    "ts3 = np.where((time3/86400>t1) & (time3/86400<t2))[0]\n",
    "tsg = np.where((timeg/86400>t1) & (timeg/86400<t2))[0]\n",
    "\n",
    "fig, ax = plt.subplots(1, 2, sharey=True)\n",
    "\n",
    "ax[0].plot(np.mean(vg1[ts1,:]+0.1, axis=0), z)\n",
    "# ax[0].plot(np.mean(vg3[ts3,:]+0.1, axis=0), z)\n",
    "\n",
    "ax[0].plot(np.mean(vgg[tsg,:]+0.1, axis=0), zg+300)\n",
    "varrest1 = N1**2*tht1/1e-4*z\n",
    "varrest1[varrest1>0.1] = 0.1\n",
    "ax[0].plot(varrest1, z, linestyle='dashed')\n",
    "ax[0].set_ylim(0, 100)\n",
    "\n",
    "# ax[1].plot(np.mean(vg2[ts1,:]+0.1, axis=0), z)\n",
    "# varrest2 = N2**2*tht2/1e-4*z\n",
    "# varrest2[varrest2>0.1] = 0.1\n",
    "# ax[1].plot(varrest2, z, linestyle='dashed')\n",
    "\n"
   ]
  },
  {
   "cell_type": "code",
   "execution_count": 20,
   "metadata": {},
   "outputs": [
    {
     "data": {
      "text/plain": [
       "0.09999999999999994"
      ]
     },
     "execution_count": 20,
     "metadata": {},
     "output_type": "execute_result"
    }
   ],
   "source": [
    "N1**2*tht1/1e-4*50"
   ]
  },
  {
   "cell_type": "code",
   "execution_count": null,
   "metadata": {},
   "outputs": [],
   "source": []
  }
 ],
 "metadata": {
  "kernelspec": {
   "display_name": "Python 3N",
   "language": "python",
   "name": "python3n"
  },
  "language_info": {
   "codemirror_mode": {
    "name": "ipython",
    "version": 3
   },
   "file_extension": ".py",
   "mimetype": "text/x-python",
   "name": "python",
   "nbconvert_exporter": "python",
   "pygments_lexer": "ipython3",
   "version": "3.6.8"
  }
 },
 "nbformat": 4,
 "nbformat_minor": 2
}
