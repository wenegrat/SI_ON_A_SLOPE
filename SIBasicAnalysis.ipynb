{
 "cells": [
  {
   "cell_type": "markdown",
   "metadata": {},
   "source": [
    "# SI on a slope\n",
    "\n",
    "This notebook takes a single output of the 2D_SI_DNS dedalus run. Makes descriptive plots and analyzes energetics.\n",
    "\n",
    "Author: Jacob Wenegrat"
   ]
  },
  {
   "cell_type": "code",
   "execution_count": 144,
   "metadata": {},
   "outputs": [],
   "source": [
    "import os\n",
    "import numpy as np\n",
    "import matplotlib.pyplot as plt\n",
    "from matplotlib.gridspec import GridSpec\n",
    "import h5py\n",
    "from pylab import *\n",
    "import scipy.integrate as integrate\n",
    "#from cmocean import cm as cmo\n",
    "import matplotlib.gridspec as gridspec\n",
    "import matplotlib.ticker \n",
    "import scipy.stats as stats\n",
    "import scipy.optimize as optimize\n",
    "import scipy.special as special\n",
    "from mpl_toolkits.axes_grid1.inset_locator import inset_axes\n",
    "from scipy.signal import savgol_filter\n",
    "from scipy.optimize import curve_fit\n",
    "\n",
    "plt.rcParams['text.usetex'] = True\n",
    "plt.rcParams.update({'font.size': 22})\n",
    "plt.rcParams['mathtext.fontset'] = 'stix'\n",
    "plt.rcParams['font.family'] = 'STIXGeneral'"
   ]
  },
  {
   "cell_type": "markdown",
   "metadata": {},
   "source": [
    "## Load variables"
   ]
  },
  {
   "cell_type": "code",
   "execution_count": 604,
   "metadata": {},
   "outputs": [],
   "source": [
    "#%% Pick the filename and path\n",
    "filename = '/data/thomas/jacob13/SI_ON_A_SLOPE/snapshots_0p10.h5' #0.1 slope\n",
    "filename = '/data/thomas/jacob13/SI_ON_A_SLOPE/SI_DNS/SI_1e-5_0p05/snapshots/snapshots_1e-5_0p05_LONG.h5' #0.1 slope\n",
    "#filename = '/data/thomas/jacob13/SI_ON_A_SLOPE/SI_DNS/SI_5e-7_0p42/snapshots/snapshots_5e-7_0p42.h5' #0.1 slope\n",
    "#filename = '/data/thomas/jacob13/SI_ON_A_SLOPE/SI_DNS/SI_1e-5_0p0225/snapshots/snapshots_1e-5_0p0225.h5' #0.1 slope\n",
    "#filename = '/data/thomas/jacob13/SI_ON_A_SLOPE/SI_DNS/SI_1e-5_0p02/snapshots/snapshots_1e-5_0p02_LONG.h5' #Ruan case F\n",
    "# filename = '/data/thomas/jacob13/SI_ON_A_SLOPE/SI_DNS/SI_1e-5_0p02/snapshots/snapshots_1e-5_0p02_Q1D.h5' #Ruan case F\n",
    "\n",
    "# filename = '/data/thomas/jacob13/SI_ON_A_SLOPE/SI_DNS/SI_1e-5_0p02/snapshots/snapshots_1e-5_0p02_LONG.h5' #Ruan case F\n",
    "# filename = '/data/thomas/jacob13/SI_ON_A_SLOPE/SI_DNS/SI_1e-5_0p02/snapshots/snapshots_1e-5_0p02_LOWV.h5' #Ruan case F\n",
    "\n",
    "# filename = '/data/thomas/jacob13/SI_ON_A_SLOPE/SI_DNS/SI_1e-7_0p005/snapshots/snapshots_1e-7_0p005.h5' #Ruan case A\n",
    "# filename =  '/data/thomas/jacob13/SI_ON_A_SLOPE/SI_DNS/SI_1e-6_0p01/snapshots/snapshots_1e-6_0p01.h5'\n",
    "# filename =  '/data/thomas/jacob13/SI_ON_A_SLOPE/SI_DNS/SI_1e-6_0p1/snapshots/snapshots_1e-6_0p1.h5'\n",
    "\n",
    "# filename =  '/data/thomas/jacob13/SI_ON_A_SLOPE/SI_DNS/SI_1e-5_0p02/downslope/downslope_s2.h5' # oscillating current\n",
    "\n",
    "\n",
    "visc = 5e-5\n",
    "visc = 1e-4\n",
    "\n",
    "f = h5py.File(filename, 'r')\n",
    "\n",
    "# Get the data\n",
    "data = list(f['tasks'])\n",
    "\n",
    "# Basic parameters\n",
    "N = f['tasks']['N'][0,0,0] #Interior stratification (background)\n",
    "tht = f['tasks']['tht'] # Slope angle\n",
    "\n",
    "\n",
    "# Load variables in physical space\n",
    "u = f['tasks']['u'] # Cross-slope direction\n",
    "v = f['tasks']['v'] # Along-slope direction\n",
    "w = f['tasks']['w'] # Slope-normal direction\n",
    "b = f['tasks']['b'] # Perturbation buoyancy\n",
    "\n",
    "qa = f['tasks']['PVa']\n",
    "q = f['tasks']['PV']\n",
    "wq = f['tasks']['wq']\n",
    "# Energy terms XXX - Need to go clean these up in Dedalus\n",
    "gsp = f['tasks']['GSP']\n",
    "gspr = f['tasks']['GSProtated']\n",
    "vspu = f['tasks']['VSPu']\n",
    "vspv = f['tasks']['VSPv']\n",
    "vsp = vspu[:,:,:]+vspv[:,:,:]\n",
    "lspu = f['tasks']['LSPu']\n",
    "lspv = f['tasks']['LSPv']\n",
    "lsp = lspu[:,:,:] + lspv[:,:,:]\n",
    "diss = f['tasks']['Diss']\n",
    "vbf = f['tasks']['VBF']\n",
    "# vbfsg= f['tasks']['VBFsg']\n",
    "vbfr = f['tasks']['VBFr']\n",
    "hbfr = f['tasks']['HBFrotated']\n",
    "hbfr = hbfr*np.sin(tht[0,0,0])\n",
    "vbfrot = f['tasks']['VBFrotated']\n",
    "sp = f['tasks']['SP']\n",
    "EKE = f['tasks']['EKE']\n",
    "\n",
    "# SPECTRAL QUANTITIES\n",
    "ws = f['tasks']['wcs']\n",
    "bs = f['tasks']['bs']\n",
    "vs = f['tasks']['vcs']\n",
    "\n",
    "\n",
    "# Domain parameters\n",
    "x = u.dims[1][0][:]\n",
    "z = u.dims[2][0][:]\n",
    "time = u.dims[0][0][:]\n",
    "kx = f['scales/kx'][:]/(2*np.pi) # Inverse wavelengths in cross-front direction"
   ]
  },
  {
   "cell_type": "code",
   "execution_count": 146,
   "metadata": {},
   "outputs": [],
   "source": [
    "time = u.dims[0][0][:]\n"
   ]
  },
  {
   "cell_type": "code",
   "execution_count": null,
   "metadata": {},
   "outputs": [],
   "source": [
    "ti = np.where((time/86400>7.5) & (time/86400<15))[0]\n",
    "\n",
    "plt.plot(np.mean(np.mean(vbfrot[ti,:,:], axis=1), axis=0), z, label='$\\langle w^\\prime b^\\prime\\\\rangle$')\n",
    "\n",
    "plt.plot(np.mean(np.mean(vbfrot[ti,:,:]/(1+N**2*tht[0,0,0]**2/1e-8), axis=1), axis=0), z, label='$\\langle w^\\prime b^\\prime\\\\rangle$')\n",
    "plt.plot(np.mean(np.mean(vbfr[ti,:,:], axis=1), axis=0), z, label='$\\langle \\hat{w}^\\prime b^\\prime\\\\rangle$')\n",
    "plt.legend()\n",
    "print(integrate.trapz(np.mean(np.mean(vbfrot[ti,:,:], axis=1), axis=0), x=z))\n",
    "print(integrate.trapz(np.mean(np.mean(vbfr[ti,:,:], axis=1), axis=0), x=z))\n",
    "print(integrate.trapz(np.mean(np.mean(sp[ti,:,:], axis=1), axis=0), x=z))"
   ]
  },
  {
   "cell_type": "code",
   "execution_count": 605,
   "metadata": {},
   "outputs": [
    {
     "name": "stderr",
     "output_type": "stream",
     "text": [
      "/usr/local/anaconda3/lib/python3.6/site-packages/ipykernel_launcher.py:29: RuntimeWarning: divide by zero encountered in true_divide\n"
     ]
    }
   ],
   "source": [
    "# Calculated quantities\n",
    "# XXX- Go through and check this all carefully\n",
    "va = np.mean(v, axis=1)\n",
    "\n",
    "qm = np.mean(q, axis=1) \n",
    "bm = np.mean(b, axis=1)\n",
    "bxc = np.gradient(b, axis=1)/np.gradient(x[np.newaxis, :,np.newaxis], axis=1)*np.cos(tht)- np.gradient(b, axis=-1)/np.gradient(z[np.newaxis, np.newaxis,:], axis=-1)*np.sin(tht) #f['tasks']['bxs']\n",
    "bx = np.gradient(b, axis=1)/np.gradient(x[np.newaxis, :, np.newaxis], axis=1)\n",
    "bxcm = np.mean(bxc, axis=1)\n",
    "bxm = np.mean(bx, axis=1)\n",
    "\n",
    "bzr = np.gradient(bm, axis=-1)/np.gradient(z)*np.cos(tht[0,0,0]) + bxcm*np.sin(tht[0,0,0]) + N**2\n",
    "\n",
    "um = np.mean(u, axis=1)\n",
    "vm = np.mean(v, axis=1)\n",
    "up = u - um[:,np.newaxis,:]\n",
    "vp = v - vm[:,np.newaxis,:]\n",
    "\n",
    "uz = np.gradient(um, axis=-1)/np.gradient(z)\n",
    "vz = np.gradient(vm, axis=-1)/np.gradient(z) \n",
    "wz = np.gradient(np.mean(w, axis=1), axis=-1)/np.gradient(z)\n",
    "zm = z-z[-1]\n",
    "qt = np.transpose(np.transpose(np.gradient(qm, axis=0))/np.gradient(time))\n",
    "qta = np.gradient(qa[:,0,0])/np.gradient(time)\n",
    "bb = x[np.newaxis,:,np.newaxis]*N**2*np.sin(tht[0,0,0]) + N**2*np.cos(tht[0,0,0])*z[np.newaxis, np.newaxis,:]\n",
    "bf = b + bb\n",
    "bz = np.gradient(bm, axis=-1)/np.gradient(z) + N**2\n",
    "bz_prime = np.gradient(bm, axis=-1)/np.gradient(z)\n",
    "Ri = bz/(uz**2 + vz**2)\n",
    "\n",
    "gsps = 2*np.real(-np.conj(vs)*ws*bxcm[:,np.newaxis,:]/1e-4)\n",
    "vbfs = 2*np.real(np.conj(ws)*bs)\n",
    "\n",
    "#zetaprimebprime = np.mean((bf - np.mean(bf,axis=1))*(np.gradient(v, axis=1)/np.gradient(x)), axis=1)\n",
    "uz = np.gradient(u, axis=-1)/np.gradient(z)\n",
    "vz = np.gradient(v, axis=-1)/np.gradient(z)\n",
    "EKEt = np.gradient(EKE[:,0,:], axis=0)/np.gradient(time[:,np.newaxis], axis=0)\n",
    "\n",
    "MKE = 0.5*(um**2 + (vm)**2)\n",
    "MKEt = np.gradient(MKE, axis=0)/np.gradient(time[:,np.newaxis], axis=0)\n",
    "\n",
    "MAPE = 0.5*np.mean(b[:,:,:]**2, axis=1)/N**2\n",
    "MAPEt = np.gradient(MAPE, axis=0)/np.gradient(time[:,np.newaxis], axis=0)\n",
    "\n",
    "# SPECTRAL\n",
    "wbs = 2*np.real(np.conj(ws)*bs)\n",
    "wvs = 2*np.real(np.conj(ws)*vs)"
   ]
  },
  {
   "cell_type": "code",
   "execution_count": null,
   "metadata": {},
   "outputs": [],
   "source": [
    "wbs = 2*np.real(np.conj(ws)*bs)\n",
    "wvs = 2*np.real(np.conj(ws)*vs)"
   ]
  },
  {
   "cell_type": "code",
   "execution_count": null,
   "metadata": {},
   "outputs": [],
   "source": [
    "MKE = np.mean(0.5*(u[:,:,:]**2 + (v[:,:,:])**2 + w[:,:,:]**2), axis=1)\n",
    "# MKE = 0.5*(um**2 + (vm)**2)\n",
    "\n",
    "MKEt = np.gradient(MKE, axis=0)/np.gradient(time[:,np.newaxis], axis=0)\n",
    "\n",
    "# MAPE = 0.5*np.mean(b[:,:,:]**2, axis=1)/N**2\n",
    "# MAPEt = np.gradient(MAPE, axis=0)/np.gradient(time[:,np.newaxis], axis=0)\n",
    "\n",
    "MKEMPE = um[:,:]*bm[:,:]*np.sin(tht[0,0,0])"
   ]
  },
  {
   "cell_type": "markdown",
   "metadata": {},
   "source": [
    "## Estimate bottom stress and Ekman transport\n",
    "\n",
    "The bottom stress is needed to calculate the cross-slope Ekman transport. \n",
    "There are several ways to calculate this. The first is directly, given that we resolve the viscous layer ($\\delta_v = \\nu/u^*$).\n",
    "\\begin{equation}\n",
    "\\tau_y = \\rho \\nu \\frac{\\partial v}{\\partial z}\n",
    "\\end{equation}\n",
    "where $\\nu$ is the subgrid viscosity.\n",
    "\n",
    "The other way (which would in some sense be preferable for observational purposes, would be using a drag coefficient:\n",
    "\\begin{equation}\n",
    "\\tau_y = \\rho C_d \\sqrt{u^2 + v^2}v\n",
    "\\end{equation}\n",
    "This appears to work reasonably well, however it has to be evaluated on the order of meters above the bottom. Not sure how this is supposed to actually be evaluated (ie. is there a principled way to pick the depth?).\n",
    "\n",
    "Using these the cross-slope Ekman transport is given by,\n",
    "\n",
    "\\begin{equation}\n",
    "B_{Ek} = \\frac{\\tau_y}{\\rho_o f} N^2 \\sin{\\theta}\n",
    "\\end{equation}"
   ]
  },
  {
   "cell_type": "code",
   "execution_count": 606,
   "metadata": {},
   "outputs": [
    {
     "data": {
      "text/plain": [
       "[<matplotlib.lines.Line2D at 0x2b1553edc470>]"
      ]
     },
     "execution_count": 606,
     "metadata": {},
     "output_type": "execute_result"
    },
    {
     "data": {
      "image/png": "[encoded data removed]",
      "text/plain": [
       "<Figure size 432x288 with 1 Axes>"
      ]
     },
     "metadata": {
      "needs_background": "light"
     },
     "output_type": "display_data"
    },
    {
     "data": {
      "image/png": "[encoded data removed]",
      "text/plain": [
       "<Figure size 432x288 with 1 Axes>"
      ]
     },
     "metadata": {
      "needs_background": "light"
     },
     "output_type": "display_data"
    },
    {
     "data": {
      "image/png": "[encoded data removed]",
      "text/plain": [
       "<Figure size 432x288 with 1 Axes>"
      ]
     },
     "metadata": {
      "needs_background": "light"
     },
     "output_type": "display_data"
    }
   ],
   "source": [
    "\n",
    "uss = visc*np.sqrt(np.mean(uz[:,:,0], axis=1)**2 + np.mean(vz[:,:,0], axis=1)**2) # This is u*^2...need to confirm this definition\n",
    "uss = visc*np.sqrt(np.mean(uz[:,:,0]**2 + vz[:,:,0]**2, axis=1))\n",
    "us = np.sqrt(uss)\n",
    "usm = np.mean(us)\n",
    "delv = visc/usm\n",
    "\n",
    "tauy = -1035*visc*np.mean(vz[:,:,0], axis=1) #Note that 1e-4 is the viscosity for the DNS\n",
    "taux = -1035*visc*np.mean(uz[:,:,0], axis=1) #Note that 1e-4 is the viscosity for the DNS\n",
    "\n",
    "zind = 16\n",
    "cd = 2.5e-3\n",
    "tauya = -1035*cd*np.mean(np.sqrt(u[:,:,zind]**2 + (v[:,:,zind]+0.1)**2)*(v[:,:,zind]+0.1), axis=1)\n",
    "#tauy= tauya\n",
    "# This plot is to confirm that the viscous layer is being resolved\n",
    "#plt.figure()\n",
    "#plt.plot((z[1:]-z[:-1])/delv, 0.5*(z[1:] + z[:-1]), marker='x')\n",
    "\n",
    "# calculate bottom velocity at 50*delv\n",
    "nt = time.size\n",
    "ub = np.zeros((nt,))\n",
    "vb = np.zeros((nt,))\n",
    "for i in range(1,nt):\n",
    "    tempind = np.where(z>50*visc/us[i])[0][0]\n",
    "    ub[i] = um[i,tempind]\n",
    "    vb[i] = vm[i,tempind]+0.1\n",
    "# Can calculate the Ekman transport using bottom stress:\n",
    "Bek = tauy/(1030*1e-4)*N**2*np.sin(tht[:,0,0])\n",
    "Beka = tauy/(1030*1e-4*(1+N**2*np.sin(tht[0,0,0])**2/1e-8))*N**2*np.sin(tht[:,0,0])\n",
    "\n",
    "# Alternately calculate the actual cross-slope buoyancy transport\n",
    "Ubar = integrate.trapz(um,x=zm, axis=-1 )\n",
    "BekD = Ubar*N**2*np.sin(tht[:,0,0])\n",
    "#Bek = Beka\n",
    "# Compare three estimates of stress\n",
    "plt.plot(time/86400, Bek)\n",
    "plt.plot(time/86400, Beka)\n",
    "plt.plot(time/86400, BekD)\n",
    "\n",
    "plt.figure()\n",
    "plt.plot(time/86400, tauy)\n",
    "plt.plot(time/86400, tauya)\n",
    "plt.plot(time/86400, -1030*cd*np.sqrt(ub**2 + vb**2)*vb)\n",
    "\n",
    "plt.figure()\n",
    "plt.plot(time/86400, us)"
   ]
  },
  {
   "cell_type": "code",
   "execution_count": 607,
   "metadata": {},
   "outputs": [
    {
     "name": "stderr",
     "output_type": "stream",
     "text": [
      "/usr/local/anaconda3/lib/python3.6/site-packages/ipykernel_launcher.py:3: RuntimeWarning: invalid value encountered in true_divide\n",
      "  This is separate from the ipykernel package so we can avoid doing imports until\n",
      "/usr/local/anaconda3/lib/python3.6/site-packages/ipykernel_launcher.py:4: RuntimeWarning: divide by zero encountered in true_divide\n",
      "  after removing the cwd from sys.path.\n"
     ]
    },
    {
     "data": {
      "text/plain": [
       "<matplotlib.lines.Line2D at 0x2b0ab980ea90>"
      ]
     },
     "execution_count": 607,
     "metadata": {},
     "output_type": "execute_result"
    },
    {
     "data": {
      "image/png": "[encoded data removed]",
      "text/plain": [
       "<Figure size 432x288 with 1 Axes>"
      ]
     },
     "metadata": {
      "needs_background": "light"
     },
     "output_type": "display_data"
    }
   ],
   "source": [
    "# Look at Slope Monin Obukhov Length as in Ruan et al. 2019\n",
    "\n",
    "Lo = us**3/(0.4*-Beka)\n",
    "zs = visc/us\n",
    "plt.plot(time/86400, Lo/zs)\n",
    "plt.axhline(100) # Approximate relaminarization point"
   ]
  },
  {
   "cell_type": "code",
   "execution_count": null,
   "metadata": {},
   "outputs": [],
   "source": [
    "plt.plot(time*1e-4, Beka)\n",
    "# plt.plot(time*1e-4, tauy/(1+S))\n",
    "\n",
    "S = N**2*np.tan(tht[0,0,0])**2/1e-8\n",
    "print(S)\n",
    "tscale = (1/((S)**2*1e-4*np.cos(tht[0,0,0]))) #MR91\n",
    "print(tscale/86400)\n",
    "cd = 5e-3\n",
    "d = cd*N/1e-4 #BL01\n",
    "gamma =  (1 + np.sqrt(1+4*(1-S/(1+S))**(-1)*S))/2\n",
    "tscaleBL = gamma*(1+S)/(2*1e-4*0.4*d*S**(3/2)) #BL01\n",
    "print(tscaleBL/86400)\n",
    "ind = 20\n",
    "# plt.plot(time*1e-4,Beka[2]*exp(-time/tscale))\n",
    "plt.plot(time*1e-4, -1.7e-8*(time/tscale)**(-1/2))\n",
    "plt.plot(time*1e-4, -5e-9*(time/tscaleBL)**(-1/2))\n",
    "\n",
    "# plt.plot(time[ind:]*1e-4,Beka[ind]*exp(-(time[ind:]-time[ind])/tscaleBL))\n",
    "plt.ylim(-0.25e-7, 0)"
   ]
  },
  {
   "cell_type": "code",
   "execution_count": null,
   "metadata": {},
   "outputs": [],
   "source": [
    "#calculate arrest timescale using vertically integrated cross-shelf transport\n",
    "Ubars = savgol_filter(Ubar, 48*5+1, 2)\n",
    "Ubart = np.gradient(Ubars)/np.gradient(time)\n",
    "tauyt = np.gradient(tauy)/np.gradient(time)\n",
    "t0 = 1e-4/(N**2*np.sin(tht[0,0,0]))\n",
    "D = -Ubars/(Ubart)\n",
    "\n",
    "\n",
    "# D = -tauy/tauyt\n",
    "# D = savgol_filter(D, 48*5+1, 2)\n",
    "plot(D)\n",
    "# plot(Ubars)\n",
    "# plt.ylim((0, 86400*10))"
   ]
  },
  {
   "cell_type": "code",
   "execution_count": null,
   "metadata": {},
   "outputs": [],
   "source": [
    "def fitfunc(x, a, b):\n",
    "    return a * np.exp(-b * x) \n",
    "\n",
    "startind = 48*5\n",
    "popt, pcov = curve_fit(fitfunc, time[startind:], tauy[startind:], p0=[tauy[startind], 1/tscaleBL])\n",
    "print(popt)\n",
    "print(pcov)\n",
    "print(1/popt[1]/86400)\n",
    "print(tscaleBL/86400)\n",
    "plt.plot(tauy)\n",
    "plt.plot(fitfunc(time, popt[0], popt[1]))\n",
    "\n",
    "plt.figure()\n",
    "plt.plot(Ubar)\n",
    "plt.plot(fitfunc(time, -0.05, popt[1]))"
   ]
  },
  {
   "cell_type": "code",
   "execution_count": null,
   "metadata": {},
   "outputs": [],
   "source": [
    "plt.figure()\n",
    "plt.semilogy(time*1e-4, -tauy)"
   ]
  },
  {
   "cell_type": "code",
   "execution_count": null,
   "metadata": {},
   "outputs": [],
   "source": [
    "S = N**2*np.tan(tht[0,0,0])**2/1e-8\n",
    "tscale = (1/((S)**2*1e-4*np.cos(tht[0,0,0])))"
   ]
  },
  {
   "cell_type": "code",
   "execution_count": null,
   "metadata": {
    "scrolled": false
   },
   "outputs": [],
   "source": [
    "# Plot resolution inside the viscous layer (note Ruan et al. 2019 uses 2 points in 5*deltav)\n",
    "plt.figure()\n",
    "plt.plot(time/86400, visc/us)\n",
    "plt.plot(0, np.transpose(zm[0:5,np.newaxis] - zm[0]), marker='x');\n",
    "\n",
    "# Plot delta z normalized by viscous units\n",
    "deltaz = zm[1:] - zm[:-1]\n",
    "plt.figure()\n",
    "plt.plot(deltaz/delv, zm[1:], marker='x')\n",
    "plt.ylim((zm[0], zm[0]+5))"
   ]
  },
  {
   "cell_type": "markdown",
   "metadata": {},
   "source": [
    "## Calculate the 0 PV layer depth (H)\n",
    "\n",
    "This code calculates the depth of the zero PV layer using:\n",
    "\\begin{equation}\n",
    "\\frac{\\partial H^2}{\\partial t} = 2 \\frac{B_{Ek}(t)}{N^2}\n",
    "\\end{equation}"
   ]
  },
  {
   "cell_type": "code",
   "execution_count": 608,
   "metadata": {},
   "outputs": [
    {
     "data": {
      "text/plain": [
       "[<matplotlib.lines.Line2D at 0x2b1553eadd30>]"
      ]
     },
     "execution_count": 608,
     "metadata": {},
     "output_type": "execute_result"
    },
    {
     "data": {
      "image/png": "[encoded data removed]",
      "text/plain": [
       "<Figure size 432x288 with 1 Axes>"
      ]
     },
     "metadata": {
      "needs_background": "light"
     },
     "output_type": "display_data"
    }
   ],
   "source": [
    "nt = BekD.shape[0]\n",
    "\n",
    "toff = 12*2 # Starting timestep\n",
    "Ho = 14 # Pick a starting depth (not necessarily starting at t=0, H=0)\n",
    "\n",
    "toff = 12\n",
    "Ho = 5\n",
    "Ent = 1.0 # Entrainment factor...\n",
    "H2 = np.zeros((nt, )) \n",
    "for i in range(toff, nt):\n",
    "    H2[i] = H2[i-1]+(2*Ent*-Bek[i]/(N**2))*(time[i]-time[i-1])\n",
    "    \n",
    "H = np.sqrt(Ho**2 + H2)\n",
    "H[0:toff] = np.nan\n",
    "plt.plot(time/86400, H)"
   ]
  },
  {
   "cell_type": "markdown",
   "metadata": {},
   "source": [
    "## Calculate the convective layer depth\n",
    "\n",
    "Note, to do this I need to complete the derivation, and then fit a coefficient to the model runs. Alternately, could directly infer this as the point at which $\\langle w' b' \\rangle = 0$.\n",
    "\n",
    "If I assume $v' \\sim h/H V^{int}$, then the equation to solve is,\n",
    "\n",
    "\\begin{equation}\n",
    " \\left(\\frac{h}{H} \\right)^4 + c^3\\frac{B_{Ek}^2}{V^3H}\\left(\\frac{f}{N^2 \\theta}\\right)^3\\left(1 - \\frac{h}{H}\\right)^3\n",
    "\\end{equation}"
   ]
  },
  {
   "cell_type": "code",
   "execution_count": 609,
   "metadata": {},
   "outputs": [
    {
     "data": {
      "text/plain": [
       "[<matplotlib.lines.Line2D at 0x2b1553fda518>]"
      ]
     },
     "execution_count": 609,
     "metadata": {},
     "output_type": "execute_result"
    },
    {
     "data": {
      "image/png": "[encoded data removed]",
      "text/plain": [
       "<Figure size 432x288 with 1 Axes>"
      ]
     },
     "metadata": {
      "needs_background": "light"
     },
     "output_type": "display_data"
    }
   ],
   "source": [
    "def fithT(ent, H):\n",
    "    def fithH(factor): #factor is the combined coefficient of the highest order term (ie. Factor*(1-h/h)^3)\n",
    "        nt = factor.size\n",
    "        h = np.ones((nt))\n",
    "        entm = np.mean(ent)\n",
    "        for i in range(0, nt):\n",
    "            def f(x):\n",
    "              return (x-0.35)**2 - 0.1*factor[i]**2*(1-ent[i]*x)\n",
    "\n",
    "            if np.isfinite(factor[i]):\n",
    "                h[i], info, ier, n = optimize.fsolve(f, 0.35, maxfev=10000, full_output=True)\n",
    "                if ier == 0:\n",
    "                    print('fail')\n",
    "        return h*H\n",
    "    return fithH\n",
    "\n",
    "fact = Lo/H\n",
    "h = fithT(0*H + 1, H)(fact)\n",
    "plt.plot(time/86400, h)\n",
    "plt.plot(time/86400, H)"
   ]
  },
  {
   "cell_type": "code",
   "execution_count": null,
   "metadata": {},
   "outputs": [],
   "source": [
    "# mean coefficient\n",
    "coef = Bek**2/(H*0.1**3)*(1e-4/(N**2*np.tan(tht[0,0,0])))**3*189**3\n",
    "print(coef[-1])"
   ]
  },
  {
   "cell_type": "code",
   "execution_count": null,
   "metadata": {},
   "outputs": [],
   "source": [
    "us[-1]**3/(0.4*0.1)**3"
   ]
  },
  {
   "cell_type": "code",
   "execution_count": null,
   "metadata": {},
   "outputs": [],
   "source": [
    "us[-1]**3/(H[-1]*Bek[-1])"
   ]
  },
  {
   "cell_type": "code",
   "execution_count": null,
   "metadata": {},
   "outputs": [],
   "source": [
    "plt.plot(time/86400, h)"
   ]
  },
  {
   "cell_type": "markdown",
   "metadata": {},
   "source": [
    "## Trajectory in S, Ri space\n",
    "\n",
    "Calculate the Richardson number and Slope Burger number averaged over the zero PV layer to look at the trajectory in S-Ri space (per Wenegrat et al. 2018)."
   ]
  },
  {
   "cell_type": "code",
   "execution_count": null,
   "metadata": {},
   "outputs": [],
   "source": [
    "#%% Trajectory in S, Ri space\n",
    "\n",
    "Ri = np.zeros((nt,))\n",
    "RiB = np.zeros((nt,))\n",
    "S = np.zeros((nt,))\n",
    "alpha = np.zeros((nt,))\n",
    "Sr = np.zeros((nt,))\n",
    "testr = np.zeros((nt,))\n",
    "deltabottom = 10\n",
    "\n",
    "for i in range(0, nt):\n",
    "    if not (np.isnan(H[i]) or H[i]<2*deltabottom):\n",
    "        zl = np.where((zm>zm[0]+deltabottom) & (zm<zm[0]+H[i]))[0]\n",
    "    else: \n",
    "        zl = np.where((zm>zm[0]+deltabottom) & (zm<zm[0]+2*deltabottom))[0]\n",
    "    zd = zm[zl[-1]] - zm[zl[0]]\n",
    "    uzm = np.mean(uz, axis=1)\n",
    "    vzm = np.mean(vz, axis=1)\n",
    "    #wzm = np.mean(wz, axis=1)\n",
    "    uzm = np.trapz(uzm[i,zl]*np.cos(tht[0,0,0]), x=zm[zl], axis=-1)/zd\n",
    "    vzm = np.trapz(vzm[i,zl]*np.cos(tht[0,0,0]), x=zm[zl], axis=-1)/zd\n",
    "    wzm = np.trapz(wz[i,zl]*np.cos(tht[0,0,0]), x=zm[zl], axis=-1)/zd\n",
    "    sh2  = uzm**2 + vzm**2 + wzm**2\n",
    "    bzm = np.trapz(bzr[i,zl], x=zm[zl], axis=-1)/zd\n",
    "    Ri[i] = bzm/sh2\n",
    "    RiB[i] = bzm*1e-8/(((np.trapz(bz_prime[i,zl], x=zm[zl], axis=-1)/zd)*np.sin(tht[0,0,0]))**2)\n",
    "    testr[i] = (np.trapz(bz_prime[i,zl], x=zm[zl], axis=-1)/zd)*np.sin(tht[0,0,0])/1e-8\n",
    "    S[i] = bzm/1e-8*np.tan(tht[0,0,0])**2\n",
    "    Sr[i] = np.trapz(bz_prime[i,zl], x=zm[zl], axis=-1)/zd/1e-8*np.tanh(tht[0,0,0])**2\n",
    "    alpha[i] = np.sqrt(S[i]*Ri[i])"
   ]
  },
  {
   "cell_type": "code",
   "execution_count": null,
   "metadata": {},
   "outputs": [],
   "source": [
    "S.shape"
   ]
  },
  {
   "cell_type": "code",
   "execution_count": null,
   "metadata": {},
   "outputs": [],
   "source": [
    "plt.figure()\n",
    "plt.plot(time/86400, -alpha/Ri, label='$\\zeta/f$')\n",
    "plt.plot(time/86400, -1/Ri, label='$1/Ri$')\n",
    "\n",
    "plt.plot(time/86400, 1-alpha/Ri-1/Ri, label='q')\n",
    "plt.legend()\n",
    "plt.grid()\n",
    "\n",
    "plt.ylim((-2, 2))\n",
    "plt.figure()\n",
    "#plt.plot(Ri, S, linestyle='none', marker='x')\n",
    "plt.scatter(Ri, S, c=time/86400)\n",
    "plt.colorbar()\n",
    "Ria = np.linspace(0, 20, 1000)\n",
    "Sa = np.linspace(0, 10, 1000)\n",
    "Rv, Sv = np.meshgrid(Ria, Sa)\n",
    "plt.contour(Rv, Sv, np.sqrt(Sv*Rv)/Rv + 1/Rv, [0, 1], colors='r')\n",
    "plt.contour(Rv, Sv, np.sqrt(Sv*Rv)/Rv, [0, 1], colors='g')\n",
    "plt.grid()\n",
    "#plt.colorbar()\n",
    "plt.xlim((0, 5))\n",
    "plt.ylim((0, 5))"
   ]
  },
  {
   "cell_type": "code",
   "execution_count": null,
   "metadata": {},
   "outputs": [],
   "source": [
    "Rit = np.linspace(0, 10, 1000)\n",
    "St = np.linspace(0, 3, 1000)\n",
    "Rv, Sv = np.meshgrid(Rit, St)\n",
    "alpha = Sv*np.sqrt(Rv)\n",
    "plt.figure(figsize=(12,8))\n",
    "PV = Sv*np.sqrt(Rv)/Rv + 1/Rv\n",
    "maskSI = PV>1\n",
    "maskBI = np.nan*np.zeros_like(Rv)\n",
    "maskBI[np.logical_and(PV<=1, alpha<1)] = 1\n",
    "# maskBI[np.logical_and(PV<=1, 1==1)] = 1\n",
    "\n",
    "maskBIL = np.nan*np.zeros_like(Rv)\n",
    "maskBIL[PV<=1] = 1\n",
    "# maskBI = PV<=1\n",
    "# maskBI[np.logical_not(maskBI)] = np.nan\n",
    "cl = 8\n",
    "plt.contourf(Rv, Sv, maskSI*3, np.linspace(0, cl, 10), cmap='Greys')\n",
    "plt.contourf(Rv, Sv, maskBI*1, np.linspace(0, cl, 10), cmap='Greys')\n",
    "\n",
    "# plt.contour(Rv, Sv, (1-Sv**2/(1+Sv**2))*Rv, [0, 1], colors='r')\n",
    "# plt.contour(Rv, Sv, (Sv/(1+Sv)) + 1/Rv, [1], colors='r')\n",
    "PVL = plt.contour(Rv, Sv, -1 + Sv*np.sqrt(Rv)/Rv + 1/Rv, [0], colors='g', linewidths=2, linestyles='dashed')\n",
    "# plt.contour(Rv, Sv, alpha/Rv, [0.2], colors='b', linewidths=2, linestyles='dashed')\n",
    "CL = plt.contour(Rv, Sv, alpha*maskBIL, [1], colors='b', linewidths=2, linestyles='dashed')\n",
    "plt.clabel(CL, inline=1, fontsize = 24, fmt='$S\\sqrt{Ri}$ $=$ %1.0f', manual=[(7, 0.5)])\n",
    "plt.clabel(PVL, inline=1, fontsize = 24, fmt='$PV$ $=$ %1.0f', manual = [(7, 2.25)])\n",
    "plt.yticks([0, 1, 2, 3])\n",
    "\n",
    "plt.scatter(Ri, np.sqrt(S), c=time/86400)\n",
    "\n",
    "# plt.contour(Rv, Sv, Sv*np.sqrt(Rv) + 1/Rv, [1], colors='g')\n",
    "\n",
    "# plt.contour(Rv, Sv, np.sqrt(Sv*Rv)/Rv, [0, 1], colors='g')\n",
    "# plt.contour(Rv, Sv, np.sqrt(Sv*Rv)/Rv, [0, 1], colors='g')\n",
    "# plt.grid()\n",
    "plt.xlabel('Richardson Number $\\left[Ri = \\\\frac{N^2f^2}{|\\\\nabla b|^2}\\\\right]$')\n",
    "plt.ylabel('Slope Burger Number $\\left[S = \\\\frac{N\\\\theta}{f}\\\\right]$')\n",
    "plt.xlim(0,10)\n",
    "plt.ylim(0, 3)\n",
    "# plt.annotate('Symmetric/Centrifugal\\n instability',\n",
    "#              xy=(0.5, 2.05), xycoords='data', xytext=(+0, +0), \n",
    "#              textcoords='offset points', fontsize=32, ma='center')\n",
    "# plt.annotate('Baroclinic instability',\n",
    "#              xy=(2., 0.15), xycoords='data', xytext=(+0, +0), \n",
    "#              textcoords='offset points', fontsize=32, ma='center')"
   ]
  },
  {
   "cell_type": "markdown",
   "metadata": {},
   "source": [
    "## Plot U, N2, and Q as a function of time"
   ]
  },
  {
   "cell_type": "code",
   "execution_count": null,
   "metadata": {},
   "outputs": [],
   "source": [
    "plt.rcParams['text.usetex'] = True\n",
    "plt.rcParams.update({'font.size': 22})\n",
    "plt.rcParams['mathtext.fontset'] = 'stix'\n",
    "plt.rcParams['font.family'] = 'STIXGeneral'\n",
    "\n",
    "cmin=0\n",
    "cmax = 2\n",
    "cminv = 0.03\n",
    "loff = 20\n",
    "fig, ax=plt.subplots(3,1, sharex=True, figsize=(14,9))\n",
    "yl = (zm[0],zm[0]+125)\n",
    "yl = (z[0], z[0]+100)\n",
    "#ax[0].plot(time/86400, bflux)\n",
    "#ax[0].grid()\n",
    "#plt.colorbar(ax=ax[0])\n",
    "cminv = -0.1\n",
    "cmaxv = 0.1\n",
    "ix = ax[0].contourf(time/86400, z, np.transpose(um[:,:])/0.1,np.linspace(cminv, cmaxv, 26), vmin=cminv, vmax=cmaxv, cmap='seismic', extend='both')\n",
    "plt.colorbar( ix, ax=ax[0] , ticks=[cminv,0, cmaxv] )\n",
    "#cb = plt.colorbar( ix, ax=ax[0])\n",
    "\n",
    "#ax[0].plot(time/86400, bflux)\n",
    "# ax[0].set_ylabel('$m^2s^{-3}$')\n",
    "ax[0].set_ylabel('Height above\\n bottom (m)')\n",
    "bb = dict(boxstyle='Square', fc='w')\n",
    "ax[0].text(0.25,yl[-1]-loff, '$u/V_\\infty$', fontsize=20, bbox=bb)\n",
    "ax[0].grid()\n",
    "ax[0].set_ylim(yl)\n",
    "\n",
    "ix = ax[1].contourf(time/86400, z, np.transpose(bz[:,:])/bz[0, 90],np.linspace(cmin, cmax, 26), vmin=cmin, vmax=cmax, cmap='seismic', extend='both')\n",
    "plt.colorbar( ix, ax=ax[1] , ticks=[cmin,1, cmax] )\n",
    "#cb = plt.colorbar( ix, ax=ax[0])\n",
    "# ax[1].plot(time/86400, zm[0] + H)\n",
    "\n",
    "#ax[0].set_xlabel('Days')\n",
    "ax[1].set_ylabel('Height above\\n bottom (m)')#ax[1].set_title('$N^2/N^2_o$')\n",
    "ax[1].set_ylim(yl)\n",
    "ax[1].grid()\n",
    "ax[1].text(0.24, yl[-1]-loff, '$N^2/N^2_\\infty$', fontsize=20, bbox=bb)\n",
    "#ax[0].plot(time/86400, -Hd)\n",
    "for c in ix.collections:\n",
    "    c.set_edgecolor(\"face\")\n",
    "    \n",
    "cmin = -15e-9\n",
    "cmax = 15e-9\n",
    "cmin = -2\n",
    "cmax = 2\n",
    "ix = ax[2].contourf(time/86400, z, np.transpose(qm[:,:])/(1e-4*bz[0,10]), np.linspace(cmin, cmax, 26), vmin=cmin, vmax=cmax, cmap='seismic', extend='both')\n",
    "plt.colorbar( ix, ax=ax[2] , ticks=[cmin, 0, cmax] )\n",
    "ax[2].set_xlabel('Days')\n",
    "ax[2].set_ylabel('Height above\\n bottom (m)')\n",
    "#ax[2].set_title('q')\n",
    "ax[2].set_ylim(yl)\n",
    "ax[2].text(0.25, yl[-1]-loff, '$q/(fN^2_\\infty)$', fontsize=20, bbox=bb)\n",
    "\n",
    "# ax[2].plot(time/86400, H, linewidth=2)\n",
    "# ax[2].plot(time/86400, h, linewidth=2, linestyle='dashed')\n",
    "\n",
    "#ax[1].plot(time/86400, -H)\n",
    "#ax[1].plot(time/86400, -hi)\n",
    "ax[2].grid()\n",
    "for c in ix.collections:\n",
    "    c.set_edgecolor(\"face\")\n",
    "    \n",
    "# plt.savefig('Overview3_1e-5_0p05.pdf', bbox_inches='tight')"
   ]
  },
  {
   "cell_type": "markdown",
   "metadata": {},
   "source": [
    "## U, V, N2, and Q"
   ]
  },
  {
   "cell_type": "code",
   "execution_count": null,
   "metadata": {},
   "outputs": [],
   "source": [
    "plt.rcParams['text.usetex'] = True\n",
    "plt.rcParams.update({'font.size': 22})\n",
    "plt.rcParams['mathtext.fontset'] = 'stix'\n",
    "plt.rcParams['font.family'] = 'STIXGeneral'\n",
    "from mpl_toolkits.axes_grid1 import make_axes_locatable\n",
    "\n",
    "cmin=0\n",
    "cmax = 2\n",
    "cminv = 0.03\n",
    "loff = 25\n",
    "asp = 13\n",
    "fig, ax=plt.subplots(5,1, sharex=True, figsize=(14,11), gridspec_kw={'height_ratios': [0.5, 1,1, 1, 1]})\n",
    "yl = (zm[0],zm[0]+125)\n",
    "yl = (z[0], z[0]+100)\n",
    "#ax[0].plot(time/86400, bflux)\n",
    "#ax[0].grid()\n",
    "#plt.colorbar(ax=ax[0])\n",
    "\n",
    "ax[0].plot(time/86400, us/0.1, linewidth=3)\n",
    "ax[0].set_xlim(0, 15)\n",
    "ax[0].grid()\n",
    "# ax[0].set_ylabel('m/s')\n",
    "bb = dict(boxstyle='Square', fc='w')\n",
    "ax[0].text(0.25,0.008, '$u^*/V_\\infty$', fontsize=20, bbox=bb)\n",
    "# divider = make_axes_locatable(ax[0])\n",
    "# cax = divider.append_axes(\"right\", size=\"15%\", pad=0.1)\n",
    "\n",
    "\n",
    "cminv = -0.1\n",
    "cmaxv = 0.1\n",
    "ix = ax[1].contourf(time/86400, z, np.transpose(um[:,:])/0.1,np.linspace(cminv, cmaxv, 26), vmin=cminv, vmax=cmaxv, cmap='seismic', extend='both')\n",
    "plt.colorbar( ix, ax=ax[1] , ticks=[cminv,0, cmaxv] , aspect=asp)\n",
    "# divider = make_axes_locatable(ax[1])\n",
    "# cax = divider.append_axes(\"right\", size=\"15%\", pad=0.2)\n",
    "# plt.colorbar( ix, ax=cax , ticks=[cminv,0, cmaxv] )\n",
    "plt.colorbar( ix, ax=ax[0] , ticks=[cminv,0, cmaxv] , aspect=asp)\n",
    "fig.delaxes(fig.axes[6])\n",
    "#cb = plt.colorbar( ix, ax=ax[0])\n",
    "cb.visible = False\n",
    "#ax[0].plot(time/86400, bflux)\n",
    "# ax[0].set_ylabel('$m^2s^{-3}$')\n",
    "ax[1].set_ylabel('Height above\\n bottom (m)')\n",
    "bb = dict(boxstyle='Square', fc='w')\n",
    "ax[1].text(0.25,yl[-1]-loff, '$u/V_\\infty$', fontsize=20, bbox=bb)\n",
    "ax[1].grid()\n",
    "ax[1].set_ylim(yl)\n",
    "\n",
    "cminv = 0\n",
    "cmaxv = 1\n",
    "ix = ax[2].contourf(time/86400, z, np.transpose(vm[:,:]+0.1)/0.1,np.linspace(cminv, cmaxv, 26), vmin=cminv, vmax=cmaxv, cmap='seismic', extend='both')\n",
    "plt.colorbar( ix, ax=ax[2] , ticks=[cminv,0, cmaxv] , aspect=asp)\n",
    "#cb = plt.colorbar( ix, ax=ax[0])\n",
    "\n",
    "#ax[0].plot(time/86400, bflux)\n",
    "# ax[0].set_ylabel('$m^2s^{-3}$')\n",
    "ax[2].set_ylabel('Height above\\n bottom (m)')\n",
    "bb = dict(boxstyle='Square', fc='w')\n",
    "ax[2].text(0.25,yl[-1]-loff, '$v/V_\\infty$', fontsize=20, bbox=bb)\n",
    "ax[2].grid()\n",
    "ax[2].set_ylim(yl)\n",
    "for c in ix.collections:\n",
    "    c.set_edgecolor(\"face\")\n",
    "\n",
    "\n",
    "ix = ax[3].contourf(time/86400, z, np.transpose(bz[:,:])/bz[0, 90],np.linspace(cmin, cmax, 26), vmin=cmin, vmax=cmax, cmap='seismic', extend='both')\n",
    "plt.colorbar( ix, ax=ax[3] , ticks=[cmin,1, cmax] , aspect=asp)\n",
    "#cb = plt.colorbar( ix, ax=ax[0])\n",
    "# ax[1].plot(time/86400, zm[0] + H)\n",
    "\n",
    "#ax[0].set_xlabel('Days')\n",
    "ax[3].set_ylabel('Height above\\n bottom (m)')#ax[1].set_title('$N^2/N^2_o$')\n",
    "ax[3].set_ylim(yl)\n",
    "ax[3].grid()\n",
    "ax[3].text(0.24, yl[-1]-loff, '$N^2/N^2_\\infty$', fontsize=20, bbox=bb)\n",
    "#ax[0].plot(time/86400, -Hd)\n",
    "for c in ix.collections:\n",
    "    c.set_edgecolor(\"face\")\n",
    "    \n",
    "cmin = -15e-9\n",
    "cmax = 15e-9\n",
    "cmin = -2\n",
    "cmax = 2\n",
    "ix = ax[4].contourf(time/86400, z, np.transpose(qm[:,:])/(1e-4*bz[0,10]), np.linspace(cmin, cmax, 26), vmin=cmin, vmax=cmax, cmap='seismic', extend='both')\n",
    "plt.colorbar( ix, ax=ax[4] , ticks=[cmin, 0, cmax], aspect=asp)\n",
    "ax[4].set_xlabel('Days')\n",
    "ax[4].set_ylabel('Height above\\n bottom (m)')\n",
    "#ax[2].set_title('q')\n",
    "ax[4].set_ylim(yl)\n",
    "ax[4].text(0.25, yl[-1]-loff, '$q/(fN^2_\\infty)$', fontsize=20, bbox=bb)\n",
    "\n",
    "# ax[2].plot(time/86400, H, linewidth=2)\n",
    "# ax[2].plot(time/86400, h, linewidth=2, linestyle='dashed')\n",
    "\n",
    "#ax[1].plot(time/86400, -H)\n",
    "#ax[1].plot(time/86400, -hi)\n",
    "ax[4].grid()\n",
    "for c in ix.collections:\n",
    "    c.set_edgecolor(\"face\")\n",
    "    \n",
    "# plt.savefig('Overview3_1e-5_0p02.pdf', bbox_inches='tight')"
   ]
  },
  {
   "cell_type": "code",
   "execution_count": null,
   "metadata": {},
   "outputs": [],
   "source": [
    "plt.figure(figsize=(10,10))\n",
    "ha = 0.1*1e-4/(N**2*tht[0,0,0])\n",
    "plt.scatter(us/np.max(us), H/ha)\n",
    "H[-1]/ha"
   ]
  },
  {
   "cell_type": "markdown",
   "metadata": {},
   "source": [
    "## Plot U, B"
   ]
  },
  {
   "cell_type": "code",
   "execution_count": null,
   "metadata": {},
   "outputs": [],
   "source": [
    "cmin=0\n",
    "cmax = N**2*np.cos(tht[0,0,0])*100\n",
    "cmax = 1e-3\n",
    "cminv = 0.03\n",
    "loff = 20\n",
    "fig, ax=plt.subplots(2,1, sharex=True, figsize=(14,6))\n",
    "yl = (zm[0],zm[0]+125)\n",
    "yl = (z[0], z[0]+100)\n",
    "#ax[0].plot(time/86400, bflux)\n",
    "#ax[0].grid()\n",
    "#plt.colorbar(ax=ax[0])\n",
    "cminv = -0.1/10\n",
    "cmaxv = 0.1/10\n",
    "ix = ax[0].contourf(time/86400, z, np.transpose(um[:,:]),np.linspace(cminv, cmaxv, 26), vmin=cminv, vmax=cmaxv, cmap='seismic', extend='both')\n",
    "cb = plt.colorbar( ix, ax=ax[0] , ticks=[cminv,0, cmaxv] )\n",
    "#cb = plt.colorbar( ix, ax=ax[0])\n",
    "cb.set_label('$ms^{-1}$')\n",
    "\n",
    "#ax[0].plot(time/86400, bflux)\n",
    "# ax[0].set_ylabel('$m^2s^{-3}$')\n",
    "ax[0].set_ylabel('Height above\\n bottom (m)')\n",
    "bb = dict(boxstyle='Square', fc='w')\n",
    "ax[0].text(0.25,yl[-1]-loff, 'Cross-slope velocity', fontsize=20, bbox=bb)\n",
    "ax[0].grid()\n",
    "ax[0].set_ylim(yl)\n",
    "\n",
    "\n",
    "# ix = ax[1].contourf(time/86400, z, np.transpose(bz[:,:])/bz[0, 90],np.linspace(cmin, cmax, 26), vmin=cmin, vmax=cmax, cmap='seismic', extend='both')\n",
    "ix = ax[1].contourf(time/86400, z, np.transpose(bm + N**2*np.cos(tht[0,0,0])*z),np.linspace(cmin, cmax, 26), vmin=cmin, vmax=cmax, cmap='seismic', extend='both')\n",
    "\n",
    "cb = plt.colorbar( ix, ax=ax[1] , ticks=[cmin,1, cmax] )\n",
    "cb.set_label('$ms^{-2}$')\n",
    "#cb = plt.colorbar( ix, ax=ax[0])\n",
    "ax[1].plot(time/86400, zm[0] + H)\n",
    "\n",
    "#ax[0].set_xlabel('Days')\n",
    "ax[1].set_ylabel('Height above\\n bottom (m)')#ax[1].set_title('$N^2/N^2_o$')\n",
    "ax[1].set_ylim(yl)\n",
    "ax[1].grid()\n",
    "ax[1].text(0.24, yl[-1]-loff, 'Buoyancy', fontsize=20, bbox=bb)\n",
    "#ax[0].plot(time/86400, -Hd)\n",
    "for c in ix.collections:\n",
    "    c.set_edgecolor(\"face\")\n",
    "ax[1].set_xlabel('Days')\n",
    "\n",
    "# plt.savefig('Overview2_1e-5_0p02.eps', bbox_inches='tight')"
   ]
  },
  {
   "cell_type": "markdown",
   "metadata": {},
   "source": [
    "## Make a cross-frontal slice plot"
   ]
  },
  {
   "cell_type": "code",
   "execution_count": null,
   "metadata": {
    "scrolled": false
   },
   "outputs": [],
   "source": [
    "ti = -1;\n",
    "ti = np.where(time/86400>30)[0][0]\n",
    "ti = -1\n",
    "cmin = -0.01\n",
    "cmax = -cmin\n",
    "\n",
    "fig, ax = plt.subplots(1, 2, sharey=True, figsize=(14, 6), gridspec_kw = {'width_ratios':[4, 1]})\n",
    "ix = ax[0].contourf(x, zm-zm[0], np.transpose(u[ti,:,:]), np.linspace(cmin, cmax, 20), vmin = cmin, vmax =cmax, extend='both')\n",
    "for c in ix.collections:\n",
    "    c.set_edgecolor('face')\n",
    "cbaxes = inset_axes(ax[0], width=\"30%\", height=\"6%\", loc=1, borderpad=0.5, axes_kwargs={'facecolor':'lightgrey'}) \n",
    "\n",
    "cb = plt.colorbar(ix, cax=cbaxes, orientation='horizontal', ticks=[cmin, cmax])\n",
    "cb.set_label('Cross-slope velocity (m/s)', fontsize=18, color='w')\n",
    "cbaxes.tick_params(labelcolor='w', labelsize=18)\n",
    "cb.solids.set_edgecolor(\"face\")\n",
    "\n",
    "ax[0].contour(x, zm-zm[0], np.transpose(bf[ti,:,:]), 50, colors='k')\n",
    "\n",
    "ax[0].set_xlabel('x (m)')\n",
    "ax[0].set_ylim((0, 100))\n",
    "\n",
    "ti = np.where((time/86400>8) & (time/86400<15))[0]\n",
    "\n",
    "RGSP = gspr[:,0,:]/N**2*np.gradient(bm[:,:], axis=-1)/np.gradient(z)\n",
    "\n",
    "# PV FLUX PROFILE using <q'w'> ~ f/H Bek\n",
    "# ax[1].plot(np.mean(np.mean(wq[ti,:,:], axis=1), axis=0), zm-zm[0], label='wq', linewidth=2)\n",
    "\n",
    "# ax[1].axvline(np.mean(1e-4*Bek[ti]/H[ti]), color='k')\n",
    "# ax[1].grid()\n",
    "# ax[1].set_xlabel('$m^2/s^{3}$')\n",
    "# ax[1].legend(loc=9)\n",
    "# ax[1].set_xlim((-1e-14, 1e-14))\n",
    "# ax[0].set_ylabel('Height above bottom (m)')\n",
    "# plt.tight_layout();\n",
    "\n",
    "# ENERGY PROFILES\n",
    "ax[1].plot(np.mean(np.mean(vbfr[ti,:,:], axis=1), axis=0), zm-zm[0], label='VBP', linewidth=2)\n",
    "ax[1].plot(-np.mean(np.mean(sp[ti,:,:], axis=1), 0), zm-zm[0], label='SP', linewidth=2)\n",
    "# ax[1].plot(np.mean(RGSP[ti,:], 0), zm-zm[0], label='SP', linewidth=2)\n",
    "\n",
    "ax[1].plot(np.mean(np.mean(diss[ti,:,:], axis=1), 0), zm-zm[0], label='DISS', linewidth=2)\n",
    "# ax[1].plot(np.mean(np.mean(vbfr[ti,:,:,] - sp[ti,:,:], axis=1), 0), zm-zm[0], label='SP', linewidth=2)\n",
    "# ax[1].plot(np.mean(np.mean(vbfr[ti,:,:,], axis=1)+RGSP[ti,:], 0), zm-zm[0], label='SP', linewidth=2)\n",
    "\n",
    "ax[1].axvline(np.mean(Beka[ti]), color='k', linestyle='dashed', label='BEBF')\n",
    "# ax[1].axvline(np.mean(Bek[ti]/Ri[ti]), color='k', linestyle='dashed')\n",
    "ax[1].grid()\n",
    "ax[1].set_xlabel('$m^2/s^{3}$ ')\n",
    "ax[1].legend(loc=9)\n",
    "ax[1].set_xlim(-1e-8, 1e-8)\n",
    "ax[0].set_ylabel('Height above bottom (m)')\n",
    "plt.tight_layout();\n",
    "\n",
    "# plt.savefig('Slice_1e-5_0p02.eps', bbox_inches='tight')"
   ]
  },
  {
   "cell_type": "code",
   "execution_count": null,
   "metadata": {},
   "outputs": [],
   "source": [
    "plt.plot(time/86400, um[:,6])\n",
    "plt.xlim(0, 2)"
   ]
  },
  {
   "cell_type": "markdown",
   "metadata": {},
   "source": [
    "## ENERGY BUDGET"
   ]
  },
  {
   "cell_type": "code",
   "execution_count": null,
   "metadata": {},
   "outputs": [],
   "source": [
    "#%% Pseudo-GSP Profile Only\n",
    "yl = (-200, -50)\n",
    "xl = (-0.8e-8, 0.8e-8)\n",
    "xl2 = (-2e-8, 2e-8)\n",
    "#yl = (-150, 1)\n",
    "\n",
    "ti = np.where((time/86400>8) & (time/86400<15))[0]\n",
    "fix, ax = plt.subplots(1,2, sharey=True,figsize=(10, 7))\n",
    "\n",
    "#BUOYANCY FLUX TERMS\n",
    "ax[0].set_title('Days: %1.1f - %1.1f' %( time[ti[0]]/86400 , time[ti[-1]]/86400))\n",
    "\n",
    "\n",
    "ax[0].plot(np.mean(np.mean(vbfrot[ti,:,:], axis=1), axis=0), zm, label='$\\langle w^\\prime b^\\prime\\\\rangle$')\n",
    "#plt.plot(-np.mean(gsp[ti,0,:], 0), zm, label='$GSP$')\n",
    "#ax[0].plot(-np.mean(np.mean(gsp[ti,:,:], axis=1), 0), zm, label='$GSP$')\n",
    "#ax[0].plot(-np.mean(np.mean(lsp[ti,:,:], axis=1), 0), zm, label='$LSP$')\n",
    "ax[0].plot(-np.mean(np.mean(gspr[ti,:,:], axis=1), 0), zm, label='$-f^{-1}N^2\\sin\\\\theta\\langle v^\\prime w^\\prime\\\\rangle $')\n",
    "#ax[0].plot(-np.mean(np.mean(gspr[ti,:,:]/(1+N**2/1e-8*np.sin(tht[0,0,0])**2), axis=1), 0), zm, label='$-f^{-1}N^2\\sin\\\\theta\\langle v^\\prime w^\\prime\\\\rangle $')\n",
    "BGSP = gspr/(1+N**2/1e-8*np.sin(tht[0,0,0])**2)\n",
    "#ax[0].plot(-np.mean(np.mean(hbfr[ti,:,:], axis=1), 0), zm, label='$HBf$')\n",
    "ax[0].axvline(-np.mean(Bek[ti]), linestyle='--', label='$B_{EK}$')\n",
    "# ax[0].axvline(-np.mean(Beka[ti]), linestyle='--', label='$B_{EKa}$')\n",
    "\n",
    "#vspt = vspu+vspv \n",
    "#plt.plot(-np.mean(vsp[ti,0,:]-gsp[ti,0,:], 0), zm, label='$ASP$')\n",
    "##plt.plot(-np.mean(np.mean(vsp[ti,:,:], axis=1), 0), zm, label='$VSP$')\n",
    "#ax[0].plot(np.mean(np.mean(diss[ti,:,:], axis=1), 0), zm, label='DISS')\n",
    "#ax[1].plot(np.mean(vbfr[ti,0,:]-gsp[ti,0,:]-lsp[ti,0,:]+0*diss[ti,0,:],0), zm, label = 'SUM', linewidth=3)\n",
    "ax[0].plot(np.mean(vbfrot[ti,0,:]-gspr[ti,0,:]+0*diss[ti,0,:],0), zm, label = 'SUM', linewidth=3)\n",
    "# ax[0].plot(np.mean(vbfrot[ti,0,:]-BGSP[ti,0,:]+0*diss[ti,0,:],0), zm, label = 'SUM', linewidth=3)\n",
    "\n",
    "ax[0].axhline(np.nanmean(h[ti]) + zm[0])\n",
    "\n",
    "#ax[1].plot(np.mean(vbfr[ti,0,:]-sp[ti,0,:]+0*diss[ti,0,:],0), zm, label = 'SUM', linewidth=3)\n",
    "\n",
    "#plt.plot(np.mean(vbfr[ti,0,:]-vsp[ti,0,:]-lsp[ti,0,:]+diss[ti,0,:],0), zm, label = 'SUM')\n",
    "#plt.axhline(-100+np.mean(h[ti]))\n",
    "#plt.plot(np.mean(vbfr[ti,0,:]-vsp[ti,0,:]-lsp[ti,0,:]+diss[ti,0,:],0), zm, label = 'SUM')\n",
    "\n",
    "#plt.plot(-100*np.mean(EKEt[ti,:], 0), zm, label='EKE$_t$', linestyle='--')\n",
    "\n",
    "#ax[1].axvline(-np.mean(BekD[ti]), linestyle='--', label='$B_{EK}^D$')\n",
    "ax[0].set_xlim(xl2)\n",
    "ax[0].set_ylim(yl)\n",
    "ax[0].grid()\n",
    "ax[0].set_xlabel('$m^2/s^{3}$')\n",
    "ax[0].legend()\n",
    "\n",
    "test = gspr[:,0,:]/N**2*np.gradient(bm[:,:], axis=-1)/np.gradient(z)\n",
    "# ENERGETICS\n",
    "ax[1].plot(np.mean(np.mean(vbfr[ti,:,:], axis=1), axis=0), zm, label='$\\langle \\widehat{w}^\\prime \\widehat{b}^\\prime\\\\rangle$', linewidth=2)\n",
    "\n",
    "ax[1].plot(-np.mean(np.mean(sp[ti,:,:], axis=1), 0), zm, label='$SP$', linewidth=2)\n",
    "ax[1].plot(np.mean(np.mean(diss[ti,:,:], axis=1), 0), zm, label='DISS', linewidth=2)\n",
    "ax[1].plot(np.mean(np.mean(-sp[ti,:,:] +vbfr[ti,:,:], axis=1), 0), zm, label='$SUM$', linewidth=2)\n",
    "ax[1].axhline(np.nanmean(h[ti]) + zm[0])\n",
    "\n",
    "ax[1].axvline(-np.mean(Beka[ti]), linestyle='--', label='$B_{EK}^D$')\n",
    "ax[1].set_xlim(xl2)\n",
    "ax[1].set_ylim(yl)\n",
    "ax[1].grid()\n",
    "ax[1].set_xlabel('$m^2/s^{3}$')\n",
    "ax[1].legend(loc=9)"
   ]
  },
  {
   "cell_type": "code",
   "execution_count": null,
   "metadata": {},
   "outputs": [],
   "source": [
    "# Sanity check to confirm EKE budget is closed\n",
    "#%% Plot the depth integrated energy budget (constant depth range)\n",
    "zl = range(0, zm.size)\n",
    "zl = np.where((zm>zm[0]+0) & (zm<zm[0]+200))[0]\n",
    "\n",
    "zd = zm[zl[-1]] - zm[zl[0]]\n",
    "\n",
    "plt.figure(figsize=(10,8))\n",
    "plt.plot(time/86400, integrate.trapz(EKEt[:,zl], x=zm[zl], axis=-1), label='EKE$_t$') # Rate of change of EKE\n",
    "plt.plot(time/86400, integrate.trapz(diss[:,0,zl]+vbfr[:,0,zl]-sp[:,0,zl], x=zm[zl], axis=-1), linestyle='dashed', label='SUM')\n",
    "\n",
    "plt.legend()"
   ]
  },
  {
   "cell_type": "code",
   "execution_count": null,
   "metadata": {},
   "outputs": [],
   "source": [
    "# Sanity check to confirm EKE budget is closed CUMULATIVE\n",
    "#%% Plot the depth integrated energy budget (constant depth range)\n",
    "zl = range(0, zm.size)\n",
    "zl = np.where((zm>zm[0]+0) & (zm<zm[0]+200))[0]\n",
    "\n",
    "zd = zm[zl[-1]] - zm[zl[0]]\n",
    "\n",
    "plt.figure(figsize=(10,8))\n",
    "plt.plot(time/86400, integrate.trapz(EKE[:,0,zl], x=zm[zl], axis=-1), label='EKE$_t$') # Rate of change of EKE\n",
    "plt.plot(time/86400, integrate.cumtrapz(integrate.trapz(diss[:,0,zl]+vbfr[:,0,zl]-sp[:,0,zl], x=zm[zl], axis=-1), x=time, initial=0), linestyle='dashed', label='SUM')\n",
    "\n",
    "plt.legend()"
   ]
  },
  {
   "cell_type": "code",
   "execution_count": null,
   "metadata": {},
   "outputs": [],
   "source": []
  },
  {
   "cell_type": "code",
   "execution_count": null,
   "metadata": {},
   "outputs": [],
   "source": [
    "#%% Plot the depth integrated energy budget (constant depth range)\n",
    "zl = np.where((zm>zm[0]+5) & (zm<zm[0]+200))[0]\n",
    "zd = zm[zl[-1]] - zm[zl[0]]\n",
    "Bekfull = np.zeros((EKEt.shape))\n",
    "Bekfull[:,:] = -Bek[:,np.newaxis]/Ri[:,np.newaxis]*((zm[np.newaxis,:]-zm[0])/(H[:,np.newaxis]) -1 )\n",
    "Bekfull[Bekfull> 0 ] = 0\n",
    "\n",
    "Bekfull[:,:] = -Bek[:,np.newaxis]*((zm[np.newaxis,:]-zm[0])/(H[:,np.newaxis]) -1 )/(1+N**2*np.tan(tht[0,0,0])**2/1e-8)\n",
    "Bekfull[:,:] = -Beka[:,np.newaxis]*((zm[np.newaxis,:]-zm[0])/(H[:,np.newaxis]) -1 )\n",
    "Bekfull[:,:] = -Beka[:,np.newaxis]*(z/(H[:,np.newaxis]) -1 )\n",
    "\n",
    "Bekfull[Bekfull> 0 ] = 0\n",
    "\n",
    "\n",
    "plt.figure(figsize=(10,12))\n",
    "plt.plot(time/86400, integrate.trapz(EKEt[:,zl], x=zm[zl], axis=-1), label='EKE$_t$') # Rate of change of EKE\n",
    "\n",
    "plt.plot(time/86400, integrate.trapz(vbfr[:,0, zl],x=zm[zl], axis=-1 ), label='VBF') # True vertical buoyancy flux\n",
    "plt.plot(time/86400, -integrate.trapz(sp[:,0,zl], x=zm[zl], axis=-1), label = 'SP') # Total shear production\n",
    "\n",
    "RGSP = gspr[:,0,:]/N**2*np.gradient(bm[:,:], axis=-1)/np.gradient(z)\n",
    "plt.plot(time/86400, integrate.trapz(RGSP[:,zl], x=zm[zl], axis=-1), \n",
    "         label = '$\\langle v\\prime w\\prime \\\\rangle b_z\\\\theta$') # Replace the shear production with the RGSP\n",
    "redgsp = -gspr[:,0,:]*1/(RiB[:,np.newaxis])\n",
    "redgsp = -gspr[:,0,:]*1/(1+N**2*np.sin(tht[0,0,0])**2/1e-8)\n",
    "\n",
    "plt.plot(time/86400, integrate.trapz(redgsp[:,zl], x=zm[zl], axis=-1), label = '1/Ri') # Compare with cross-slope mean\n",
    "#deltav = va[:,zl[-1]] - va[:,zl[0]]\n",
    "#test = -gspr[:,0,:]*(1 - (deltav[:,np.newaxis]*np.sin(tht[0,0,0])/(1e-4*zd)))\n",
    "#plt.plot(time/86400, integrate.trapz(test[:,zl], x=zm[zl], axis=-1), label = '$test$')\n",
    "\n",
    "plt.plot(time/86400, -integrate.trapz(Bekfull[:,zl], x=zm[zl], axis=-1), label = '$Bek$') # Compare with expectation from B_ek\n",
    "plt.plot(time/86400, -Beka*(H)/2, label = '$Bek$') # Compare with expectation from B_ek\n",
    "\n",
    "plt.plot(time/86400, integrate.trapz(diss[:,0,zl], x=zm[zl], axis=-1), label = 'DISS')\n",
    "plt.plot(time/86400, integrate.trapz(diss[:,0,zl]+vbfr[:,0,zl] + redgsp[:,zl], x=zm[zl], axis=-1), linestyle='dashed', label='SUM (TEST)')\n",
    "plt.plot(time/86400, integrate.trapz(diss[:,0,zl]+vbfr[:,0,zl]-sp[:,0,zl], x=zm[zl], axis=-1), linestyle='dashed', label='SUM')\n",
    "\n",
    "plt.legend()\n",
    "#plt.ylim((-1e-6, 1e-6))"
   ]
  },
  {
   "cell_type": "code",
   "execution_count": null,
   "metadata": {},
   "outputs": [],
   "source": [
    "z\n",
    "# plt.plot(time/86400,1/(1+S))"
   ]
  },
  {
   "cell_type": "code",
   "execution_count": null,
   "metadata": {},
   "outputs": [],
   "source": [
    "# Look at an example vertical profile, averaged over a timerange\n",
    "ti = np.where((time/86400>10) & (time/86400<15))[0]\n",
    "\n",
    "# plt.plot(np.mean(-Bekfull[ti,:], axis=0), zm, linestyle='dashed')\n",
    "plt.plot(np.mean(Bekfull[ti,:], axis=0), zm, linestyle='dashed')\n",
    "\n",
    "#plt.plot(np.mean(gspr[ti,0,:]*1/(RiB[ti,np.newaxis]), axis=0), zm)\n",
    "plt.plot(np.mean(RGSP[ti,:], axis=0), zm)\n",
    "AGSP = -np.mean(sp, axis=1) - RGSP\n",
    "esi = np.mean(diss, axis=1) - AGSP\n",
    "# plt.plot(np.mean(AGSP[ti,:], axis=0), zm)\n",
    "# plt.plot(np.mean(-sp[ti,0,:], axis=0), zm)\n",
    "plt.plot(np.mean(vbfr[ti,0,:], axis=0), zm)\n",
    "plt.plot(np.mean(diss[ti,0,:], axis=0), zm)\n",
    "# plt.plot(np.mean(esi[ti,:], axis=0), zm)\n",
    "\n",
    "plt.axvline(np.mean(Beka[ti]))\n",
    "# plt.axvline(np.mean(-Beka[ti]))\n",
    "\n",
    "# plt.axhline(np.nanmean(h[ti])+zm[0])\n",
    "# plt.axhline(np.nanmean(H[ti])+zm[0])\n",
    "\n",
    "plt.xlim((-1e-8, 1e-8))\n",
    "plt.ylim((zm[0], zm[0] + 100))"
   ]
  },
  {
   "cell_type": "code",
   "execution_count": null,
   "metadata": {},
   "outputs": [],
   "source": [
    "# Look at Buoyancy arrest of shear production\n",
    "SPI = -integrate.trapz(sp[:,0,zl], x=zm[zl], axis=-1)\n",
    "plt.plot(time*1e-4, SPI, label = 'SP')\n",
    "\n",
    "ind = 200\n",
    "plt.plot(time[ind:]*1e-4,SPI[ind]*exp(-(time[ind:]-time[ind])/tscaleBL))\n",
    "# plt.plot(time[ind:]*1e-4, -Bek[ind:]*H[ind:]/2/(1+S))"
   ]
  },
  {
   "cell_type": "code",
   "execution_count": null,
   "metadata": {},
   "outputs": [],
   "source": [
    "#Ratio of dissipation to bottom drag\n",
    "cd = 1.8e-3\n",
    "S = N**2/1e-8*np.tan(tht[0,0,0])**2\n",
    "# ub = np.abs(np.sqrt(um[:,zind]**2 + (0.1+vm[:,zind])**2))\n",
    "ubt = np.sqrt(ub**2 + vb**2)\n",
    "ubt = np.sqrt(np.sqrt(taux**2 + tauy**2)/(3e-3*1030))\n",
    "zl = np.where((zm>-200) & (zm<zm[0]+200))[0]\n",
    "\n",
    "dissvar = diss[:,0,:] + 0*vbfr[:,0,:]\n",
    "# ub = np.sqrt(np.sqrt(taux**2 + tauy**2)/(1035*2.5e-3))\n",
    "# bdrag = -1030*cd*np.abs(np.sqrt(np.mean(u[:,:,zind]**2 + (0.1+v[:,:,zind])**2, axis=1)))*(vm[:,zind]+0.1)\n",
    "bdrag = -1030*cd*ubt**3/1030\n",
    "bdrag = (ub*taux + vb*tauy)/1035\n",
    "plt.plot(time/86400, integrate.trapz(dissvar[:,zl], x=zm[zl], axis=-1)/bdrag, label = 'DISS/BDRAG')\n",
    "# plt.plot(time*1e-4, bdrag)\n",
    "# plt.plot(time*1e-4, tauy)\n",
    "# plt.plot(time*1e-4, integrate.trapz(diss[:,0,:], x=zm[:], axis=-1)/Bek/((1+S)*2), label = 'DISS')\n",
    "plt.plot(time/86400, np.sqrt(S)*N*H/(2*(1+S)*ubt), label='Scaling')\n",
    "# plt.plot(time/86400, Bek*H/((1+S)*2)/bdrag, label='DissScale/BDRAG')\n",
    "plt.ylim(0, 10)\n",
    "plt.axhline(1)\n",
    "plt.legend()\n",
    "# Cumulative\n",
    "\n",
    "startind = 12\n",
    "plt.figure()\n",
    "plt.plot(time[startind:]/86400, integrate.cumtrapz(bdrag[startind:], x=time[startind:], initial=0), label='Bottom Drag')\n",
    "Bekt = Bek\n",
    "Bekt[~np.isfinite(Bekt)] = 0\n",
    "Ht = H\n",
    "Ht[~np.isfinite(H)] = 0\n",
    "#plt.plot(time[startind:]/86400, integrate.cumtrapz(Bekt[startind:]*Ht[startind:]/(2*(1+S)), x=time[startind:], initial=0), linestyle='dashed')\n",
    "plt.plot(time[startind:]/86400, integrate.cumtrapz(integrate.trapz(dissvar[startind:,zl], x=zm[zl], axis=-1), x=time[startind:], initial=0), label='Dissipation')\n",
    "plt.legend()"
   ]
  },
  {
   "cell_type": "markdown",
   "metadata": {},
   "source": [
    "## SPECTRAL DOMAIN\n"
   ]
  },
  {
   "cell_type": "code",
   "execution_count": null,
   "metadata": {},
   "outputs": [],
   "source": [
    "#%% v'w' and w'b'\n",
    "cmin = -5e-12\n",
    "cmax = -cmin\n",
    "cmin = -13\n",
    "cmax = -10\n",
    "\n",
    "zl = where((zm>zm[0]+0) & (zm<zm[0]+20) )[0]\n",
    "IsoSlope = np.arctan2(N**2*tht[0,0,0],(integrate.trapz(bz[:,zl], x=z[zl], axis=-1)/(z[zl[-1]] - z[zl[0]])))\n",
    "# IsoSlope = np.arctan2((integrate.trapz(bz[:,zl], x=z[zl], axis=-1)/(z[zl[-1]] - z[zl[0]])), - N**2*np.tan(tht[0,0,0]))\n",
    "#IsoSlope = np.tan(tht[0,0,0])/(N**2*np.tan(tht[0,0,0])**2/1e-8)\n",
    "LScale = np.abs(H/IsoSlope)\n",
    "#LScale = np.abs(H/(tht[0,0,0]/(N**2*tht[0,0,0]**2/1e-8)))\n",
    "fig, ax = plt.subplots(2,1,sharex=True, figsize=(14,6))\n",
    "ix = ax[0].contourf(time/86400, kx, np.log10(np.abs(np.transpose(integrate.trapz(np.real(kx[np.newaxis,:,np.newaxis]*wvs[:,:,zl]*N**2*tht[0,0,0]/(1e-4)),x=z[zl], axis=-1))/(zm[zl[-1]]-zm[zl[0]]))), \n",
    "  np.linspace(cmin, cmax, 20), cmap = 'plasma', vmin=cmin, vmax=cmax, extend='both')\n",
    "for c in ix.collections:\n",
    "    c.set_edgecolor('face')\n",
    "ax[0].set_yscale('log')\n",
    "ax[0].set_ylim((kx[1], kx[-1]))\n",
    "ax[0].set_ylabel('$k_x$ (m$^{-1}$)')\n",
    "ax[0].set_title('$|\\widehat{\\langle v''w''\\\\rangle}|$')\n",
    "ax[0].plot(time/86400, 1/H)\n",
    "ax[0].plot(time/86400, 1/h)\n",
    "ax[0].plot(time/86400, 1/LScale)\n",
    "\n",
    "ix = ax[1].contourf(time/86400, kx, np.log10(np.abs(np.transpose(integrate.trapz(np.real(kx[np.newaxis,:,np.newaxis]*wbs[:,:,zl]), x=z[zl],axis=-1))/(zm[zl[-1]] - zm[zl[0]]))), \n",
    "  np.linspace(cmin, cmax, 20), cmap = 'plasma', vmin=cmin, vmax=cmax, extend='both')\n",
    "for c in ix.collections:\n",
    "    c.set_edgecolor('face')\n",
    "ax[1].set_yscale('log')\n",
    "ax[1].set_ylim((kx[1], kx[-1]))\n",
    "ax[1].set_xlabel('Days')\n",
    "ax[1].set_ylabel('$k_x$ (m$^{-1}$)')\n",
    "ax[1].set_title('$|\\widehat{\\langle w''b''\\\\rangle}|$')\n",
    "ax[1].plot(time/86400, 1/H)\n",
    "ax[1].plot(time/86400, 1/h)\n",
    "#ax[1].plot(time/86400, 1/(0.35*H))\n",
    "ax[1].plot(time/86400, 1/LScale)\n",
    "\n",
    "cb = fig.colorbar(ix, ax=ax.ravel().tolist(), shrink=0.95)\n",
    "cb.set_ticks([cmin, cmax])\n",
    "cb.set_label('$log_{10}(m^2s^{-3})$')"
   ]
  },
  {
   "cell_type": "code",
   "execution_count": null,
   "metadata": {},
   "outputs": [],
   "source": [
    "#%% v'w' and w'b'\n",
    "cmin = -5e-12\n",
    "cmax = -cmin\n",
    "cmin = 1e-13\n",
    "cmax = 5e-12\n",
    "\n",
    "nt, nk, nz = wvs.shape\n",
    "LScale = np.zeros((nt,))\n",
    "wvsi = np.zeros((nk,nt))\n",
    "wbsi = np.zeros((nk,nt))\n",
    "\n",
    "for i in range(0,nt):\n",
    "    indl = 0\n",
    "    indu = np.argmin(np.abs(z-H[i]))\n",
    "    if indu == 0:\n",
    "        indu = indl+2\n",
    "    zl = np.arange(indl, indu)\n",
    "    SlopeI = np.arctan2(N**2*tht[0,0,0],N**2+ (bm[i,indu] - bm[i,indl])/(z[indu]-z[indl]))\n",
    "    LScale[i] = np.abs(H[i]/SlopeI)\n",
    "    wvsi[:,i] = np.abs((integrate.trapz(np.real(kx[np.newaxis,:]*wvs[i,:,zl]*N**2*tht[0,0,0]/(1e-4))\n",
    "                                                    ,x=z[zl], axis=0))/(zm[zl[-1]]-zm[zl[0]]))\n",
    "    wbsi[:,i] = np.abs((integrate.trapz(np.real(kx[np.newaxis,:]*wbs[i,:,zl])\n",
    "                                                    ,x=z[zl], axis=0))/(zm[zl[-1]]-zm[zl[0]]))\n",
    "fig, ax = plt.subplots(2,1,sharex=True, figsize=(14,6))\n",
    "ix = ax[0].contourf(time/86400, kx, (wvsi),np.linspace(cmin, cmax, 20), cmap = 'plasma', vmin=cmin, vmax=cmax, extend='both')\n",
    "for c in ix.collections:\n",
    "    c.set_edgecolor('face')\n",
    "ax[0].set_yscale('log')\n",
    "ax[0].set_ylim((kx[1], kx[-1]))\n",
    "ax[0].set_ylabel('$k_x$ (m$^{-1}$)')\n",
    "ax[0].set_title(r'$|\\widehat{\\langle v''w''\\\\rangle}|N^2_\\infty \\\\theta/f$')\n",
    "ax[0].plot(time/86400, 1/H)\n",
    "ax[0].plot(time/86400, 1/h)\n",
    "ax[0].plot(time/86400, 1/LScale)\n",
    "\n",
    "ix = ax[1].contourf(time/86400, kx, (wbsi), np.linspace(cmin, cmax, 20), cmap = 'plasma', vmin=cmin, vmax=cmax, extend='both')\n",
    "for c in ix.collections:\n",
    "    c.set_edgecolor('face')\n",
    "ax[1].set_yscale('log')\n",
    "ax[1].set_ylim((kx[1], kx[-1]))\n",
    "ax[1].set_xlabel('Days')\n",
    "ax[1].set_ylabel('$k_x$ (m$^{-1}$)')\n",
    "ax[1].set_title('$|\\widehat{\\langle w''b''\\\\rangle}|$')\n",
    "ax[1].plot(time/86400, 1/H)\n",
    "ax[1].plot(time/86400, 1/h)\n",
    "#ax[1].plot(time/86400, 1/(0.35*H))\n",
    "ax[1].plot(time/86400, 1/LScale)\n",
    "\n",
    "cb = fig.colorbar(ix, ax=ax.ravel().tolist(), shrink=0.95)\n",
    "cb.set_ticks([cmin, cmax])\n",
    "cb.set_label('$log_{10}(m^2s^{-3})$')\n",
    "\n",
    "#plt.savefig('SpectralFluxes.jpg', bbox_inches='tight')"
   ]
  },
  {
   "cell_type": "code",
   "execution_count": null,
   "metadata": {},
   "outputs": [],
   "source": [
    "# Divide into high/low wavenumber (nt x nz)\n",
    "kcut = np.where(kx<1e-2)[0]\n",
    "kcut = kcut[-1]\n",
    "gsps = -wvs*N**2*tht/1e-4\n",
    "vbfs = wbs\n",
    "gspl = np.sum(gsps[:,1:kcut,:], axis=1)\n",
    "gsph = np.sum(gsps[:,kcut:,:], axis=1)\n",
    "vbfl = np.sum(vbfs[:,1:kcut,:], axis=1)\n",
    "vbfh = np.sum(vbfs[:,kcut:,:], axis=1)\n",
    "\n",
    "vbfh.shape"
   ]
  },
  {
   "cell_type": "code",
   "execution_count": null,
   "metadata": {
    "scrolled": false
   },
   "outputs": [],
   "source": [
    "plt.rcParams['text.usetex'] = True\n",
    "plt.rcParams.update({'font.size': 22})\n",
    "plt.rcParams['mathtext.fontset'] = 'stix'\n",
    "plt.rcParams['font.family'] = 'STIXGeneral'\n",
    "\n",
    "cmin = -2e-9\n",
    "cmax = -cmin\n",
    "zl = 75\n",
    "zoff = 15\n",
    "cmap = 'Spectral_r'\n",
    "fig, ax = plt.subplots(4,1,sharex=True, figsize=(14,10))\n",
    "\n",
    "ax[0].pcolormesh(time/86400, z, np.transpose(vbfl), vmin = cmin, vmax=cmax, cmap=cmap)\n",
    "ax[0].set_ylabel('z [m]')\n",
    "ax[0].set_ylim(0, zl)\n",
    "ax[0].plot(time/86400, H)\n",
    "ax[0].plot(time/86400, h)\n",
    "bb = dict(boxstyle='Square', fc='w')\n",
    "ax[0].text(0.35,zl - zoff, '$VBF_{\\lambda > 100m}$', fontsize=20, bbox=bb)\n",
    "\n",
    "ax[1].pcolormesh(time/86400, z, np.transpose(vbfh), vmin = cmin, vmax=cmax, cmap=cmap)\n",
    "ax[1].set_ylabel('z [m]')\n",
    "ax[1].set_ylim(0, zl)\n",
    "ax[1].plot(time/86400, H)\n",
    "ax[1].plot(time/86400, h)\n",
    "ax[1].text(0.35,zl - zoff, '$VBF_{\\lambda < 100m}$', fontsize=20, bbox=bb)\n",
    "\n",
    "ax[2].pcolormesh(time/86400, z, np.transpose(gspl), vmin = cmin, vmax=cmax, cmap=cmap)\n",
    "ax[2].set_ylabel('z [m]')\n",
    "ax[2].set_ylim(0, zl)\n",
    "ax[2].plot(time/86400, H)\n",
    "ax[2].plot(time/86400, h)\n",
    "ax[2].text(0.35,zl - zoff, '$GSP_{\\lambda > 100m}$', fontsize=20, bbox=bb)\n",
    "\n",
    "im = ax[3].pcolormesh(time/86400, z, np.transpose(gsph), vmin = cmin, vmax=cmax, cmap=cmap)\n",
    "ax[3].set_ylabel('z [m]')\n",
    "ax[3].set_ylim(0, zl)\n",
    "ax[3].plot(time/86400, H)\n",
    "ax[3].plot(time/86400, h)\n",
    "ax[3].set_xlabel('Days')\n",
    "ax[3].text(0.35,zl - zoff, '$GSP_{\\lambda < 100m}$', fontsize=20, bbox=bb)\n",
    "\n",
    "fig.subplots_adjust(right=0.9)\n",
    "cbar_ax = fig.add_axes([0.925, 0.15, 0.025, 0.7])\n",
    "cb = fig.colorbar(im, cax=cbar_ax)\n",
    "cb.set_label('$m^2/s^{-3}$')\n",
    "\n",
    "#plt.savefig('SpecByDepth.jpg', bbox_inches='tight')"
   ]
  },
  {
   "cell_type": "code",
   "execution_count": null,
   "metadata": {},
   "outputs": [],
   "source": [
    "ti = 48*26\n",
    "plt.plot(gspl[ti,:], z)\n",
    "plt.plot(gsph[ti,:], z)\n",
    "plt.plot(gspl[ti,:] + gsph[ti,:], z)\n",
    "plt.axhline(h[ti])"
   ]
  },
  {
   "cell_type": "code",
   "execution_count": null,
   "metadata": {},
   "outputs": [],
   "source": [
    "IsoSlope = np.arctan2(N**2*tht[0,0,0],(integrate.trapz(bz[:,zl], x=z[zl], axis=-1)/(z[zl[-1]] - z[zl[0]])))\n",
    "IsoSlope = np.arctan2(N**2*tht[0,0,0],N**2+ (bm[:,zl[-1]] - bm[:,zl[0]])/(z[zl[-1]]-z[zl[0]]))\n",
    "LScale = np.abs(H/IsoSlope)\n",
    "plt.semilogy(time/86400, 1/LScale)\n",
    "#plt.plot(time/86400, np.abs(H/(IsoSlope)))\n",
    "S2 = N**2*tht[0,0,0]**2/1e-8\n",
    "LscaleE = 0.6*0.1/1e-4*(1+S2)\n",
    "\n",
    "plt.axhline(1/LscaleE)\n",
    "plt.plot(time/86400, 1/np.abs(H/(tht[0,0,0]/S2)))\n",
    "ind = np.where(H>50)[0][0]\n",
    "plt.axvline(time[ind]/86400)\n"
   ]
  },
  {
   "cell_type": "markdown",
   "metadata": {},
   "source": [
    "## Predict H and $\\tau$ "
   ]
  },
  {
   "cell_type": "code",
   "execution_count": 612,
   "metadata": {},
   "outputs": [
    {
     "data": {
      "text/plain": [
       "[<matplotlib.lines.Line2D at 0x2b1554036940>]"
      ]
     },
     "execution_count": 612,
     "metadata": {},
     "output_type": "execute_result"
    },
    {
     "data": {
      "image/png": "[encoded data removed]",
      "text/plain": [
       "<Figure size 432x288 with 1 Axes>"
      ]
     },
     "metadata": {
      "needs_background": "light"
     },
     "output_type": "display_data"
    }
   ],
   "source": [
    "# Compare theory H to H\n",
    "nt = BekD.shape[0]\n",
    "\n",
    "toff = 12*2 # Starting timestep\n",
    "Ho = 14 # Pick a starting depth (not necessarily starting at t=0, H=0)\n",
    "\n",
    "toff = 24*1\n",
    "Ho = H[toff]\n",
    "Ent = 1.0 # Entrainment factor...\n",
    "cd = 2.e-3\n",
    "cd = 1.25e-3\n",
    "Vi = 0.1\n",
    "H2 = np.zeros((nt, )) \n",
    "for i in range(toff, nt):\n",
    "    #Bektheory = -1035*cd*(Vi - *N**2*tht/(1e-4*(1+N**2*tht**2/1e-8)))**2*N**2*tht/(1e-4)\n",
    "    #H2[i] = H2[i-1]+(2*Ent*-Bek[i]/(N**2))*(time[i]-time[i-1])\n",
    "    H2[i] = H2[i-1]+2*cd*tht/1e-4*(Vi - np.sqrt(H2[i-1]+Ho**2)*N**2*tht/(1e-4*(1+N**2*tht**2/1e-8)))**2*(time[i]-time[i-1])\n",
    "HT = np.sqrt(Ho**2 + H2)\n",
    "HT[0:toff] = np.nan\n",
    "plt.plot(time/86400, H)\n",
    "plt.plot(time/86400, HT)"
   ]
  },
  {
   "cell_type": "code",
   "execution_count": 611,
   "metadata": {},
   "outputs": [],
   "source": [
    "tht = tht[0,0,0]"
   ]
  },
  {
   "cell_type": "code",
   "execution_count": 613,
   "metadata": {},
   "outputs": [
    {
     "data": {
      "text/plain": [
       "[<matplotlib.lines.Line2D at 0x2b15540b0828>]"
      ]
     },
     "execution_count": 613,
     "metadata": {},
     "output_type": "execute_result"
    },
    {
     "data": {
      "image/png": "[encoded data removed]",
      "text/plain": [
       "<Figure size 432x288 with 1 Axes>"
      ]
     },
     "metadata": {
      "needs_background": "light"
     },
     "output_type": "display_data"
    }
   ],
   "source": [
    "#cd = 2e-3\n",
    "plt.plot(tauy)\n",
    "tautheory = -1035*cd*(Vi - HT*N**2*tht/(1e-4*(1+N**2*tht**2/1e-8)))**2\n",
    "plt.plot(tautheory)\n"
   ]
  },
  {
   "cell_type": "markdown",
   "metadata": {},
   "source": [
    "\n",
    "\\begin{equation}\n",
    "u^* = \\sqrt{c_d}\\left(V_\\infty - \\frac{HN^2\\theta}{f(1+S^2_\\infty)}\\right)\n",
    "\\end{equation}\n",
    "\\begin{equation}\n",
    "\\sqrt{ c_d} \\frac{HN^2\\theta}{f(1+S^2_\\infty)} = -u^* + \\sqrt{ c_d}V_\\infty\n",
    "\\end{equation}\n",
    "let $\\gamma^{-1} = \\frac{\\sqrt{c_d} N^2\\theta}{f(1+S^2_\\infty)} = \\sqrt{c_d}v^g_z$\n",
    "\\begin{equation}\n",
    " H = -\\gamma\\left(u^* - \\sqrt{c_d}V_\\infty\\right)\n",
    "\\end{equation}\n",
    "\\begin{equation}\n",
    " H^2 = \\gamma^2\\left(u^{*2} - 2u^*\\sqrt{c_d}V_\\infty +  c_d V_\\infty^2\\right)\n",
    "\\end{equation}\n",
    "Using \n",
    "\\begin{equation}\n",
    "\\frac{\\partial H^2}{\\partial t} = -2\\frac{\\tau \\theta}{\\rho f}\n",
    "\\end{equation}\n",
    "\\begin{equation}\n",
    "\\gamma^2 \\frac{\\partial u^{*2}}{\\partial t} - 2\\gamma^2\\sqrt{c_d}V_\\infty\\frac{\\partial u^*}{\\partial t} = -2\\frac{u^{*2} \\theta}{f}\n",
    "\\end{equation}\n",
    "\\begin{equation}\n",
    "\\frac{\\partial u^{*2}}{\\partial t} - 2\\sqrt{c_d}V_\\infty\\frac{\\partial u^*}{\\partial t} = -2u^{*2}\\frac{{c_d} N^4\\theta^2}{f^2(1+S^2_\\infty)^2}\\frac{\\theta}{f}\n",
    "\\end{equation}\n",
    "\\begin{equation}\n",
    "\\frac{\\partial u^{*2}}{\\partial t} - 2\\sqrt{ c_d}V_\\infty\\frac{\\partial u^*}{\\partial t} = -2u^{*2}\\frac{{ c_d} S^2_\\infty}{(1+S^2_\\infty)^2}\\frac{N^2\\theta}{f}\n",
    "\\end{equation}\n",
    "\n",
    "Using Wolframalpha this appears to be equivalent to,\n",
    "\n",
    "\\begin{equation}\n",
    "\\frac{\\partial u^{*2}}{\\partial t}\\left( \\frac{1}{u^{*2}} - \\frac{\\sqrt{ c_d}V_\\infty}{u^{*3}}\\right) = 2\\frac{ c_d S^2_\\infty}{(1+S^2_\\infty)^2}\\frac{N^2\\theta}{f}\n",
    "\\end{equation}\n",
    "or,\n",
    "\\begin{equation}\n",
    "\\frac{\\partial u^{*2}}{\\partial t}\\frac{1}{u^{*2}}\\left( 1 - \\frac{\\sqrt{ c_d}V_\\infty}{u^{*}}\\right) = 2\\frac{ c_d S^2_\\infty}{(1+S^2_\\infty)^2}\\frac{N^2\\theta}{f}\n",
    "\\end{equation}\n"
   ]
  },
  {
   "cell_type": "code",
   "execution_count": 614,
   "metadata": {
    "scrolled": false
   },
   "outputs": [
    {
     "ename": "ValueError",
     "evalue": "operands could not be broadcast together with shapes (1919,) (2160,) ",
     "output_type": "error",
     "traceback": [
      "\u001b[0;31m---------------------------------------------------------------------------\u001b[0m",
      "\u001b[0;31mValueError\u001b[0m                                Traceback (most recent call last)",
      "\u001b[0;32m<ipython-input-614-c78ffb73f893>\u001b[0m in \u001b[0;36m<module>\u001b[0;34m()\u001b[0m\n\u001b[1;32m     40\u001b[0m \u001b[0;31m#tauMR91  = 2*H/do/(S2*1e-4)\u001b[0m\u001b[0;34m\u001b[0m\u001b[0;34m\u001b[0m\u001b[0;34m\u001b[0m\u001b[0m\n\u001b[1;32m     41\u001b[0m \u001b[0;31m#tauMR91 = 86400*35\u001b[0m\u001b[0;34m\u001b[0m\u001b[0;34m\u001b[0m\u001b[0;34m\u001b[0m\u001b[0m\n\u001b[0;32m---> 42\u001b[0;31m \u001b[0mtest\u001b[0m \u001b[0;34m=\u001b[0m \u001b[0;34m(\u001b[0m\u001b[0;34m(\u001b[0m\u001b[0mtime\u001b[0m\u001b[0;34m[\u001b[0m\u001b[0;36m1\u001b[0m\u001b[0;34m:\u001b[0m\u001b[0;34m]\u001b[0m\u001b[0;34m-\u001b[0m\u001b[0mtime\u001b[0m\u001b[0;34m[\u001b[0m\u001b[0mtoff\u001b[0m\u001b[0;34m]\u001b[0m\u001b[0;34m)\u001b[0m\u001b[0;34m/\u001b[0m\u001b[0mtauMR91\u001b[0m\u001b[0;34m)\u001b[0m\u001b[0;34m**\u001b[0m\u001b[0;34m(\u001b[0m\u001b[0;34m-\u001b[0m\u001b[0;36m1\u001b[0m\u001b[0;34m/\u001b[0m\u001b[0;36m2\u001b[0m\u001b[0;34m)\u001b[0m\u001b[0;34m\u001b[0m\u001b[0;34m\u001b[0m\u001b[0m\n\u001b[0m\u001b[1;32m     43\u001b[0m \u001b[0mplt\u001b[0m\u001b[0;34m.\u001b[0m\u001b[0mplot\u001b[0m\u001b[0;34m(\u001b[0m\u001b[0mtime\u001b[0m\u001b[0;34m[\u001b[0m\u001b[0;36m1\u001b[0m\u001b[0;34m:\u001b[0m\u001b[0;34m]\u001b[0m\u001b[0;34m/\u001b[0m\u001b[0;36m86400\u001b[0m\u001b[0;34m,\u001b[0m \u001b[0;36m0.003\u001b[0m\u001b[0;34m*\u001b[0m\u001b[0;34m(\u001b[0m\u001b[0mtauMR91\u001b[0m\u001b[0;34m/\u001b[0m\u001b[0mtime\u001b[0m\u001b[0;34m[\u001b[0m\u001b[0;36m1\u001b[0m\u001b[0;34m:\u001b[0m\u001b[0;34m]\u001b[0m\u001b[0;34m)\u001b[0m\u001b[0;34m**\u001b[0m\u001b[0;34m(\u001b[0m\u001b[0;36m1\u001b[0m\u001b[0;34m/\u001b[0m\u001b[0;36m2\u001b[0m\u001b[0;34m)\u001b[0m\u001b[0;34m/\u001b[0m\u001b[0;36m10\u001b[0m\u001b[0;34m)\u001b[0m\u001b[0;34m\u001b[0m\u001b[0;34m\u001b[0m\u001b[0m\n\u001b[1;32m     44\u001b[0m \u001b[0;31m#plt.plot(time/86400, ustar2[toff]*np.exp(-time*RHSfactor))\u001b[0m\u001b[0;34m\u001b[0m\u001b[0;34m\u001b[0m\u001b[0;34m\u001b[0m\u001b[0m\n",
      "\u001b[0;31mValueError\u001b[0m: operands could not be broadcast together with shapes (1919,) (2160,) "
     ]
    },
    {
     "data": {
      "image/png": "[encoded data removed]",
      "text/plain": [
       "<Figure size 864x720 with 1 Axes>"
      ]
     },
     "metadata": {
      "needs_background": "light"
     },
     "output_type": "display_data"
    }
   ],
   "source": [
    "# Compare theory stress  to stress\n",
    "nt = BekD.shape[0]\n",
    "\n",
    "\n",
    "toff = 48*2\n",
    "ustar2o = tauy[toff]/1035\n",
    "cd = 2e-3\n",
    "cd = 1.e-3\n",
    "Vi = 0.1\n",
    "ustar2 = np.zeros((nt, )) \n",
    "S2 = N**2*tht**2/1e-8\n",
    "ustar2[toff-1] = -ustar2o\n",
    "ustar2[toff-1] = 0.0033**2\n",
    "ustartest = np.zeros((nt,))\n",
    "ustartest[toff-1] = 0.0021\n",
    "vgz = N**2*tht/(1e-4*(1+S2))\n",
    "for i in range(toff, nt):\n",
    "    LHSfactor = 2/ustar2[i-1] - 2*np.sqrt(cd)*Vi/(ustar2[i-1]**(3/2))\n",
    "    RHSfactor = cd*S2*N**2*tht/((1+S2)**2*1e-4)\n",
    "    RHSfactor = 2*cd*vgz**2*tht/1e-4\n",
    "    deltaT = time[i] - time[i-1]\n",
    "    ustar2[i] = ustar2[i-1]+LHSfactor**(-1)*RHSfactor*deltaT\n",
    "    LHSfactor = 2/ustartest[i-1] -2*np.sqrt(cd)*Vi/ustartest[i-1]**2\n",
    "    ustartest[i] = ustartest[i-1]+LHSfactor**(-1)*RHSfactor*deltaT\n",
    "    #ustar2[i] = ustar2[i-1]+ 2*np.sqrt(cd)*0.1*np.sqrt(ustar2[i-1])-ustar2[i-1]*cd*S2*N**2*tht/(1e-4*(1+S2)**2)*deltaT\n",
    "ustar2[0:toff] = np.nan\n",
    "ustartest[0:toff] = np.nan\n",
    "c1 = 0\n",
    "a = np.sqrt(cd)*Vi\n",
    "b = RHSfactor/2\n",
    "prologarg =a*np.exp(b*time + c1)\n",
    "ic = (-a/(special.lambertw(prologarg[0])))**(-1)*np.sqrt(ustar2[toff])\n",
    "ustarsol = -a/(special.lambertw(prologarg))*ic\n",
    "plt.figure(figsize=(12,10))\n",
    "plt.plot(time/86400, np.sqrt(-tauy/1035))\n",
    "#plt.plot(time/86400, np.sqrt(ustar2))\n",
    "#plt.plot(time/86400, ustarsol)\n",
    "plt.plot(time/86400, ustartest)\n",
    "do = np.abs(us)/1e-4\n",
    "#tauMR91  = 2*H/do/(S2*1e-4)\n",
    "#tauMR91 = 86400*35\n",
    "test = ((time[1:]-time[toff])/tauMR91)**(-1/2)\n",
    "plt.plot(time[1:]/86400, 0.003*(tauMR91/time[1:])**(1/2)/10)\n",
    "#plt.plot(time/86400, ustar2[toff]*np.exp(-time*RHSfactor))\n",
    "plt.grid()"
   ]
  },
  {
   "cell_type": "code",
   "execution_count": 367,
   "metadata": {},
   "outputs": [
    {
     "name": "stderr",
     "output_type": "stream",
     "text": [
      "/usr/local/anaconda3/lib/python3.6/site-packages/ipykernel_launcher.py:1: RuntimeWarning: divide by zero encountered in power\n",
      "  \"\"\"Entry point for launching an IPython kernel.\n",
      "/usr/local/anaconda3/lib/python3.6/site-packages/ipykernel_launcher.py:1: RuntimeWarning: invalid value encountered in power\n",
      "  \"\"\"Entry point for launching an IPython kernel.\n",
      "/usr/local/anaconda3/lib/python3.6/site-packages/ipykernel_launcher.py:1: RuntimeWarning: invalid value encountered in multiply\n",
      "  \"\"\"Entry point for launching an IPython kernel.\n"
     ]
    },
    {
     "data": {
      "text/plain": [
       "0.0"
      ]
     },
     "execution_count": 367,
     "metadata": {},
     "output_type": "execute_result"
    }
   ],
   "source": [
    "\n"
   ]
  },
  {
   "cell_type": "code",
   "execution_count": 481,
   "metadata": {},
   "outputs": [
    {
     "data": {
      "text/plain": [
       "88.61400462962969"
      ]
     },
     "execution_count": 481,
     "metadata": {},
     "output_type": "execute_result"
    }
   ],
   "source": [
    "TBL = (1+S2)*(1+S2)/(2*1e-4*0.4**2*cd*N/1e-4*S2**(3/2))\n",
    "TBL/86400"
   ]
  },
  {
   "cell_type": "code",
   "execution_count": 467,
   "metadata": {},
   "outputs": [
    {
     "data": {
      "text/plain": [
       "1.3999999999999997"
      ]
     },
     "execution_count": 467,
     "metadata": {},
     "output_type": "execute_result"
    }
   ],
   "source": [
    "# Note that the Brink and Lentz formulation of the modifier for the BL depth (their equation 22, 23) is the same \n",
    "Rib = (1+S2) # This is the critical Ri number for PV = 0 (with v_x < 0)\n",
    "(1+(1+4*Rib*S2)**(1/2))/2 # Brink and Lentz Gamma function\n",
    "\n",
    "(1+S2) # Comes directly from assuming that PV = 0"
   ]
  },
  {
   "cell_type": "code",
   "execution_count": 456,
   "metadata": {},
   "outputs": [],
   "source": [
    "tht = tht[0,0,0]"
   ]
  },
  {
   "cell_type": "markdown",
   "metadata": {},
   "source": [
    "## EXTRAS"
   ]
  },
  {
   "cell_type": "markdown",
   "metadata": {},
   "source": [
    "Notice that the equation for the PV=0 layer depth gives,\n",
    "\\begin{equation}\n",
    "\\frac{\\partial H^2}{\\partial t} = - \\frac{\\tau^y\\theta}{\\rho}\n",
    "\\end{equation}\n",
    "This can then be rearranged to give an equation for the stress in terms of the BBL height. \n",
    "\n",
    "Noting that the depth integrated SI dissipation is,\n",
    "\\begin{equation}\n",
    "\\int_0^H \\epsilon \\approx \\frac{H}{2}EBF_s\n",
    "\\end{equation}\n",
    "allows the depth integrated dissipation to be written as,\n",
    "\n",
    "\\begin{equation}\n",
    "\\int_0^H \\epsilon \\approx \\frac{1}{6}\\frac{\\partial H^3}{\\partial t}\\frac{N^2}{1+S^2_\\infty}\n",
    "\\end{equation}\n",
    "\n",
    "This can then be integrated in time until the arrested Ekman depth is achieved, $H_a = V_\\infty f (1+S^2_\\infty)/N^2\\theta$. Giving the total dissipation during arrest as,\n",
    "\n",
    "\\begin{equation}\n",
    "\\int_0^\\infty \\int_0^H \\epsilon\\;dz dt \\approx \\frac{1}{6}H_a^3\\frac{N^2}{1+S^2_\\infty}\n",
    "\\end{equation}\n",
    "\n",
    "\\begin{equation}\n",
    "\\int_0^\\infty \\int_0^H \\epsilon\\;dz dt \\approx \\frac{1}{6}\\frac{V_i^3f^3(1+S^2_\\infty)^3}{N^6\\theta^3}\\frac{N^2}{1+S^2_\\infty}\n",
    "\\end{equation}\n",
    "\n",
    "\\begin{equation}\n",
    "\\int_0^\\infty \\int_0^H \\epsilon\\;dz dt \\approx \\frac{1}{6}\\frac{V_i^3(1+S^2_\\infty)^2}{N_\\infty S_\\infty^3}\n",
    "\\end{equation}"
   ]
  },
  {
   "cell_type": "code",
   "execution_count": 637,
   "metadata": {},
   "outputs": [],
   "source": [
    "DISS = f['tasks']['Diss'][:,0,:]\n",
    "DISS.shape\n",
    "\n",
    "DISSi = integrate.trapz(DISS, axis=-1, x=z)\n",
    "DISSti = integrate.cumtrapz(DISSi, x=time, initial=0)\n",
    "DISSti.shape\n",
    "\n",
    "# calculate mean flow dissipation\n",
    "uzm = np.gradient(um, axis=-1)/np.gradient(z)\n",
    "vzm = np.gradient(vm, axis=-1)/np.gradient(z)\n",
    "wzm = np.gradient(np.mean(w, axis=1), axis=-1)/np.gradient(z)\n",
    "vgzm = -np.gradient(bm, axis=-1)/np.gradient(z)*tht/1e-4\n",
    "MDISS = 1e-4*(uzm**2 + vzm**2 + wzm**2)\n",
    "\n",
    "MDISSi = integrate.trapz(MDISS, axis=-1, x=z)\n",
    "MDISSti = integrate.cumtrapz(MDISSi, x=time, initial=0)"
   ]
  },
  {
   "cell_type": "code",
   "execution_count": 636,
   "metadata": {},
   "outputs": [
    {
     "data": {
      "text/plain": [
       "[<matplotlib.lines.Line2D at 0x2b155462b128>]"
      ]
     },
     "execution_count": 636,
     "metadata": {},
     "output_type": "execute_result"
    },
    {
     "data": {
      "image/png": "[encoded data removed]",
      "text/plain": [
       "<Figure size 432x288 with 1 Axes>"
      ]
     },
     "metadata": {
      "needs_background": "light"
     },
     "output_type": "display_data"
    }
   ],
   "source": [
    "plt.plot(integrate.trapz(wzm**2, axis=-1, x=z))"
   ]
  },
  {
   "cell_type": "code",
   "execution_count": 616,
   "metadata": {},
   "outputs": [
    {
     "data": {
      "image/png": "[encoded data removed]",
      "text/plain": [
       "<Figure size 432x288 with 1 Axes>"
      ]
     },
     "metadata": {
      "needs_background": "light"
     },
     "output_type": "display_data"
    }
   ],
   "source": [
    "plt.plot(time/86400, integrate.trapz(vzm**2, x=z, axis=-1))\n",
    "plt.plot(time/86400, integrate.trapz(vgzm**2, x=z, axis=-1))\n",
    "plt.plot(time/86400, integrate.trapz((vzm-vgzm)**2, x=z, axis=-1))\n",
    "\n",
    "#plt.plot(time/86400, 200*((0.1)**2/(H+1)**2))\n",
    "#plt.plot(time/86400, (200/(H+1)*(N**2*tht/(1e-4*(1+S2))))**2 + 0*H)\n",
    "#plt.ylim(0,1e-2)\n",
    "plt.grid()"
   ]
  },
  {
   "cell_type": "code",
   "execution_count": 628,
   "metadata": {},
   "outputs": [
    {
     "data": {
      "text/plain": [
       "[<matplotlib.lines.Line2D at 0x2b1554496cc0>]"
      ]
     },
     "execution_count": 628,
     "metadata": {},
     "output_type": "execute_result"
    },
    {
     "data": {
      "image/png": "[encoded data removed]",
      "text/plain": [
       "<Figure size 432x288 with 1 Axes>"
      ]
     },
     "metadata": {
      "needs_background": "light"
     },
     "output_type": "display_data"
    }
   ],
   "source": [
    "plt.semilogy(time/86400, -tauy)\n",
    "plt.plot(time/86400, 1035*1e-4/(2*tht)*np.gradient(H**2)/np.gradient(time))\n"
   ]
  },
  {
   "cell_type": "code",
   "execution_count": 627,
   "metadata": {},
   "outputs": [
    {
     "data": {
      "text/plain": [
       "[<matplotlib.lines.Line2D at 0x2b1554447d68>]"
      ]
     },
     "execution_count": 627,
     "metadata": {},
     "output_type": "execute_result"
    },
    {
     "data": {
      "image/png": "[encoded data removed]",
      "text/plain": [
       "<Figure size 432x288 with 1 Axes>"
      ]
     },
     "metadata": {
      "needs_background": "light"
     },
     "output_type": "display_data"
    }
   ],
   "source": [
    "S2= N**2*tht**2/1e-8\n",
    "plt.plot(time/86400, Beka*H/2)\n",
    "plt.plot(time/86400, -1/2*1/3*1e-4/(tht)*np.gradient(H**3)/np.gradient(time) * N**2*tht/(1e-4*(1+S2)))"
   ]
  },
  {
   "cell_type": "code",
   "execution_count": 626,
   "metadata": {},
   "outputs": [
    {
     "data": {
      "image/png": "[encoded data removed]",
      "text/plain": [
       "<Figure size 432x288 with 1 Axes>"
      ]
     },
     "metadata": {
      "needs_background": "light"
     },
     "output_type": "display_data"
    }
   ],
   "source": [
    "Htemp = H\n",
    "Htemp[np.isnan(H)] = 0\n",
    "plt.plot(time/86400, integrate.cumtrapz(Beka*Htemp/2, x=time, initial=0))\n",
    "dissscale = -1/2*1/3*1e-4/(tht)*np.gradient(Htemp**3)/np.gradient(time) * N**2*tht/(1e-4*(1+S2))\n",
    "plt.plot(time/86400, integrate.cumtrapz(dissscale, x=time, initial=0), linestyle='--')\n",
    "Vi = 0.1\n",
    "harrest = Vi/(N**2*tht/(1e-4*(1+S2)))\n",
    "#dissscalemax = -1/2*1/3*1e-4/(tht)*harrest**3 * N**2*tht/(1e-4*(1+S2))\n",
    "#dissscalemax = -1/6*harrest**3 *N**2/(1+S2)\n",
    "#plt.axhline(dissscalemax)\n",
    "dissscalemax = -1/6*Vi**3*(1+S2)**2/(N*S2**(3/2))\n",
    "plt.axhline(dissscalemax, color='r', linestyle='--')\n",
    "Ti = 2*np.pi/1e-4\n",
    "#plt.axhline(-10*Ti*Vi**3/1035) # Trying the Umlauf et al. 2015 formulation"
   ]
  },
  {
   "cell_type": "markdown",
   "metadata": {},
   "source": [
    "Ratio of bottom drag on interior flow to SI dissipation\n",
    "\n",
    "Bottom drag goes as $V_i \\tau^y$. SI dissipation goes as $\\frac{1}{6}\\frac{\\partial H^3}{\\partial t}\\frac{N^2}{1+S^2_\\infty}$. \n",
    "\n",
    "Using the rate of change of H, the bottom drag can be written as ,\n",
    "\\begin{equation}\n",
    "DRAG = V_i \\frac{f}{2\\theta}\\frac{\\partial H^2}{\\partial t}.\n",
    "\\end{equation}\n",
    "\n",
    "So the time integrated drag is,\n",
    "\\begin{equation}\n",
    "\\int_o^T DRAG = V_i \\frac{f}{2\\theta}H^2(T).\n",
    "\\end{equation}\n",
    "and the time integrated SI dissipation is,\n",
    "\\begin{equation}\n",
    "DISS_{SI} = \\frac{1}{6}H^3(T)\\frac{N^2}{1+S^2_\\infty}\n",
    "\\end{equation}\n",
    "Hence the ratio of the two is,\n",
    "\\begin{equation}\n",
    "\\frac{DISS_{SI}}{DRAG} = \\frac{1}{3}\\frac{H(T) N^2 \\theta}{V_i f(1+S^2_\\infty)}\n",
    "\\end{equation}\n",
    "Note that this is $(1/3)V^g/V_i$, such that if $T=T_E$ the ratio is $1/3$."
   ]
  },
  {
   "cell_type": "code",
   "execution_count": 638,
   "metadata": {},
   "outputs": [
    {
     "name": "stderr",
     "output_type": "stream",
     "text": [
      "/usr/local/anaconda3/lib/python3.6/site-packages/ipykernel_launcher.py:15: RuntimeWarning: invalid value encountered in true_divide\n",
      "  from ipykernel import kernelapp as app\n",
      "/usr/local/anaconda3/lib/python3.6/site-packages/ipykernel_launcher.py:16: RuntimeWarning: invalid value encountered in true_divide\n",
      "  app.launch_new_instance()\n"
     ]
    },
    {
     "name": "stdout",
     "output_type": "stream",
     "text": [
      "Q ratio: 0.5\n",
      "Q ratio no SI: 2.1\n"
     ]
    },
    {
     "data": {
      "image/png": "[encoded data removed]",
      "text/plain": [
       "<Figure size 720x432 with 1 Axes>"
      ]
     },
     "metadata": {
      "needs_background": "light"
     },
     "output_type": "display_data"
    }
   ],
   "source": [
    "plt.figure(figsize=(10,6))\n",
    "plt.plot(time/86400, -DISSti, label='Dissipation')\n",
    "plt.plot(time/86400, MDISSti, label='Mean Dissipation')\n",
    "plt.plot(time/86400, MDISSti-DISSti, label='Diss Sum')\n",
    "plt.plot(time/86400, integrate.cumtrapz(200*1e-4*(0.1/(200+0*H))**2, x=time, initial=0))\n",
    "BDRAG = integrate.cumtrapz(-0.1*tauy/1035, x=time, initial=0)\n",
    "plt.plot(time/86400, BDRAG, label='Bottom Drag')\n",
    "plt.plot(time/86400, 1/6*H**3*N**2/(1+N**2*tht**2/1e-8), label='SI Dissipation')\n",
    "\n",
    "plt.grid()\n",
    "plt.legend()\n",
    "\n",
    "#Q efficiency is bottom drag minus total dissipation over total dissipation\n",
    "ts = np.argmin(np.abs(time/86400 - 14))\n",
    "print('Q ratio: %1.1f'%((BDRAG - (MDISSti-DISSti))/(MDISSti-DISSti))[ts])\n",
    "print('Q ratio no SI: %1.1f'%((BDRAG - (MDISSti))/(MDISSti))[ts])"
   ]
  },
  {
   "cell_type": "code",
   "execution_count": 620,
   "metadata": {},
   "outputs": [
    {
     "data": {
      "text/plain": [
       "0.08921166232506178"
      ]
     },
     "execution_count": 620,
     "metadata": {},
     "output_type": "execute_result"
    }
   ],
   "source": [
    "H[-1]*N**2*tht/(1e-4*(1+S2))"
   ]
  },
  {
   "cell_type": "code",
   "execution_count": 474,
   "metadata": {},
   "outputs": [
    {
     "data": {
      "text/plain": [
       "<matplotlib.lines.Line2D at 0x2b0ab699a4a8>"
      ]
     },
     "execution_count": 474,
     "metadata": {},
     "output_type": "execute_result"
    },
    {
     "data": {
      "image/png": "[encoded data removed]",
      "text/plain": [
       "<Figure size 432x288 with 1 Axes>"
      ]
     },
     "metadata": {
      "needs_background": "light"
     },
     "output_type": "display_data"
    }
   ],
   "source": [
    "plt.plot(time/86400, H)\n",
    "plt.axhline(harrest)"
   ]
  },
  {
   "cell_type": "code",
   "execution_count": 469,
   "metadata": {},
   "outputs": [
    {
     "name": "stderr",
     "output_type": "stream",
     "text": [
      "/usr/local/anaconda3/lib/python3.6/site-packages/ipykernel_launcher.py:6: RuntimeWarning: divide by zero encountered in true_divide\n",
      "  \n"
     ]
    },
    {
     "data": {
      "text/plain": [
       "Text(0,0.5,'N/f')"
      ]
     },
     "execution_count": 469,
     "metadata": {},
     "output_type": "execute_result"
    },
    {
     "data": {
      "image/png": "[encoded data removed]",
      "text/plain": [
       "<Figure size 432x288 with 2 Axes>"
      ]
     },
     "metadata": {
      "needs_background": "light"
     },
     "output_type": "display_data"
    }
   ],
   "source": [
    "# Consider parameter space\n",
    "\n",
    "Ssq = np.linspace(0, 3, 200)\n",
    "Nif = np.linspace(1e-1, 100, 250)\n",
    "\n",
    "plt.contourf(Ssq, Nif, np.transpose(np.log10(1/6*(1+Ssq[:,np.newaxis]**2)**2/(Nif[np.newaxis,:]*Ssq[:,np.newaxis]**3))), cmap='plasma')#normalized by Vi^3\n",
    "cb = plt.colorbar()\n",
    "cb.set_label('$\\epsilon/(V_i^3/f)$')\n",
    "plt.xlabel('Slope Burger Number')\n",
    "plt.ylabel('N/f')\n"
   ]
  },
  {
   "cell_type": "code",
   "execution_count": 507,
   "metadata": {},
   "outputs": [
    {
     "data": {
      "text/plain": [
       "Text(0.5,0,'$S_\\\\infty$')"
      ]
     },
     "execution_count": 507,
     "metadata": {},
     "output_type": "execute_result"
    },
    {
     "data": {
      "image/png": "[encoded data removed]",
      "text/plain": [
       "<Figure size 432x288 with 1 Axes>"
      ]
     },
     "metadata": {
      "needs_background": "light"
     },
     "output_type": "display_data"
    }
   ],
   "source": [
    "# Increasing the stratification by a factor of (1+S2) in the boundary layer makes H_a bigger by the same, hence increases\n",
    "# integrated dissipation by factor of (1+S2)**3\n",
    "Ssq = np.linspace(0, 3, 100)\n",
    "plt.semilogy(Ssq, (1+Ssq**2)**3)\n",
    "plt.grid()\n",
    "plt.ylabel('Enhancement Factor')\n",
    "plt.xlabel('$S_\\infty$')"
   ]
  },
  {
   "cell_type": "code",
   "execution_count": null,
   "metadata": {},
   "outputs": [],
   "source": [
    "DISSB = f['tasks']['DISSBPRIME']\n",
    "DISSBPARTIAL = -f['tasks']['DISSBPARTIAL']/N**2\n",
    "\n",
    "# Eddy buoyancy budget terms\n",
    "bp = b - bm[:,np.newaxis,:]\n",
    "bpx = np.gradient(bp, axis=1)/np.gradient(x[np.newaxis,:,np.newaxis], axis=1)\n",
    "bpz = np.gradient(bp, axis=-1)/np.gradient(z)\n",
    "MIX = -1e-4/N**2*np.mean(bpx**2 + bpz**2, axis=1)"
   ]
  },
  {
   "cell_type": "code",
   "execution_count": null,
   "metadata": {},
   "outputs": [],
   "source": [
    "np.abs(LScale)"
   ]
  },
  {
   "cell_type": "code",
   "execution_count": null,
   "metadata": {},
   "outputs": [],
   "source": [
    "plt.plot(integrate.cumtrapz(integrate.trapz(DISSB[:,0,:], x=z, axis=-1), x=time))\n",
    "plt.plot(integrate.cumtrapz(integrate.trapz(DISSBPARTIAL[:,0,:], x=z, axis=-1), x=time))\n",
    "\n",
    "plt.plot(integrate.cumtrapz(integrate.trapz(MIX[:,:], x=z, axis=-1), x=time))"
   ]
  },
  {
   "cell_type": "code",
   "execution_count": null,
   "metadata": {},
   "outputs": [],
   "source": [
    "plt.plot(testr*1e-8/np.sin(tht[0,0,0])/N**2)"
   ]
  },
  {
   "cell_type": "code",
   "execution_count": null,
   "metadata": {},
   "outputs": [],
   "source": [
    "plt.plot(time/86400, 1/Ri)\n",
    "plt.plot(time/86400, 1/RiB)\n",
    "plt.plot(time/86400, 1-alpha/RiB)\n",
    "plt.plot(time/86400, (-1 + 0.1*np.sin(tht[0,0,0])/(1e-4*H)))\n",
    "#plt.plot(time/86400,N**2*tht[0,0,0]*H/(1e-4*0.1))\n",
    "#plt.ylim((0, 1))"
   ]
  },
  {
   "cell_type": "code",
   "execution_count": null,
   "metadata": {},
   "outputs": [],
   "source": [
    "plt.plot(time/86400, Ri, label='$\\zeta/f$')\n",
    "plt.legend()\n",
    "plt.ylim(0, 1)"
   ]
  },
  {
   "cell_type": "code",
   "execution_count": null,
   "metadata": {},
   "outputs": [],
   "source": [
    "gspr.shape"
   ]
  },
  {
   "cell_type": "code",
   "execution_count": null,
   "metadata": {},
   "outputs": [],
   "source": [
    "RiB"
   ]
  },
  {
   "cell_type": "code",
   "execution_count": null,
   "metadata": {},
   "outputs": [],
   "source": [
    "plt.plot(np.mean(v[-1,:,:], axis=0), zm)\n",
    "plt.axvline(0.1/100)\n",
    "plt.axvline(np.mean(vz[-1,:,:]), color='r')\n",
    "plt.axhline(zm[0]+H[-1])"
   ]
  },
  {
   "cell_type": "code",
   "execution_count": null,
   "metadata": {},
   "outputs": [],
   "source": [
    "# Ruan bottom stress formulation (with Brink and Lentz adjustment)\n",
    "\n",
    "#tb = 1030*1e-3*(0.1 - 2/(1+np.sqrt(1+4*Ri*N**2/1e-8*tht[0,0,0]**2))*tht[0,0,0]*N**2*H/1e-4)**2\n",
    "tb = 1030*1e-3*(0.1 - 1.5/(1+np.sqrt(1+4*Ri*N**2/1e-8*tht[0,0,0]**2))*tht[0,0,0]*N**2*H/1e-4)**2\n",
    "\n",
    "tscale = 1/((N**2*tht[0,0,0]**2/1e-8)**2*1e-4*np.cos(tht[0,0,0]))\n",
    "plt.figure(figsize=(10,10))\n",
    "plt.plot(time/86400, tauy)\n",
    "plt.plot(time/86400, -tb)\n",
    "plt.plot(time/86400, -1030*1e-3*0.1**2*((time/tscale)**(-1/2)))"
   ]
  },
  {
   "cell_type": "code",
   "execution_count": null,
   "metadata": {
    "scrolled": true
   },
   "outputs": [],
   "source": [
    "1e-5*np.tanh(0.0225)**2/1e-8"
   ]
  },
  {
   "cell_type": "code",
   "execution_count": null,
   "metadata": {},
   "outputs": [],
   "source": [
    "(14**3*1e-4/(N**2*tht[0,0,0])*tauy[-1]**2/(1030**2 * 0.1**3*H[-1]))**(1/4)"
   ]
  }
 ],
 "metadata": {
  "kernelspec": {
   "display_name": "Python 3N",
   "language": "python",
   "name": "python3n"
  },
  "language_info": {
   "codemirror_mode": {
    "name": "ipython",
    "version": 3
   },
   "file_extension": ".py",
   "mimetype": "text/x-python",
   "name": "python",
   "nbconvert_exporter": "python",
   "pygments_lexer": "ipython3",
   "version": "3.6.8"
  }
 },
 "nbformat": 4,
 "nbformat_minor": 2
}
