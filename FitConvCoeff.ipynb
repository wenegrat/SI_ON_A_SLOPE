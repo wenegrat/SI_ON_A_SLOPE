{
 "cells": [
  {
   "cell_type": "markdown",
   "metadata": {},
   "source": [
    "# Convective fit all\n",
    "averaged over the last portion of the simulation\n",
    "\n"
   ]
  },
  {
   "cell_type": "code",
   "execution_count": 2,
   "metadata": {},
   "outputs": [],
   "source": [
    "import os\n",
    "import numpy as np\n",
    "import matplotlib.pyplot as plt\n",
    "from matplotlib.gridspec import GridSpec\n",
    "import h5py\n",
    "from pylab import *\n",
    "import scipy.integrate as integrate\n",
    "#from cmocean import cm as cmo\n",
    "import matplotlib.gridspec as gridspec\n",
    "import matplotlib.ticker \n",
    "import scipy.stats as stats\n",
    "import scipy.optimize as optimize\n",
    "from mpl_toolkits.axes_grid1.inset_locator import inset_axes\n",
    "from scipy.signal import savgol_filter\n",
    "from scipy.ndimage import uniform_filter\n",
    "plt.rcParams['text.usetex'] = True\n",
    "plt.rcParams.update({'font.size': 18})\n",
    "plt.rcParams['mathtext.fontset'] = 'stix'\n",
    "plt.rcParams['font.family'] = 'STIXGeneral'"
   ]
  },
  {
   "cell_type": "markdown",
   "metadata": {},
   "source": [
    "## This function loads all runs and calculates quantities necessary for comparing the scaling analysis."
   ]
  },
  {
   "cell_type": "code",
   "execution_count": 81,
   "metadata": {
    "scrolled": false
   },
   "outputs": [
    {
     "name": "stdout",
     "output_type": "stream",
     "text": [
      "/data/thomas/jacob13/SI_ON_A_SLOPE/SI_DNS/SI_1e-5_0p1/snapshots/snapshots_1e-5_0p1_MS.h5\n",
      "Loaded\n",
      "Processing N = 0.0031622776601683785, theta = 0.1\n",
      "Begin calcs\n",
      "Calculations Complete\n",
      "No Spectral Ind: /data/thomas/jacob13/SI_ON_A_SLOPE/SI_DNS/SI_1e-5_0p1/snapshots/snapshots_1e-5_0p1_MS.h5\n",
      "/data/thomas/jacob13/SI_ON_A_SLOPE/SI_DNS/SI_1e-5_0p05/snapshots/snapshots_1e-5_0p05_LONG.h5\n",
      "Loaded\n",
      "Processing N = 0.0031622776601683785, theta = 0.05\n",
      "Begin calcs\n",
      "Calculations Complete\n",
      "/data/thomas/jacob13/SI_ON_A_SLOPE/SI_DNS/SI_1e-6_0p1/snapshots/snapshots_1e-6_0p1_MS.h5\n",
      "Loaded\n",
      "Processing N = 0.001, theta = 0.1\n",
      "Begin calcs\n",
      "Calculations Complete\n",
      "/data/thomas/jacob13/SI_ON_A_SLOPE/SI_DNS/SI_1e-5_0p02/snapshots/snapshots_1e-5_0p02_LNG.h5\n",
      "Loaded\n",
      "Processing N = 0.0031622776601683785, theta = 0.019999999999999997\n",
      "Begin calcs\n",
      "Calculations Complete\n",
      "/data/thomas/jacob13/SI_ON_A_SLOPE/SI_DNS/SI_1e-5_0p02_V2/snapshots/snapshots_1e-5_0p02_V2_MS.h5\n",
      "Loaded\n",
      "Processing N = 0.0031622776601683785, theta = 0.019999999999999993\n",
      "Begin calcs\n",
      "Calculations Complete\n",
      "No Spectral Ind: /data/thomas/jacob13/SI_ON_A_SLOPE/SI_DNS/SI_1e-5_0p02_V2/snapshots/snapshots_1e-5_0p02_V2_MS.h5\n",
      "/data/thomas/jacob13/SI_ON_A_SLOPE/SI_DNS/SI_1e-6_0p06/snapshots/snapshots_1e-6_0p06_MS.h5\n",
      "Loaded\n",
      "Processing N = 0.001, theta = 0.06\n",
      "Begin calcs\n",
      "Calculations Complete\n",
      "/data/thomas/jacob13/SI_ON_A_SLOPE/SI_DNS/SI_5e-6_0p02/snapshots/snapshots_5e-6_0p02.h5\n",
      "Loaded\n",
      "Processing N = 0.00223606797749979, theta = 0.019999999999999997\n",
      "Begin calcs\n",
      "Calculations Complete\n",
      "/data/thomas/jacob13/SI_ON_A_SLOPE/SI_DNS/SI_1e-6_0p01/snapshots/snapshots_1e-6_0p01_MS.h5\n",
      "Loaded\n",
      "Processing N = 0.001, theta = 0.009999999999999998\n",
      "Begin calcs\n",
      "Calculations Complete\n",
      "No Spectral Ind: /data/thomas/jacob13/SI_ON_A_SLOPE/SI_DNS/SI_1e-6_0p01/snapshots/snapshots_1e-6_0p01_MS.h5\n",
      "/data/thomas/jacob13/SI_ON_A_SLOPE/SI_DNS/SI_1e-7_0p02/snapshots/snapshots_1e-7_0p02_MS.h5\n",
      "Loaded\n",
      "Processing N = 0.00031622776601683794, theta = 0.019999999999999997\n",
      "Begin calcs\n",
      "Calculations Complete\n",
      "No Spectral Ind: /data/thomas/jacob13/SI_ON_A_SLOPE/SI_DNS/SI_1e-7_0p02/snapshots/snapshots_1e-7_0p02_MS.h5\n",
      "No Spectral Ind: /data/thomas/jacob13/SI_ON_A_SLOPE/SI_DNS/SI_1e-7_0p02/snapshots/snapshots_1e-7_0p02_MS.h5\n",
      "No Spectral Ind: /data/thomas/jacob13/SI_ON_A_SLOPE/SI_DNS/SI_1e-7_0p02/snapshots/snapshots_1e-7_0p02_MS.h5\n",
      "No Spectral Ind: /data/thomas/jacob13/SI_ON_A_SLOPE/SI_DNS/SI_1e-7_0p02/snapshots/snapshots_1e-7_0p02_MS.h5\n",
      "No Spectral Ind: /data/thomas/jacob13/SI_ON_A_SLOPE/SI_DNS/SI_1e-7_0p02/snapshots/snapshots_1e-7_0p02_MS.h5\n",
      "/data/thomas/jacob13/SI_ON_A_SLOPE/SI_DNS/SI_1e-7_0p005/snapshots/snapshots_1e-7_0p005_MS.h5\n",
      "Loaded\n",
      "Processing N = 0.00031622776601683794, theta = 0.004999999999999999\n",
      "Begin calcs\n",
      "Calculations Complete\n",
      "No Spectral Ind: /data/thomas/jacob13/SI_ON_A_SLOPE/SI_DNS/SI_1e-7_0p005/snapshots/snapshots_1e-7_0p005_MS.h5\n",
      "No Spectral Ind: /data/thomas/jacob13/SI_ON_A_SLOPE/SI_DNS/SI_1e-7_0p005/snapshots/snapshots_1e-7_0p005_MS.h5\n",
      "No Spectral Ind: /data/thomas/jacob13/SI_ON_A_SLOPE/SI_DNS/SI_1e-7_0p005/snapshots/snapshots_1e-7_0p005_MS.h5\n"
     ]
    }
   ],
   "source": [
    "#%% Pick the filename and path\n",
    "files = [\n",
    "         '/data/thomas/jacob13/SI_ON_A_SLOPE/SI_DNS/SI_1e-5_0p1/snapshots/snapshots_1e-5_0p1_MS.h5',\n",
    "         '/data/thomas/jacob13/SI_ON_A_SLOPE/SI_DNS/SI_1e-5_0p05/snapshots/snapshots_1e-5_0p05_LONG.h5',\n",
    "         '/data/thomas/jacob13/SI_ON_A_SLOPE/SI_DNS/SI_1e-6_0p1/snapshots/snapshots_1e-6_0p1_MS.h5',\n",
    "             '/data/thomas/jacob13/SI_ON_A_SLOPE/SI_DNS/SI_1e-5_0p02/snapshots/snapshots_1e-5_0p02_LNG.h5',\n",
    "         '/data/thomas/jacob13/SI_ON_A_SLOPE/SI_DNS/SI_1e-5_0p02_V2/snapshots/snapshots_1e-5_0p02_V2_MS.h5',\n",
    "       '/data/thomas/jacob13/SI_ON_A_SLOPE/SI_DNS/SI_1e-6_0p06/snapshots/snapshots_1e-6_0p06_MS.h5',\n",
    "         '/data/thomas/jacob13/SI_ON_A_SLOPE/SI_DNS/SI_5e-6_0p02/snapshots/snapshots_5e-6_0p02.h5',\n",
    "         '/data/thomas/jacob13/SI_ON_A_SLOPE/SI_DNS/SI_1e-6_0p01/snapshots/snapshots_1e-6_0p01_MS.h5',\n",
    "         '/data/thomas/jacob13/SI_ON_A_SLOPE/SI_DNS/SI_1e-7_0p02/snapshots/snapshots_1e-7_0p02_MS.h5',\n",
    "         '/data/thomas/jacob13/SI_ON_A_SLOPE/SI_DNS/SI_1e-7_0p005/snapshots/snapshots_1e-7_0p005_MS.h5',\n",
    "        ]\n",
    "\n",
    "\n",
    "\n",
    "\n",
    "molec = 0 # Flag (0,1) for including subgrid terms in finding zeros of vertical buoyancy flux\n",
    "molec2= 0\n",
    "wbmax = []\n",
    "wbmin = []\n",
    "factor = []\n",
    "ydata = []\n",
    "hntotal = []\n",
    "Htotal = []\n",
    "vbf = []\n",
    "vpwp = []\n",
    "vpwpscale = []\n",
    "enttotal = []\n",
    "moment = []\n",
    "betatotal = []\n",
    "vpwpa = []\n",
    "vbfa = []\n",
    "test = []\n",
    "MOdepth =[]\n",
    "Ball =[]\n",
    "ustartotal = []\n",
    "S2a=[]\n",
    "EBFa=[]\n",
    "bfh=[]\n",
    "bfb=[]\n",
    "vpwpi = []\n",
    "vbfi = []\n",
    "zall = []\n",
    "ydatah=[]\n",
    "wpbpi = []\n",
    "vpwph = []\n",
    "vzh = []\n",
    "flagfirst = True\n",
    "for filename in files:\n",
    "    print(filename)\n",
    "    f = h5py.File(filename, 'r')\n",
    "    print('Loaded')\n",
    "    # Get the data\n",
    "    data = list(f['tasks'])\n",
    "\n",
    "    # Basic parameters\n",
    "    N = f['tasks']['N'][0,0,0] #Interior stratification (background)\n",
    "    tht = f['tasks']['tht'][0,0,0] # Slope angle\n",
    "    print(f'Processing N = {N}, theta = {tht}')\n",
    "\n",
    "    # Load variables in physical space\n",
    "    b = f['tasks']['b'] # Perturbation buoyancy\n",
    "    v = f['tasks']['v'] # Along-slope direction\n",
    "    u = f['tasks']['u'] # Along-slope direction\n",
    "\n",
    "    vbfr = f['tasks']['VBFrotated']\n",
    "    VPWP = f['tasks']['GSProtated'][:,:,:]*1e-4/(N**2*np.sin(tht))\n",
    "    #vbfrot = f['tasks']['VBFrotated']\n",
    "    z = v.dims[2][0][:]\n",
    "    time = v.dims[0][0][:]\n",
    "    q = f['tasks']['PV']\n",
    "    wq = f['tasks']['wq']\n",
    "    print('Begin calcs')\n",
    "    qm = np.mean(q, axis=1)\n",
    "    Qo = 1e-4*N**2\n",
    "    vz = np.gradient(np.mean(v, axis=1), axis=-1)/np.gradient(z)\n",
    "    uz = np.gradient(np.mean(u, axis=1), axis=-1)/np.gradient(z)\n",
    "    bz = np.gradient(np.mean(b, axis=1), axis=-1)/np.gradient(z)\n",
    "    # Calculate BEk\n",
    "    tauy = -1035*1e-4*vz[:,0] #Note that 1e-4 is the viscosity for the DNS\n",
    "    taux = -1035*1e-4*uz[:,0]\n",
    "    \n",
    "    S2 = N**2*tht**2/1e-8\n",
    "    Bek = -(tauy/(1030*1e-4)*N**2*np.sin(tht))/(1+S2)\n",
    "\n",
    "    ws = f['tasks']['ws']\n",
    "    bs = f['tasks']['bs']\n",
    "    kx = f['scales/kx'][:]/(2*np.pi) # Inverse wavelengths in cross-front direction\n",
    "    kcut = np.where(kx<(1/100))[0]\n",
    "    kcut = kcut[-1]\n",
    "    vbfs = 2*np.real(np.conj(ws)*bs)\n",
    "    vbfh = np.sum(vbfs[:,kcut:,:], axis=1)\n",
    "    \n",
    "    # Calculate h\n",
    "    print('Calculations Complete')\n",
    "    \n",
    "    nt = time.size\n",
    "    avgt = 18*2*1\n",
    "    #avgt = 18*4\n",
    "    for i in range(1, nt-avgt+1, avgt):\n",
    "        ti = range(i, i+avgt)\n",
    "        qmean = np.mean(qm[ti,:], axis=0) #direct calculation of Q\n",
    "        \n",
    "        # Try a direct calculation of H and entrainment\n",
    "        # Options are to define relative to Qo or as the place the PV flux is 0 (noisy?)\n",
    "        indq = np.where(qmean>0.75*Qo)[0][0]    \n",
    "        H = z[indq] # pick out H\n",
    "        \n",
    "        \n",
    "        ent = np.mean(vbfr[ti,0,indq] - molec*1e-4*(bz[ti,indq])) #these are the buoyancy entrainment fluxes at this depth\n",
    "\n",
    "        # Find where h is (where vert. buoyancy flux is 0)\n",
    "        #Average the vert buoyancy flux (molec turns on subgrid terms)\n",
    "        vsmooth = np.mean(vbfr[ti,0,:]- molec*1e-4*(bz[ti,:]), axis=0)\n",
    "        inds = np.where(np.logical_and(vsmooth<0, z<=H))[0]\n",
    "        #inds = np.where(np.logical_and(vsmooth<0, np.logical_and(z<=H, z>10)))[0] # Note ad hoc use of z>10...\n",
    "        if inds.size == 0:\n",
    "            print('No Ind: ' + filename)\n",
    "            hn = H\n",
    "        else:\n",
    "            inds = [inds[0]]\n",
    "            hn = z[inds[0]]\n",
    "\n",
    "            Beka = np.mean(Bek[ti])\n",
    "            Ha = H\n",
    "            ha = hn\n",
    "\n",
    "            ustar = np.sqrt(np.abs(np.mean((0*taux + 1j*tauy)[ti], axis=0)/1035))\n",
    "            ustartotal.append(ustar)\n",
    "            \n",
    "            ydataPartial = ha/Ha     #y is the ratio of h/H\n",
    "            entPartial = 1 - ent/(Beka + 0e-4*N**2*(1-S2/(1+S2))) # Define the entrainment factor \n",
    "\n",
    "            # Some options for defining the velocity scale \n",
    "            # include interior velocity, friction velocity, or interior velocity normalized by h/H\n",
    "#             valt = hn*(1e-4*S2/np.tan(tht[0,0,0])/(1+S2))\n",
    "            valt = 0.1\n",
    "#             valt = np.mean(np.sqrt(np.abs(tauy[ti])/1030))\n",
    "            \n",
    "            vpwpscale.append((Beka*(ha))**(1/3)*(ha)*N**2*tht/((1+S2)*1e-4)) # Save a scaling estimate\n",
    "            #vpwpscale.append((Beka*ha)**(1/3)*ustar)\n",
    "            #vpwpscale.append(ustar**2)\n",
    "            #vpwpscale.append(0.4*(0*1.26*ustar**3 + 8.38*0.4*0.1*Beka*ha)**(1/3)*ustar) #KPP scaling from Large et al. 1994\n",
    "            #vpwpscale.append(0.4*(0*1.26*ustar**3 + 8.38*0.4*0.1*Beka*ha)**(1/3)*0.1) #KPP scaling from Large et al. 1994\n",
    "            \n",
    "            #vpwpscale.append((-Beka*ha)**(1/3)*ha*N**2*tht/1e-4) # Save a scaling estimate\n",
    "            \n",
    "            #vpwpscale.append((-Beka*Ha)**(1/3)*ustar)\n",
    "            #vpwpscale.append((-Beka*Ha)**(1/3)*Ha*N**2*tht/1e-4)\n",
    "            #vpwpscale.append(ustar*ha/((1+S2)*ustar*1e-4/(0.4*tht*N**2))*0.1*0.4)\n",
    "            #vpwpscale.append((Beka*(1+S2)*(1-ydataPartial))*1e-4/(N**2*tht))# Assuming N^2*tht/f*<v'w'> ~ Bek*(z+H)/H\n",
    "            #vpwpscale.append(np.mean(tauy[ti]/1030)*(1-ydataPartial))\n",
    "            #vpwpscale.append((-Beka*ha)**(1/3)*0.1*(1-ydataPartial))\n",
    "            vpwp.append(np.mean(VPWP[ti,0,inds[0]]-molec*1e-4*vz[ti,inds[0]], axis=0))\n",
    "\n",
    "            enttotal.append(entPartial)\n",
    "            #factor.append( factorPartial)\n",
    "            ydata.append(ydataPartial)\n",
    "            hntotal.append(ha)\n",
    "            Htotal.append(Ha)\n",
    "            S2a.append(S2)\n",
    "            \n",
    "            vbfa.append(np.mean(vbfr[ti,0,:], axis=0)) #slope normal buoyancy flux\n",
    "            vpwpa.append(np.mean(VPWP[ti,0,:],axis=0))\n",
    "            zall.append(z)\n",
    "            MOdepth.append((1+S2)*ustar*1e-4/(0.4*tht*N**2))\n",
    "            #test.append(np.sqrt(np.abs(np.mean(tauy[ti]))/1030))\n",
    "            #test.append((np.mean(np.abs(tauy[ti]))/(1030*(1+S2)))**2*1e-4/(N**2*tht*0.1**3))\n",
    "            #test.append(N**2*tht*valt*(-Beka*Ha)**(1/3)/1e-4)\n",
    "            test.append(N**2*tht/(1e-4)/(1+S2))\n",
    "            Ball.append(Beka)\n",
    "            bfb.append(1e-4*N**2)\n",
    "            wbmax.append(np.max(np.mean(vbfr[ti,0,:], axis=0)))\n",
    "            wbmin.append(np.min(np.mean(vbfr[ti,0,:], axis=0)))\n",
    "            vbfi.append(integrate.trapz(np.mean(vbfr[ti,0,0:], axis=0), x=z[0:]))\n",
    "            vpwpi.append(integrate.trapz(np.mean(VPWP[ti,0,0:], axis=0), x=z[0:]))\n",
    "            \n",
    "            # Do high wavenumber version\n",
    "            vsmooth = np.mean(vbfh[ti,:]- molec*1e-4*(bz[ti,:]), axis=0)\n",
    "            #inds = np.where(np.logical_and(vsmooth>0, z<=H*0.5))[0]\n",
    "            #if inds.size == 0:\n",
    "            #    inds = np.where(np.logical_and(vsmooth>0, z<=H))[0]\n",
    "            zm = 0.5*(z[1:]+z[0:-1])\n",
    "            inds = np.where(np.logical_and(np.diff(np.signbit(vsmooth)), np.logical_and(zm>0.5, zm<H*0.5)))[0]\n",
    "            if inds.size == 0:\n",
    "                inds = np.where(np.logical_and(np.diff(np.signbit(vsmooth)), np.logical_and(zm>1, zm<H)))[0]\n",
    "\n",
    "            #indmax = np.argmax(vsmooth)\n",
    "            #inds = np.where(np.logical_and(vsmooth<0.05*np.max(vsmooth), z>z[indmax]))[0] \n",
    "            #inds = np.where(np.logical_and(vsmooth<0, np.logical_and(z<=H, z>10)))[0] # Note ad hoc use of z>10...\n",
    "            if inds.size == 0:\n",
    "                print('No Spectral Ind: ' + filename)\n",
    "                ydatah.append(1)\n",
    "                wpbpi.append(0)\n",
    "                vpwph.append(0)\n",
    "                bfh.append(0)\n",
    "                vzh.append(0)\n",
    "            else:\n",
    "                inds = [inds[0]]\n",
    "                ydatah.append(z[inds[0]]/Ha)\n",
    "                wpbpi.append(np.mean(vbfr[ti,0,inds[0]]))\n",
    "                vpwph.append(np.mean(VPWP[ti,0,inds[0]]))\n",
    "                bfh.append(1e-4*np.mean(bz[ti,inds[0]]))\n",
    "                vzh.append(np.mean(1e-4*vz[ti,inds[0]], axis=0))\n",
    "\n",
    "            #if flagfirst:\n",
    "            #    vbf = np.mean(vbfr[ti,0,:]-molec*1e-4*(bz[ti,:]), axis=0)[:,np.newaxis]\n",
    "            #    flagfirst = False\n",
    "            #else:\n",
    "            #    vbf = np.concatenate((vbf,np.mean(vbfr[ti,0,:]-molec*1e-4*(bz[ti,:]), axis=0)[:,np.newaxis]), axis=-1)\n",
    "    f.close()\n",
    "\n",
    "factor = np.array(factor)\n",
    "ydata = np.array(ydata)\n",
    "ydatah = np.array(ydatah)\n",
    "hntotal = np.array(hntotal)\n",
    "Htotal = np.array(Htotal)\n",
    "test = np.array(test)\n",
    "Ball = np.array(Ball)\n",
    "vpwp = np.array(vpwp)\n",
    "enttotal = np.array(enttotal)\n",
    "ustartotal = np.array(ustartotal)\n",
    "S2a  = np.array(S2a)\n",
    "betatotal = np.array(betatotal)\n",
    "moment = np.array(moment)\n",
    "bfh = np.array(bfh)\n",
    "bfb = np.array(bfb)\n",
    "wbmax = np.array(wbmax)\n",
    "wbmin = np.array(wbmin)\n",
    "vbfi = np.array(vbfi)\n",
    "vpwpi = np.array(vpwpi)\n",
    "wpbpi = np.array(wpbpi)\n",
    "vpwph = np.array(vpwph)\n",
    "vzh = np.array(vzh)"
   ]
  },
  {
   "cell_type": "code",
   "execution_count": null,
   "metadata": {},
   "outputs": [],
   "source": [
    "plt.plot(Ball/bfb)\n",
    "plt.plot(Ball/bfh)"
   ]
  },
  {
   "cell_type": "code",
   "execution_count": null,
   "metadata": {},
   "outputs": [],
   "source": [
    "inds = np.where(np.logical_and(np.diff(np.signbit(vsmooth)), 0.5*(z[1:]+z[0:-1])<Ha*0.5))[0]\n",
    "#(z<Ha*0.5).shape\n",
    "print(inds)\n",
    "plt.plot(vsmooth, z)\n",
    "plt.plot(0*inds, z[inds], marker='x')"
   ]
  },
  {
   "cell_type": "code",
   "execution_count": null,
   "metadata": {},
   "outputs": [],
   "source": [
    "plt.plot(ydatah*Htotal)\n",
    "plt.plot(Htotal)"
   ]
  },
  {
   "cell_type": "code",
   "execution_count": null,
   "metadata": {},
   "outputs": [],
   "source": [
    "plt.plot(vpwp)\n",
    "plt.plot(-1e-2*(-Htotal*(1-ydata)*test + 0.1)*ustartotal)\n",
    "plt.plot(-2e-4*(-Htotal*(1-ydata)*test + 0.1)**2)\n",
    "plt.plot(-5e-3*(-Htotal*(1-ydata)*test + 0.1)*(Ball*Htotal)**(1/3))\n"
   ]
  },
  {
   "cell_type": "code",
   "execution_count": null,
   "metadata": {},
   "outputs": [],
   "source": [
    "moment = np.array(moment)\n",
    "plt.plot(vpwp)\n",
    "plt.plot(ustartotal**2/(1-ydata*Htotal/MOdepth))\n",
    "plt.ylim(-2e-5, 0)"
   ]
  },
  {
   "cell_type": "code",
   "execution_count": null,
   "metadata": {},
   "outputs": [],
   "source": [
    "plt.plot(ydata)\n",
    "plt.plot(ydatah)"
   ]
  },
  {
   "cell_type": "code",
   "execution_count": null,
   "metadata": {},
   "outputs": [],
   "source": [
    "factor = np.array(factor)\n",
    "ydata = np.array(ydata)\n",
    "hntotal = np.array(hntotal)\n",
    "Htotal = np.array(Htotal)\n",
    "test = np.array(test)\n",
    "Ball = np.array(Ball)\n",
    "vpwp = np.array(vpwp)\n",
    "enttotal = np.array(enttotal)\n",
    "ustartotal = np.array(ustartotal)\n",
    "S2a  = np.array(S2a)\n",
    "betatotal = np.array(betatotal)"
   ]
  },
  {
   "cell_type": "code",
   "execution_count": null,
   "metadata": {},
   "outputs": [],
   "source": [
    "plt.plot(ydata)\n",
    "plt.plot(S2a)\n",
    "plt.ylim(0,1)"
   ]
  },
  {
   "cell_type": "code",
   "execution_count": null,
   "metadata": {},
   "outputs": [],
   "source": [
    "plt.plot(ustartotal)\n",
    "plt.plot(np.sqrt(2e-3)*(0.1 - test*Htotal)*np.sqrt(ydata))"
   ]
  },
  {
   "cell_type": "markdown",
   "metadata": {},
   "source": [
    "## Check $\\langle v'w' \\rangle$ scaling"
   ]
  },
  {
   "cell_type": "code",
   "execution_count": null,
   "metadata": {},
   "outputs": [],
   "source": [
    "plt.figure()\n",
    "#num = np.mean(np.array(vpwpa)**(1), axis=1)\n",
    "num = vpwp\n",
    "#scale = -(np.array(vpwpscale)*(1-ydata*0.4*ustartotal/1e-4/Htotal))\n",
    "scale =   (np.array(vpwpscale))\n",
    "wstar = np.array(vpwpscale/test)\n",
    "scale = np.array(vpwpscale)\n",
    "scale = Ball*(1-0.4*ydata-1.2*ydata**2)/test - 0*ustartotal**3/(0.4*ydata*Htotal)*(1-ydata-ydata**2)/test\n",
    "scale = (Htotal*ydata)**2*(0.3-ydata)**2*test**2\n",
    "#scale = (0.1 - test*Htotal)**2\n",
    "#scale = np.array(vpwpscale)\n",
    "#scale = (ustartotal**6 + np.array(vpwpscale)**3)**(1/3)\n",
    "#scale = -ustartotal**2*(1-ydata)\n",
    "plt.scatter(num, scale, c=np.log10(MOdepth/(Htotal)))\n",
    "plt.colorbar()\n",
    "mask = np.logical_and(MOdepth/(Htotal)<1, ydata>5e-3)\n",
    "plt.scatter(np.array(num)[mask], np.array(scale)[mask], marker='x')\n",
    "\n",
    "# plt.plot(num, num)\n",
    "corr = np.corrcoef(np.array(num)[mask], np.array(scale)[mask])\n",
    "plt.title(corr**2)\n",
    "plt.grid()\n",
    "slope, intercept, r_value, p_value, std_err = stats.linregress(np.array(scale)[mask], np.array(num)[mask])\n",
    "a, _, _, _ = np.linalg.lstsq(np.array(scale)[mask,np.newaxis], np.array(num)[mask])\n",
    "xl = 1e-5\n",
    "plt.ylim(-xl, xl)\n",
    "plt.xlim(-xl, xl)\n",
    "print('Slope: '+str(slope) +' Intercept = ' + str(intercept))\n",
    "plt.plot([np.min(num), np.max(num)], [np.min(num), np.max(num)])\n",
    "plt.figure()\n",
    "plt.plot(num)\n",
    "plt.plot(a*scale)\n",
    "plt.plot(slope*scale + intercept)\n",
    "#plt.ylim(np.min(num), np.max(num))\n",
    "#plt.plot([-xl, xl], a*[-xl, xl], marker='d', linestyle='-')"
   ]
  },
  {
   "cell_type": "markdown",
   "metadata": {},
   "source": [
    "## Case of direct solve (ie no optimization needed)"
   ]
  },
  {
   "cell_type": "code",
   "execution_count": null,
   "metadata": {},
   "outputs": [],
   "source": [
    "mask = np.logical_and(MOdepth/(Htotal) < 100, ydata>5e-4)\n",
    "\n",
    "plt.plot(ydata[mask]*Htotal[mask])\n",
    "co = a\n",
    "en = enttotal*1\n",
    "plt.plot((-co*test[mask]*scale[mask]/Ball[mask])*Htotal[mask]/en[mask])\n",
    "plt.plot( (1 + vpwp[mask]*test[mask]/Ball[mask])*Htotal[mask]/en[mask])\n",
    "plt.plot((1+slope*scale[mask]*test[mask]/Ball[mask]+intercept*test[mask]/Ball[mask])*Htotal[mask]/en[mask])\n",
    "\n",
    "plt.plot(Htotal[mask], linestyle='--')\n",
    "\n",
    "plt.figure()\n",
    "plt.scatter(ydata[mask], (1+slope*scale[mask]*test[mask]/Ball[mask]+intercept*test[mask]/Ball[mask])*Htotal[mask]/en[mask], marker='o')\n",
    "#plt.scatter(ydata[mask], -co*scale[mask]*test[mask]/Ball[mask]/enttotal[mask])\n",
    "plt.scatter(ydata[mask], (1 + vpwp[mask]*test[mask]/Ball[mask])/en[mask], marker='x')\n",
    "\n",
    "plt.plot([0,1], [0,1])\n",
    "plt.grid()\n",
    "plt.ylim(0,1)\n",
    "\n",
    "plt.figure()\n",
    "plt.plot(vpwp[mask])\n",
    "plt.plot(co*scale[mask])\n",
    "plt.plot(slope*scale[mask] + intercept)"
   ]
  },
  {
   "cell_type": "markdown",
   "metadata": {},
   "source": [
    "## Check how well h is reproduced using numerical values of $\\langle v' w' \\rangle$"
   ]
  },
  {
   "cell_type": "code",
   "execution_count": 84,
   "metadata": {},
   "outputs": [
    {
     "data": {
      "text/plain": [
       "(-6.377281136754648e-09, 6.377281136754648e-09)"
      ]
     },
     "execution_count": 84,
     "metadata": {},
     "output_type": "execute_result"
    },
    {
     "data": {
      "image/png": "[encoded data removed]",
      "text/plain": [
       "<Figure size 432x288 with 2 Axes>"
      ]
     },
     "metadata": {
      "needs_background": "light"
     },
     "output_type": "display_data"
    },
    {
     "data": {
      "image/png": "[encoded data removed]",
      "text/plain": [
       "<Figure size 432x288 with 1 Axes>"
      ]
     },
     "metadata": {
      "needs_background": "light"
     },
     "output_type": "display_data"
    },
    {
     "data": {
      "image/png": "[encoded data removed]",
      "text/plain": [
       "<Figure size 432x288 with 2 Axes>"
      ]
     },
     "metadata": {
      "needs_background": "light"
     },
     "output_type": "display_data"
    }
   ],
   "source": [
    "# Check how well h/H is reproduced using numerical values of <v'w'>\n",
    "mask =  np.logical_and(MOdepth/(Htotal) < 1e100, ydata>0)\n",
    "#mask =  np.logical_and(Ball/bfb>(1+S2a), mask)\n",
    "mask =  np.logical_and(Ball/bfb>3, mask)\n",
    "#mask[26:53] = False\n",
    "#mask[80:106] = False\n",
    "\n",
    "bfact = 1- S2a/(1+S2a)\n",
    "\n",
    "alpha = (enttotal - 1)*(Ball+0*bfb*bfact)\n",
    "entfact = 1+alpha/Ball/(1+S2a)\n",
    "#entfact = enttotal\n",
    "LHS = (Ball[mask])*entfact[mask]\n",
    "\n",
    "#RHS = vpwp[mask]*test[mask] + Ball[mask] + 0*bfb[mask]*bfact[mask] + 0*bfh[mask]\n",
    "RHS = vpwph[mask]*test[mask] + Ball[mask] - wpbpi[mask]/(1+S2a[mask]) \n",
    "nums = RHS/LHS\n",
    "yvar = ydatah\n",
    "\n",
    "#plt.figure()\n",
    "#plt.scatter(vpwp[mask], vpwpscale[mask])\n",
    "#l = np.max(np.abs(vpwp[mask]))\n",
    "#plt.xlim(-l, l); plt.ylim(-l, l)\n",
    "#plt.plot([-l, l], [-l, l])\n",
    "#corr = np.corrcoef(np.array(vpwp)[mask], vpwpscale[mask])\n",
    "#plt.title(f'r$^2$ = {corr[1,0]**2:.2}')\n",
    "\n",
    "plt.figure()\n",
    "plt.scatter(yvar[mask]*Htotal[mask], nums*Htotal[mask], c=np.log10(Ball/bfb)[mask])\n",
    "plt.colorbar()\n",
    "#plt.scatter(ydata[mask], numscale)\n",
    "\n",
    "plt.plot([0,1], [0,1])\n",
    "plt.ylim(-100, 150)\n",
    "plt.xlim(-100,150)\n",
    "plt.grid()\n",
    "corr = np.corrcoef(np.array(yvar*Htotal)[mask], nums*Htotal[mask])\n",
    "plt.title(f'r$^2$ = {corr[1,0]**2:.2}')\n",
    "\n",
    "plt.figure()\n",
    "plt.plot(yvar[mask]*Htotal[mask])\n",
    "plt.plot( nums*Htotal[mask])\n",
    "plt.plot(Htotal[mask])\n",
    "#plt.plot(numscale*Htotal[mask])\n",
    "plt.grid()\n",
    "plt.ylim(0, 100)\n",
    "\n",
    "plt.figure()\n",
    "plt.scatter( wpbpi[mask]/(1+S2a[mask]), Ball[mask]*(1-yvar[mask]), c=np.log10(Ball[mask]/bfb[mask]))\n",
    "plt.colorbar()\n",
    "xm = np.max(wpbpi[mask]/(1+S2a[mask]))\n",
    "plt.xlim(-xm, xm)\n",
    "plt.ylim(-xm, xm)"
   ]
  },
  {
   "cell_type": "code",
   "execution_count": null,
   "metadata": {},
   "outputs": [],
   "source": [
    "plt.plot(S2a)\n",
    "plt.xlim(0, 120)\n",
    "plt.axvline(106)"
   ]
  },
  {
   "cell_type": "code",
   "execution_count": null,
   "metadata": {},
   "outputs": [],
   "source": [
    "plt.plot(ydatah[mask]*LHS)\n",
    "plt.plot(test[mask]*vpwph[mask] + Ball[mask])\n",
    "plt.plot(-wpbpi[mask]/(1+S2a[mask]))\n",
    "plt.plot(bfh[mask]+bfb[mask]-vzh[mask]*test[mask])\n"
   ]
  },
  {
   "cell_type": "code",
   "execution_count": null,
   "metadata": {},
   "outputs": [],
   "source": [
    "plt.plot(wpbpi)\n",
    "plt.grid()"
   ]
  },
  {
   "cell_type": "markdown",
   "metadata": {},
   "source": [
    "## Define optimization function"
   ]
  },
  {
   "cell_type": "code",
   "execution_count": 108,
   "metadata": {},
   "outputs": [],
   "source": [
    "def fithT(ent, H, BEK,EFACT, ydata):\n",
    "    def fithH(factor, C): #factor is the combined coefficient of the highest order term (ie. Factor*(1-h/h)^3)\n",
    "        nt = factor.size\n",
    "        h = np.ones((nt))\n",
    "        entm = np.mean(ent)\n",
    "        for i in range(0, nt):\n",
    "            def f(x):\n",
    "                   #return  (1-x)*x**(2) - C**3*factor[i]**(1)*(1-ent[i]*x)**1\n",
    "                   #return  (x-I)**1  - C**3*factor[i]**1*(1-ent[i]*x)**1\n",
    "                   #return x**2 - C**3*factor[i]**1*(1-ent[i]*x)**1 \n",
    "#                    return x**4 - C**3*factor[i]**4*(I-ent[i]*x)**3\n",
    "\n",
    "                    return x**4 - C**3*factor[i]**4*(1-ent[i]*x)**3\n",
    "#                   return  x**(1)*(1-x)**2 - C**3*(factor[i])**(1/3)*(1-ent[i]*x)**1\n",
    "#                  return  (x)**(2) - C**3*(1+factor[i]**(-1/3))**(-2)*(1-ent[i]*x)**1\n",
    "\n",
    "\n",
    "            if np.isfinite(factor[i]):\n",
    "                #sol = optimize.root(f, [0.3, 0.8], method='lm')\n",
    "                ##sol = optimize.root_scalar(f,x0=0.5)\n",
    "                #if not sol.success:\n",
    "                #    print('fail')\n",
    "                #else:\n",
    "                    #print(np.sort(sol.x))\n",
    "                #    h[i] = (np.sort(sol.x)[1])\n",
    "                hall, info, ier, n = optimize.fsolve(f, 0.4, maxfev=100000, full_output=True)\n",
    "                h[i] = hall\n",
    "                if ier != 1:\n",
    "                    h[i] = 0\n",
    "                    print(n)\n",
    "                # = optimize.root_scalar(f, x0=ydata[i], x1=1, maxiter=1000)\n",
    "                #xo, r = optimize.brentq(f, 0, 10, full_output=True)\n",
    "                #if ~r.converged:\n",
    "                #    print('fail')\n",
    "                #    h[i] = 0\n",
    "                #else:\n",
    "                #    #h[i] = r.sol\n",
    "                #    h[i] = xo\n",
    "                \n",
    "        return h*H\n",
    "    return fithH\n"
   ]
  },
  {
   "cell_type": "markdown",
   "metadata": {},
   "source": [
    "## Optimize for the coefficient in the cubic equation"
   ]
  },
  {
   "cell_type": "code",
   "execution_count": 109,
   "metadata": {
    "scrolled": true
   },
   "outputs": [
    {
     "name": "stdout",
     "output_type": "stream",
     "text": [
      "[7.36321039]\n",
      "[[0.00293289]]\n"
     ]
    }
   ],
   "source": [
    "# Optimize for H\n",
    "yvar = ydatah\n",
    "mask = np.logical_and(MOdepth/(Htotal) < 1e100, yvar>0)\n",
    "#mask = np.logical_and(Ball/bfb>(1+S2a), mask) # USED IN MS\n",
    "mask = np.logical_and(Ball/bfb>3, mask)\n",
    "#mask = np.logical_and(Ball/bfb>3, mask)\n",
    "#mask = np.logical_and(ustartotal**2/((1+S2a)*1e-4)/(1e-4/thta)>1, mask)\n",
    "mask = np.logical_and(yvar<1, mask)\n",
    "#mask = np.logical_and(S2a<3, mask)\n",
    "#mask[26:53] = False\n",
    "#mask[80:106] = False\n",
    "alpha = (enttotal - 1)*(Ball)\n",
    "entfact = 1+alpha/(Ball*(1+S2a))\n",
    "en = enttotal\n",
    "en = entfact\n",
    "Hop = Htotal\n",
    "\n",
    "\n",
    "fact = (Ball)/(((Ball)*Htotal)**(1/3)*test**2*Htotal)\n",
    "#fact = (Ball+bfb)/((Ball*Htotal**(1/3) + 3*ustartotal**3)**(1/3)*test**2*Htotal**(1))\n",
    "fact = (Ball+0*bfb)/( ((Ball+0*bfb)*Htotal)**(1/3)*test*0.1)\n",
    "#fact = (Ball+bfb)/(0.1*(ustartotal**3 + 0.3*Htotal*(Ball+bfb))**(1/3)*test)\n",
    "#fact = (Ball+bfb)**(1)/(((Ball+bfb)*Htotal + 10*ustartotal**3)**(1/3)*test*0.1)\n",
    "#fact = (ustartotal**4/(0.1**3*test * Htotal**1))**(1/4)\n",
    "#fact = (Ball+bfb)*/(Htotal**(1/3)*0.1*test)\n",
    "fact = ustartotal/(0.1)*(ustartotal**3/Ball/Htotal)**(1/3)\n",
    "fact = (ustartotal**1/((test*Htotal)))**(1)# + bfb/(ustartotal*test**2*Htotal)\n",
    "\n",
    "#thta = np.sqrt(S2a/(1e4*bfb)*1e-8)\n",
    "#fact = (ustartotal**1/((test*Htotal)))**(1)# + bfb/(ustartotal*test**2*Htotal)\n",
    "\n",
    "#fact = (np.array(MOdepth/Htotal))**(1)\n",
    "#fact = ustartotal**2/((Ball*Htotal)**(1/3)*Htotal*test)\n",
    "#fact = ustartotal/0.1\n",
    "#fact = ustartotal**1/(test*Htotal)/(1+Ball*Htotal/ustartotal**3)**(1/3)\n",
    "#fact = ustartotal**1/((Ball*Htotal)**(1/3))**(1)\n",
    "#act = fact**2\n",
    "#fact = ustartotal**2/((8.3*0.4*0.1*(Ball+bfb)*Htotal +1.2*ustartotal**3)**(1/3)*0.1)\n",
    "#fact = ustartotal**2/(((Ball)*Htotal )**(1/3)*0.1)\n",
    "#fact = ustartotal/0.1\n",
    "#fact = Ball/(Htotal*(Ball*Htotal)**(1/3)*test)\n",
    "#thta = S2a/(1+S2a)/test*1e-4\n",
    "#fact = ustartotal**1/((0.1)/(Ball*Htotal)**(1/3)) # with x^4/3 correlates at 0.76\n",
    "#fact = (ustartotal/(0.1))*ustartotal/((Ball*Htotal)**(1/3))\n",
    "#fact = fact**(1/3)*ustartotal/0.1\n",
    "#fact = (1 + fact**(-1))**(-1/3)\n",
    "#fact = fact**(1/3)\n",
    "#fact = ustartotal**4/(0.1**3*Htotal*test)\n",
    "#fact = np.array(MOdepth)/Htotal*ustartotal/0.1\n",
    "#fact = np.sqrt(Ball/test**3)/Htotal\n",
    "#fact = Ball/(test**3*Htotal**2)\n",
    "#fact = np.array(ustartotal)**2*Htotal/(0.1**2*np.array(MOdepth))\n",
    "efact = 0*(bfb)/(test**3*Htotal**2)#*(1-S2a/(1+S2a))\n",
    "efact = (1e-4*test-bfb)/(np.abs(Ball)**(1/3)*Htotal**(4/3)*test)\n",
    "\n",
    "## ASSUMING <v'w'> ~ u*(Bh)^(1/3)\n",
    "efact = 1e-4*test/(ustartotal*np.abs(Ball)**(1/3)*Htotal**(1/3))\n",
    "\n",
    "## ASSUMING <v'w'> ~ u*(Bh)^(1/3)\n",
    "efact = 1e-4*test/(Htotal**2*test**2)\n",
    "\n",
    "popt, pcov = optimize.curve_fit(fithT(en[mask], Hop[mask], Ball[mask], efact[mask], yvar[mask]),fact[mask], yvar[mask]*Hop[mask], p0=[0.7],\n",
    "                                absolute_sigma=True, maxfev = 500)\n",
    "print(popt)\n",
    "print(pcov)"
   ]
  },
  {
   "cell_type": "code",
   "execution_count": 111,
   "metadata": {
    "scrolled": false
   },
   "outputs": [
    {
     "data": {
      "text/plain": [
       "(0, 150)"
      ]
     },
     "execution_count": 111,
     "metadata": {},
     "output_type": "execute_result"
    },
    {
     "data": {
      "image/png": "[encoded data removed]",
      "text/plain": [
       "<Figure size 360x360 with 1 Axes>"
      ]
     },
     "metadata": {
      "needs_background": "light"
     },
     "output_type": "display_data"
    },
    {
     "data": {
      "image/png": "[encoded data removed]",
      "text/plain": [
       "<Figure size 360x360 with 2 Axes>"
      ]
     },
     "metadata": {
      "needs_background": "light"
     },
     "output_type": "display_data"
    },
    {
     "data": {
      "image/png": "[encoded data removed]",
      "text/plain": [
       "<Figure size 432x288 with 1 Axes>"
      ]
     },
     "metadata": {
      "needs_background": "light"
     },
     "output_type": "display_data"
    }
   ],
   "source": [
    "#mask =  np.logical_and(MOdepth/(Htotal) <1e10, ydata>1e-3)\n",
    "#mask =  np.logical_and(Ball/bfb>0, mask)\n",
    "\n",
    "Hop = Htotal\n",
    "#en = enttotal\n",
    "\n",
    "#fact = np.array(MOdepth/Htotal)\n",
    "\n",
    "plt.rcParams['text.usetex'] = True\n",
    "plt.rcParams.update({'font.size': 18})\n",
    "plt.rcParams['mathtext.fontset'] = 'stix'\n",
    "plt.rcParams['font.family'] = 'STIXGeneral'\n",
    "\n",
    "yvar = ydatah\n",
    "#print(np.corrcoef(np.array(hntotal), y = fitn(en, Htotal)(np.array(factor), popt[0]))**2)\n",
    "# plt.scatter(np.array(hntotal)/np.array(Htotal), fitH(np.array(factor), poptl[0]))\n",
    "#fitt = fithT(en, Hop, S2a, ustartotal)(fact, 0.1, 0.33)/Hop\n",
    "#fitt = fithT(en, Hop, S2a, ustartotal)(fact, 14, 0.38)/Hop\n",
    "fitt = fithT(en, Hop, Ball, efact, yvar)(fact, popt[0])/Hop\n",
    "#fitt = fithT(en, Hop, Ball, efact, yvar)(fact, 14.1, popt[1], popt[2])/Hop\n",
    "\n",
    "#fitt = fithT(en, Hop, Ball, efact)(fact, 2.**(-3), popt[1])/Hop\n",
    "\n",
    "plt.figure(figsize=(5,5))\n",
    "plt.scatter(np.array(yvar)[mask]*Hop[mask], fitt[mask]*Hop[mask], zorder=2)\n",
    "corr = np.corrcoef(np.array(yvar*Hop)[mask], np.array(fitt*Hop)[mask])\n",
    "plt.title(f'r$^2$ = {corr[1,0]**2:.2}')\n",
    "plt.plot([0, np.max(Hop)], [0, np.max(Hop)], color='0.25', linestyle='--', zorder=1)\n",
    "plt.ylim(0, 150); plt.xlim(0, 150)\n",
    "plt.xticks([0, 25, 50, 75, 100, 125, 150])\n",
    "plt.xlabel('$h_{NUM}$ (m)')\n",
    "plt.ylabel('$h$ (m)')\n",
    "plt.grid()\n",
    "\n",
    "plt.savefig('./MSFigs/ConvTheory.pdf', bbox_inches='tight')\n",
    "\n",
    "\n",
    "plt.figure(figsize=(5,5))\n",
    "plt.scatter(np.array(yvar)[mask], fitt[mask], c = Ball[mask]/bfb[mask])\n",
    "plt.colorbar()\n",
    "corr = np.corrcoef(np.array(yvar)[mask], np.array(fitt)[mask])\n",
    "plt.title(f'r$^2$ = {corr[1,0]**2:.2}')\n",
    "plt.plot([0, 1], [0, 1], color='k')\n",
    "plt.ylim(0, 1); plt.xlim(0, 1)\n",
    "plt.xlabel('$h_{NUM}$ (m)')\n",
    "plt.ylabel('$h_{SCALE}$ (m)')\n",
    "plt.grid()\n",
    "\n",
    "\n",
    "plt.figure()\n",
    "plt.plot((yvar*Hop)[mask])\n",
    "plt.plot((fitt*Hop)[mask])\n",
    "#plt.plot((nums*Hop[mask]))\n",
    "\n",
    "#plt.plot((1-popt[1]/popt[0])*Hop[mask])\n",
    "plt.plot(Hop[mask], linestyle='--')\n",
    "plt.ylim(0, 150)"
   ]
  },
  {
   "cell_type": "code",
   "execution_count": null,
   "metadata": {},
   "outputs": [],
   "source": [
    "mask = np.logical_and(MOdepth/(Htotal) < 1e10, yvar>0)\n",
    "#mask = np.logical_and(Ball/bfb>(1+S2a), mask) # USED IN MS\n",
    "mask = np.logical_and(Ball/bfb>4, mask)\n",
    "mask.size - sum(mask)"
   ]
  },
  {
   "cell_type": "code",
   "execution_count": null,
   "metadata": {},
   "outputs": [],
   "source": [
    "plt.semilogy(8**3*(fact)**4)"
   ]
  },
  {
   "cell_type": "code",
   "execution_count": null,
   "metadata": {},
   "outputs": [],
   "source": [
    "plt.plot(Ball*(1+S2a)/bfb)\n",
    "#plt.plot(Ball/bfb)\n",
    "plt.plot(S2a)\n"
   ]
  },
  {
   "cell_type": "code",
   "execution_count": null,
   "metadata": {},
   "outputs": [],
   "source": [
    "thta = np.sqrt(S2a/(1e4*bfb)*1e-8)\n",
    "#plt.semilogy(Htotal*(1-ydata)/(thta/S2a))\n",
    "plt.semilogy(Htotal/(thta/S2a))\n",
    "plt.semilogy(Htotal)\n",
    "plt.axhline(1000)\n",
    "plt.axhline(100)"
   ]
  },
  {
   "cell_type": "code",
   "execution_count": null,
   "metadata": {},
   "outputs": [],
   "source": [
    "plt.plot(Htotal/thta*S2a)\n",
    "plt.axhline(100)"
   ]
  },
  {
   "cell_type": "code",
   "execution_count": null,
   "metadata": {},
   "outputs": [],
   "source": []
  },
  {
   "cell_type": "code",
   "execution_count": null,
   "metadata": {},
   "outputs": [],
   "source": []
  },
  {
   "cell_type": "code",
   "execution_count": null,
   "metadata": {},
   "outputs": [],
   "source": []
  },
  {
   "cell_type": "code",
   "execution_count": null,
   "metadata": {},
   "outputs": [],
   "source": []
  },
  {
   "cell_type": "markdown",
   "metadata": {},
   "source": [
    "## REGRESS COEFFICIENT DIRECTLY FOR <V'W'>"
   ]
  },
  {
   "cell_type": "code",
   "execution_count": null,
   "metadata": {},
   "outputs": [],
   "source": [
    "plt.plot(vpwp)\n",
    "plt.plot(ydata*ustartotal**2 - ustartotal**2)"
   ]
  },
  {
   "cell_type": "code",
   "execution_count": null,
   "metadata": {},
   "outputs": [],
   "source": [
    " def fitFlux(sigma):\n",
    "        def fitF(mag, C, I):\n",
    "            nt = mag.size\n",
    "            scale = np.ones((nt))\n",
    "            for i in range(0, nt):\n",
    "#                scale[i] =  C*mag[i]*(sigma[i] - 2*sigma[i]**2 + sigma[i]**3)\n",
    "#                scale[i] = C*mag[i]*sigma[i] + I*ustartotal[i]**2/sigma[i]\n",
    "#                scale[i] = C*test[i]**(-1)*ustartotal[i]**3/(ydata[i]*Htotal[i])*(0*I + ydata[i]*Htotal[i]/MOdepth[i])*(1-sigma[i])\n",
    "#                scale[i] = C*mag[i]*(1-sigma[i]) \n",
    "                scale[i] = C*ustartotal[i]*ydata[i]*Htotal[i]*test[i]\n",
    "            return scale\n",
    "        return fitF\n",
    "\n",
    "# Optimize for H\n",
    "mask = np.logical_and(MOdepth/(Htotal) < 1e10, ydata>1e-3)\n",
    "mask = np.logical_and(Ball/bfb>2, mask)\n",
    "\n",
    "sigma = ydata\n",
    "mag = ydata*test*(Ball*Htotal*ydata)**(1/3)*Htotal\n",
    "mag = ydata*Htotal*test*(Ball*ydata*Htotal)**(1/3)\n",
    "mag = (ustartotal)*(ustartotal**3 + 0.4*Ball*Htotal)**(1/3)\n",
    "\n",
    "#mag = (ydata**2*Htotal**2*test**2)\n",
    "#mag = ydata*Htotal*test*(Ball*Htotal)**(1/3)\n",
    "#mag = ustartotal**2\n",
    "popt, pcov = optimize.curve_fit(fitFlux(sigma[mask]),mag[mask], vpwp[mask], p0=[-3,10],\n",
    "                                absolute_sigma=True, method='lm')\n",
    "\n",
    "print(popt)\n",
    "print(pcov)\n",
    "\n",
    "fitFluxes = fitFlux(sigma)(mag, popt[0], popt[1])\n",
    "\n",
    "plt.scatter(vpwp[mask], fitFluxes[mask])\n",
    "#plt.scatter(vpwp[mask], -ustartotal[mask]**2)\n",
    "l = np.max([np.max(np.abs(vpwp[mask])), np.max(np.abs(fitFluxes[mask]))])\n",
    "plt.plot([-l, l], [-l, l])\n",
    "plt.xlim(-l, l)\n",
    "plt.ylim(-l, l)\n",
    "\n",
    "corr = np.corrcoef(np.array(vpwp)[mask], np.array(fitFluxes)[mask])\n",
    "plt.title(f'r$^2$ = {corr[1,0]**2:.2}')\n",
    "\n",
    "plt.figure()\n",
    "plt.plot(vpwp[mask])\n",
    "plt.plot(fitFluxes[mask])\n",
    "\n",
    "LHS = (Ball[mask] )*enttotal[mask]\n",
    "vpwpscale = fitFluxes[mask]\n",
    "RHSs = vpwpscale*test[mask] + Ball[mask] \n",
    "nums = RHSs/LHS\n",
    "RHS = vpwp[mask]*test[mask] + Ball[mask] \n",
    "num = RHS/LHS\n",
    "\n",
    "plt.figure()\n",
    "plt.plot((Htotal*ydata)[mask])\n",
    "plt.plot(Htotal[mask]*nums)\n",
    "plt.plot(Htotal[mask]*num)\n",
    "plt.plot(Htotal[mask]*(popt[0]+1)/(popt[0]+enttotal[mask]))\n",
    "corr = np.corrcoef(Htotal[mask]*ydata[mask], Htotal[mask]*nums)\n",
    "plt.title(f'r$^2$ = {corr[1,0]**2:.2}')"
   ]
  },
  {
   "cell_type": "code",
   "execution_count": null,
   "metadata": {},
   "outputs": [],
   "source": [
    "plt.plot(ustartotal*Htotal)\n",
    "plt.plot(ydata)"
   ]
  },
  {
   "cell_type": "code",
   "execution_count": null,
   "metadata": {},
   "outputs": [],
   "source": [
    "# Optimize for H\n",
    "mask = np.logical_and(MOdepth/(Htotal) < 1e10, ydata>1e-3)\n",
    "mask = np.logical_and(S2a<1e10, mask)\n",
    "\n",
    "def f(x, factor, C, ent):\n",
    "#    return x**4*(1-2*x+x**2)**3 - C**3*factor**(4)*(1-ent*x)**3\n",
    "    #return (x-0.4)**4 - C**3*factor**4*(1-ent*x)**3\n",
    "    #return x**4/3*(1-2*x+x**2)**1 - C**1*factor**(1/3)*(1-ent*x)**1\n",
    "\n",
    "    return x**4 - C**3*factor**4*(1-ent*x)**3\n",
    "\n",
    "fact = 0.4*np.array(MOdepth/Htotal)[mask]\n",
    "ent = enttotal[mask]\n",
    "ns = ent.size\n",
    "hH = np.zeros((ns,))\n",
    "for i in range(0,ns):\n",
    "    hall, info, ier, n = optimize.fsolve(f,  0.5, (fact[i], popt[0]**(-1), ent[i]), \n",
    "                                        maxfev=100000, full_output=True)\n",
    "\n",
    "    if ier != 0:\n",
    "        hall = [0, 0]\n",
    "\n",
    "    hH[i] = hall[inda]\n",
    "    #sol = optimize.root(f, [0.5], (fact[i], -popt[0]**(-1), ent[i]), method='lm')\n",
    "    #inda = np.argmin(np.abs(sol.x - ydata[i]))\n",
    "    #hH[i] = sol.x[inda]\n",
    "    \n",
    "alpha = -popt[0]**(-3)*(MOdepth/Htotal)**4\n",
    "Q = ((27*alpha**2 + np.sqrt(729*alpha**4 + 6912*alpha**3))/2)**(1/3)\n",
    "S = 0.5*np.sqrt(2*alpha + 0.25*alpha**2 + 1/3*(Q - 12*alpha/Q))\n",
    "q = 1/8*alpha*((alpha-2)**2 + 20)\n",
    "p = -3/8*alpha**2 - 3*alpha\n",
    "\n",
    "#hH = -alpha/4 - S + 0.5*np.sqrt(-4*S**2 - 2*p + q/S)\n",
    "     \n",
    "plt.figure()\n",
    "plt.scatter((ydata*Htotal)[mask], hH*Htotal[mask], c=np.log10(alpha[mask]))\n",
    "plt.ylim(-0, 150)\n",
    "plt.xlim(-0, 150)\n",
    "plt.colorbar()\n",
    "plt.grid()\n",
    "corr = np.corrcoef(np.array(ydata*Htotal)[mask], np.array(hH*Htotal[mask]))\n",
    "plt.title(f'r$^2$ = {corr[1,0]**2:.2}')\n",
    "\n",
    "plt.figure()\n",
    "plt.plot((ydata*Htotal)[mask])\n",
    "plt.plot(hH*Htotal[mask])\n",
    "plt.plot(Htotal[mask])"
   ]
  },
  {
   "cell_type": "code",
   "execution_count": null,
   "metadata": {},
   "outputs": [],
   "source": [
    "# TEST FOR ROOTS\n",
    "\n",
    "def f(x, factor, C):\n",
    "#    return x**4*(1-2*x+x**2)**3 - C**3*factor**(4)*(1-x)**3\n",
    "#    return x**4 - C**3*factor**(4)*(1-x)**3\n",
    "    return x**1 - C**3*factor**(1)*(1-x)**3\n",
    "\n",
    "\n",
    "fa = 2e-1\n",
    "hall, info, ier, n = optimize.fsolve(f,  [0.1, 0.2, 0.3, 0.4, 0.5, 0.6, 0.7, 0.8], (fa, 1), maxfev=100000, full_output=True)\n",
    "\n",
    "print(ier)\n",
    "sig = np.linspace(0, 1)\n",
    "plt.plot(0*hall, hall, marker='x')\n",
    "plt.plot(f(sig, fa, 1), sig)"
   ]
  },
  {
   "cell_type": "code",
   "execution_count": null,
   "metadata": {},
   "outputs": [],
   "source": [
    "def f(x, factor, C, ent):\n",
    "    return x**4*(1-2*x+x**2)**3 - C*factor**(4)*(1-ent*x)**3\n",
    "#    return x**4 - C**3*factor**(4)*(1-x)**3\n",
    "    return x**2 - C*factor**(2)*(1-ent*x)\n",
    "\n",
    "fact = 0.4*np.array(MOdepth/Htotal)[mask]\n",
    "C = 0.1\n",
    "ent = enttotal[mask]\n",
    "ns = ent.size\n",
    "hH = np.zeros((ns,))\n",
    "for i in range(0,ns):\n",
    "    hall, info, ier, n = optimize.fsolve(f,  [0.1, 0.2, 0.3, 0.4, 0.5, 0.6, 0.7, 0.8], (fact[i], C, ent[i]), maxfev=100000, full_output=True)\n",
    "\n",
    "    if ier != 1:\n",
    "        hall = [0, 0]\n",
    "        print('fail')\n",
    "    inda = np.argmin(np.abs(hall - ydata[i]))\n",
    "    #print(inda)\n",
    "    hH[i] = hall[inda]\n",
    "    #sol = optimize.root(f, [0.5], (fact[i], -popt[0]**(-1), ent[i]), method='lm')\n",
    "    #inda = np.argmin(np.abs(sol.x - ydata[i]))\n",
    "    #hH[i] = sol.x[inda]\n",
    "plt.plot(ydata[mask])\n",
    "plt.plot(hH)"
   ]
  },
  {
   "cell_type": "code",
   "execution_count": null,
   "metadata": {},
   "outputs": [],
   "source": [
    "plt.scatter(ydata, (Htotal*test/ustartotal)**(-2), c=test)\n",
    "plt.colorbar()\n",
    "plt.ylim(0, 10)"
   ]
  },
  {
   "cell_type": "code",
   "execution_count": null,
   "metadata": {},
   "outputs": [],
   "source": [
    "plt.plot(vpwp)\n",
    "\n",
    "#plt.plot(1e-1*(ydata*Htotal)**(2)*test**2)\n",
    "plt.plot(-1e-1*0.1*ydata*ustartotal)\n",
    "plt.plot(-1e-2*0.1*(Ball*ydata*Htotal)**(1/3))\n",
    "beta = popt[0]**(-1)\n",
    "alpha = popt[1]*beta\n",
    "#plt.plot(-(ustartotal*(1-ydata))**2, linestyle='--')\n",
    "cd = 1e-3\n",
    "#plt.plot(-0.01*Htotal*(1-ydata)*test*(Ball*ydata*Htotal)**(1/3))\n",
    "#plt.plot(-0.01*(ydata*Htotal)**2*test**2)\n",
    "#plt.plot(-ustartotal*(Ball*ydata*Htotal)**(1/3))\n",
    "#plt.plot(-0.3*ustartotal*(Ball*ydata*Htotal)**(1/3))\n",
    "#plt.plot(-0.01*(ydata*Htotal - 0.5*Htotal)**2*test**2)\n",
    "#plt.plot(-4*ustartotal**2*ydata**2)\n",
    "#plt.plot(-1e-2*ydata*Htotal*test*(Ball*ydata*Htotal)**(1/3))\n",
    "#plt.plot(0.001*(ydata*Htotal)**2*test**2)\n",
    "#plt.plot(-cd*(0.1-Htotal*test)**2)\n",
    "#plt.plot(-cd*0.1**2 - cd*(Htotal*test)**2 + 2*cd*Htotal*test*0.1)\n",
    "#plt.plot(-0.25*ustartotal*(Ball*ydata*Htotal)**(1/3))\n",
    "#plt.plot(-0.4*ustartotal**2 - 0.1*ustartotal*(Ball*ydata*Htotal)**(1/3))\n",
    "#plt.plot(-0.4*ustartotal**2 - 0.01*ustartotal*ydata*Htotal*test)\n",
    "#plt.plot(-0.1*(np.array(MOdepth)**2*test**2), color='g')\n",
    "\n",
    "#plt.plot(-0.3*ustartotal**2 - 0.005*(ydata*Htotal*test)**2*(Ball*ydata*Htotal)**(1/3))\n",
    "\n",
    "#plt.plot(-ustartotal**2 + 0.0*ydata*Htotal*test*(Ball*ydata*Htotal)**(1/3))\n",
    "\n",
    "#plt.ylim(-1e-5, 1e-5)"
   ]
  },
  {
   "cell_type": "code",
   "execution_count": null,
   "metadata": {},
   "outputs": [],
   "source": [
    "plt.plot(ydata)\n",
    "plt.plot(1+vpwp/ustartotal**2)\n",
    "plt.plot(-vpwp/\n",
    "#plt.plot( vpwp/(integrate.cumtrapz(bfb, x=time, initial=0)))\n",
    "#plt.ylim(-1, 1)"
   ]
  },
  {
   "cell_type": "code",
   "execution_count": null,
   "metadata": {},
   "outputs": [],
   "source": [
    "plt.plot(ydata*Htotal)\n",
    "plt.plot(Htotal)\n",
    "plt.plot(Htotal/(1 + 20*np.array(MOdepth/Htotal)))\n",
    "plt.ylim(0, 100)"
   ]
  },
  {
   "cell_type": "code",
   "execution_count": null,
   "metadata": {},
   "outputs": [],
   "source": [
    "plt.plot(ustartotal**2)\n",
    "cd = 2e-3\n",
    "plt.plot(cd*(0.1-test*Htotal)**2)\n",
    "plt.plot( cd*0.1**2 - 2*cd*0.1*test*Htotal)"
   ]
  },
  {
   "cell_type": "code",
   "execution_count": null,
   "metadata": {},
   "outputs": [],
   "source": [
    "mask = np.array(MOdepth/Htotal)< 0.5\n",
    "plt.plot(ydata[mask])\n",
    "plt.plot(np.sqrt(1e-4/test[mask]/0.4))\n",
    "plt.ylim(0, 1)\n",
    "print(np.sqrt(np.mean(1e-4/test[mask])))\n",
    "print((np.abs(popt[-1])))"
   ]
  },
  {
   "cell_type": "markdown",
   "metadata": {},
   "source": [
    "# Extras"
   ]
  },
  {
   "cell_type": "code",
   "execution_count": null,
   "metadata": {},
   "outputs": [],
   "source": [
    "plt.plot(ydata*Htotal)\n",
    "plt.plot(0.8*( 1 - 0.55*Htotal*test/0.1)*Htotal/(enttotal))"
   ]
  },
  {
   "cell_type": "code",
   "execution_count": null,
   "metadata": {},
   "outputs": [],
   "source": [
    "fig, ax = plt.subplots()\n",
    "ax.plot((ustartotal)/1e-4/Htotal)\n",
    "#ax.set_ylim(0,1)\n",
    "ax2 = ax.twinx()\n",
    "\n",
    "ax2.plot(ydata)\n",
    "ax2.set_ylim(0,1)\n",
    "#plt.ylim(0,1)\n",
    "#np.mean(0.4*ustartotal/1e-4/Htotal)"
   ]
  },
  {
   "cell_type": "code",
   "execution_count": null,
   "metadata": {},
   "outputs": [],
   "source": [
    "h = np.array(ydata*Htotal)\n",
    "\n",
    "plt.plot(vpwp)\n",
    "#plt.plot(-ustartotal**2/0.4*(0.5 - h/MOdepth)*(1-np.array(ydata)))\n",
    "plt.plot(-ustartotal**2*(1-ydata))\n",
    "#plt.plot(1e-1*ustartotal**2/0.4*(-h/MOdepth)*(1-ydata))\n",
    "plt.ylim(-1e-5, 1e-5)"
   ]
  },
  {
   "cell_type": "code",
   "execution_count": null,
   "metadata": {},
   "outputs": [],
   "source": [
    "plt.plot(1-ydata)"
   ]
  },
  {
   "cell_type": "code",
   "execution_count": null,
   "metadata": {},
   "outputs": [],
   "source": [
    "A = 0.3 + 1+0*ydata\n",
    "\n",
    "plt.plot(ydata)\n",
    "plt.plot(-1/4*(A-np.sqrt(A+4)*np.sqrt(A)))\n"
   ]
  },
  {
   "cell_type": "code",
   "execution_count": null,
   "metadata": {},
   "outputs": [],
   "source": [
    "plt.plot(ydata)\n",
    "#plt.plot(fitt)\n",
    "#plt.plot(1-np.array(MOdepth)/(0.4*ustartotal/1e-4))\n",
    "#plt.plot(1-np.array(MOdepth)/(1.4*ustartotal/np.sqrt(1e-4*np.sqrt(1e-6))))\n",
    "plt.plot((1.4*ustartotal/1e-4)/(Htotal))\n",
    "plt.plot(0.06*ustartotal/1e-4/MOdepth)\n",
    "#plt.plot(5*np.array(MOdepth)/Htotal)\n",
    "plt.ylim(0,1)\n",
    "#plt.plot(1-(1+S2a)/(0.4*0.4*np.sqrt(S2a))*(1e-4)/np.sqrt(1e-5))"
   ]
  },
  {
   "cell_type": "code",
   "execution_count": null,
   "metadata": {},
   "outputs": [],
   "source": [
    "np.mean(0.06*ustartotal/1e-4/MOdepth)"
   ]
  },
  {
   "cell_type": "code",
   "execution_count": null,
   "metadata": {},
   "outputs": [],
   "source": [
    "plt.plot(1/test)"
   ]
  },
  {
   "cell_type": "code",
   "execution_count": null,
   "metadata": {},
   "outputs": [],
   "source": [
    "mask = MOdepth/(ydata*Htotal)<1\n",
    "plt.plot(ydata[mask]*Htotal[mask])\n",
    "#np.array(test).shape\n",
    "#plt.plot(1-(-0.043*np.array(vpwpscale)[mask]+5.9377e-6)*np.array(test)[mask]/(np.array(Ball)[mask]))\n",
    "#plt.plot((1-a*np.array(test)[mask]*np.array(scale)[mask]/np.array(Ball)[mask]))\n",
    "plt.plot( (1+0.7*test[mask]*scale[mask]/Ball[mask])*Htotal[mask])\n",
    "    #plt.ylim(0,2)"
   ]
  },
  {
   "cell_type": "code",
   "execution_count": null,
   "metadata": {},
   "outputs": [],
   "source": [
    "plt.plot(np.array(ydata))\n",
    "plt.plot(1+np.array(test)/4000)"
   ]
  },
  {
   "cell_type": "code",
   "execution_count": null,
   "metadata": {},
   "outputs": [],
   "source": [
    "nz, nf = np.array(vbf).shape\n",
    "colors = ['r', 'g', 'b', 'k', 'c', 'm']\n",
    "plt.figure(figsize=(10,10))\n",
    "ci = 0\n",
    "for i in range(0, 30,10):\n",
    "    plt.plot(vbf[:,i], z/Htotal[i], color=colors[ci])\n",
    "    plt.plot(0, ydata[i], color=colors[ci], marker='x')\n",
    "    ci += 1\n",
    "plt.grid()   \n",
    "plt.ylim((0, 2))\n",
    "plt.xlim((-1e-9, 1e-9))"
   ]
  },
  {
   "cell_type": "code",
   "execution_count": null,
   "metadata": {},
   "outputs": [],
   "source": [
    "#plt.plot(qmean, z)\n",
    "#plt.plot(qsmooth,z)\n",
    "#plt.axvline(Qo*0.2)\n",
    "\n",
    "ts = -1\n",
    "V = 0.1\n",
    "#plt.plot(qflux[0,:],z)\n",
    "plt.plot(-test[ts]*vpwpa[ts,:], z)\n",
    "plt.plot(vbf[:,ts], z)\n",
    "#plt.plot(-test[ts]*vpwpa[ts,:]+vbf[:,ts], z, linestyle='dashed')\n",
    "plt.axhline(Htotal[ts])\n",
    "plt.axhline(ydata[ts]*Htotal[ts], color='r')\n",
    "plt.axhline(MOdepth[ts], color='y')\n",
    "plt.axvline(ustartotal[ts]**2*test[ts])\n",
    "#plt.plot(ustartotal[ts]**2*test[ts]*(1-enttotal[ts]*z/Htotal[ts]), z)\n",
    "#plt.plot(test[ts]*np.array(vpwpscale[ts])*(1-z/Htotal[ts]), z)\n",
    "wstar = np.array(vpwpscale)[ts]/(test[ts]*ydata[ts]*Htotal[ts])\n",
    "#plt.plot(2.5e-2*test[ts]*np.array((V - test[ts]*Htotal[ts])*wstar)*(1-enttotal[ts]*z/Htotal[ts]), z)\n",
    "plt.axvline(2.5e-2*test[ts]*np.array((V - test[ts]*Htotal[ts])*wstar)*0.5, color='g')\n",
    "\n",
    "#plt.plot(0.5*test[ts]*np.array(ustartotal[ts]*wstar)*(1-enttotal[ts]*z/Htotal[ts]), z)\n",
    "#plt.plot(1.2e-2*test[ts]*np.array(test[ts]*Htotal[ts]*wstar)*(1-enttotal[ts]*z/Htotal[ts]), z)\n",
    "plt.axvline(0.35*test[ts]*np.array(wstar*ustartotal[ts]), color='y')\n",
    "\n",
    "plt.grid()\n",
    "plt.title(MOdepth[ts]/Htotal[ts])\n",
    "plt.ylim(0, 50)"
   ]
  },
  {
   "cell_type": "code",
   "execution_count": null,
   "metadata": {},
   "outputs": [],
   "source": [
    "vpwpa = np.array(vpwpa)\n",
    "vpwpa.shape"
   ]
  },
  {
   "cell_type": "code",
   "execution_count": null,
   "metadata": {},
   "outputs": [],
   "source": [
    "np.mean(S2a/(1+S2a))\n"
   ]
  },
  {
   "cell_type": "code",
   "execution_count": null,
   "metadata": {},
   "outputs": [],
   "source": [
    "bz.shape\n",
    "plt.plot(np.mean(bz[-18:, :]+N**2, axis=0), z)\n",
    "plt.axhline(hn)\n",
    "plt.axhline(H)"
   ]
  },
  {
   "cell_type": "code",
   "execution_count": null,
   "metadata": {},
   "outputs": [],
   "source": [
    "wbz = np.gradient(np.array(vbfa), axis=1)/np.gradient(z)\n",
    "wbzz = np.gradient(wbz, axis=1)/np.gradient(z)\n",
    "plt.plot(np.array(vbfa)[-1,:], z)\n",
    "plt.plot(qm[-1,:], z)\n",
    "plt.axhline(ydata[-1]*Htotal[-1])\n",
    "plt.axhline(Htotal[-1])"
   ]
  },
  {
   "cell_type": "markdown",
   "metadata": {},
   "source": []
  },
  {
   "cell_type": "code",
   "execution_count": null,
   "metadata": {},
   "outputs": [],
   "source": [
    "qm.shape"
   ]
  },
  {
   "cell_type": "code",
   "execution_count": null,
   "metadata": {},
   "outputs": [],
   "source": []
  },
  {
   "cell_type": "code",
   "execution_count": null,
   "metadata": {},
   "outputs": [],
   "source": [
    "# fit optimal in terms of h (rather than h/H)\n",
    "# poptl, pcov = optimize.curve_fit(fitH, factor[:], ydata[:]*Htotal, p0=14)\n",
    "# print(poptl[0])\n",
    "\n",
    "mask = ydata<100\n",
    "en = np.array(enttotal)\n",
    "popt, pcov = optimize.curve_fit(fitn(en[mask], Htotal[mask]), factor[mask], ydata[mask]*Htotal[mask], p0=14)\n",
    "print(popt[0])\n",
    "\n",
    "print(np.corrcoef(np.array(hntotal), y = fitn(en, Htotal)(np.array(factor), popt[0]))**2)\n",
    "# plt.scatter(np.array(hntotal)/np.array(Htotal), fitH(np.array(factor), poptl[0]))\n",
    "fitt = fitn(en, Htotal)(np.array(factor), popt[0])\n",
    "plt.scatter(np.array(hntotal), fitt)\n",
    "\n",
    "\n",
    "plt.plot(np.array(hntotal), np.array(hntotal))\n",
    "\n",
    "plt.grid()\n",
    "plt.figure()\n",
    "plt.plot(ydata)\n",
    "plt.plot(fitt/Htotal)\n",
    "\n",
    "# plt.plot(fitH(factor, poptl[0]))"
   ]
  },
  {
   "cell_type": "code",
   "execution_count": null,
   "metadata": {},
   "outputs": [],
   "source": [
    "plt.figure()\n",
    "plt.plot(ydata*Htotal)\n",
    "plt.plot(fitn(en, Htotal)(factor, popt[0]))\n",
    "#plt.plot(fitn(en, Htotal)(factor, 14))\n"
   ]
  },
  {
   "cell_type": "code",
   "execution_count": null,
   "metadata": {},
   "outputs": [],
   "source": [
    "ci"
   ]
  },
  {
   "cell_type": "code",
   "execution_count": null,
   "metadata": {},
   "outputs": [],
   "source": [
    "test.shape"
   ]
  },
  {
   "cell_type": "code",
   "execution_count": null,
   "metadata": {},
   "outputs": [],
   "source": [
    "vbf"
   ]
  },
  {
   "cell_type": "code",
   "execution_count": null,
   "metadata": {},
   "outputs": [],
   "source": [
    "nz, nf = np.array(vbf).shape\n",
    "colors = ['r', 'g', 'b', 'k', 'c', 'm', 'r', 'g', 'b']\n",
    "plt.figure(figsize=(10,10))\n",
    "for i in range(8, nf, 10):\n",
    "    plt.plot(vbf[:,i], z, color=plt.cm.jet(i/nf))\n",
    "    #plt.plot(0, fitH(factor[i], popt[0]), marker='x')\n",
    "    plt.plot(0, fitn(np.array([enttotal[i]]), Htotal[i])(np.array([factor[i]]), popt[0]), marker='o', color=plt.cm.jet(i/nf))\n",
    "    plt.gca().set_prop_cycle(None)\n",
    "    plt.plot(0, ydata[i]*Htotal[i],  marker='x',color=plt.cm.jet(i/nf))\n",
    "\n",
    "plt.grid()   \n",
    "plt.ylim((0, 50))\n",
    "plt.xlim((-2e-10, 2e-10))\n",
    "#lt.xlim((-1e-9, 1e-9))"
   ]
  },
  {
   "cell_type": "code",
   "execution_count": null,
   "metadata": {},
   "outputs": [],
   "source": [
    "\n",
    "#plt.plot(fitH(factor, popt[0]))"
   ]
  },
  {
   "cell_type": "markdown",
   "metadata": {},
   "source": [
    "## Test one specific run"
   ]
  },
  {
   "cell_type": "code",
   "execution_count": null,
   "metadata": {},
   "outputs": [],
   "source": [
    "filename = '/data/thomas/jacob13/SI_ON_A_SLOPE/snapshots_0p10.h5' #0.1 slope\n",
    "#filename = '/data/thomas/jacob13/SI_ON_A_SLOPE/SI_DNS/SI_1e-5_0p05/snapshots/snapshots_1e-5_0p05.h5' #0.1 slope\n",
    "#filename = '/data/thomas/jacob13/SI_ON_A_SLOPE/SI_DNS/SI_5e-7_0p42/snapshots/snapshots_5e-7_0p42.h5' #0.1 slope\n",
    "#filename = '/data/thomas/jacob13/SI_ON_A_SLOPE/SI_DNS/SI_1e-5_0p0225/snapshots/snapshots_1e-5_0p0225.h5' #0.1 slope\n",
    "filename = '/data/thomas/jacob13/SI_ON_A_SLOPE/SI_DNS/SI_1e-5_0p02/snapshots/snapshots_1e-5_0p02.h5' #Ruan case F\n",
    "#filename = '/data/thomas/jacob13/SI_ON_A_SLOPE/SI_DNS/SI_1e-7_0p005/snapshots/snapshots_1e-7_0p005.h5' #Ruan case A\n",
    "filename = '/data/thomas/jacob13/SI_ON_A_SLOPE/SI_DNS/SI_1e-6_0p01/snapshots/snapshots_1e-6_0p01.h5'\n",
    "\n",
    "f = h5py.File(filename, 'r')\n",
    "\n",
    "# Get the data\n",
    "data = list(f['tasks'])\n",
    "\n",
    "# Basic parameters\n",
    "N = f['tasks']['N'][0,0,0] #Interior stratification (background)\n",
    "tht = f['tasks']['tht'] # Slope angle\n",
    "\n",
    "\n",
    "# Load variables in physical space\n",
    "b = f['tasks']['b'] # Perturbation buoyancy\n",
    "v = f['tasks']['v'] # Along-slope direction\n",
    "vbfr = f['tasks']['VBFr']\n",
    "#vbfrot = f['tasks']['VBFrotated']\n",
    "z = v.dims[2][0][:]\n",
    "time = v.dims[0][0][:]\n",
    "q = f['tasks']['PV']\n",
    "qm = np.mean(q, axis=1)\n",
    "Qo = 1e-4*N**2\n",
    "vz = np.gradient(np.mean(v, axis=1), axis=-1)/np.gradient(z)\n",
    "bz = np.gradient(np.mean(b, axis=1), axis=-1)/np.gradient(z)\n",
    "# Calculate BEk\n",
    "tauy = -1035*1e-4*vz[:,0] #Note that 1e-4 is the viscosity for the DNS\n",
    "Bek = tauy/(1030*1e-4)*N**2*np.sin(tht[:,0,0])\n",
    "\n",
    "# Calculate h\n",
    "\n",
    "nt = time.size\n",
    "\n",
    "h_H = []\n",
    "Hq = []\n",
    "x1 = []\n",
    "for i in range(0, nt, 12):\n",
    "    ti = range(i, i+12)\n",
    "    vsmooth = np.mean(vbfr[ti,0,:]-0*1e-4*(bz[ti,:] + N**2), axis=0)\n",
    "    #inds = np.where(np.diff(np.sign(vsmooth)) <0)[0]\n",
    "    #inds = np.where(vsmooth>0)[-1] # shallowest point where w'b'>0\n",
    "\n",
    "    qmean = integrate.cumtrapz(np.mean(qm[ti,:], axis=0), x=z, initial=0)\n",
    "    #indq = np.where(integrate.cumtrapz(np.mean(qm[ti,:], axis=0), x=z)>0)[0][0] \n",
    "    #inds = np.where(inds<=indq)[0]\n",
    "    inds = np.where(np.logical_and(vsmooth>0, qmean<=0))[0]\n",
    "    if inds.size == 0:\n",
    "        inds = [0]\n",
    "    inds = [inds[-1]]\n",
    "    \n",
    "    hn = z[inds[0]]\n",
    "# Calculate H\n",
    "    nt = Bek.shape[0]\n",
    "\n",
    "   \n",
    "\n",
    "    # Try a direct calculation of H and entrainment\n",
    "    indq = np.where(integrate.cumtrapz(np.mean(qm[ti,:], axis=0), x=z)>0)[0][0] \n",
    "    H = z[indq] - z[0]\n",
    "    ent = np.mean(vbfr[ti,0,indq] - 1e-4*(bz[ti,indq] + N**2))\n",
    "\n",
    "    Beka = np.mean(Bek[ti])\n",
    "    Ha = H\n",
    "    ha = hn\n",
    "    factorPartial = Beka**2/(Ha*0.1**3)*(1e-4/(N**2*tht[0,0,0]))**3\n",
    "    ydataPartial = ha/Ha     \n",
    "    entPartial = 1 + ent/Beka\n",
    "    \n",
    "    h_H.append(ydataPartial)\n",
    "    Hq.append(Ha)\n",
    "    x1.append(fitn(np.array([entPartial]))(np.array([factorPartial]), popt[0]))\n",
    "    \n",
    "x1 = np.array(x1)\n",
    "h_H = np.array(h_H)\n",
    "Hq = np.array(Hq)"
   ]
  },
  {
   "cell_type": "code",
   "execution_count": null,
   "metadata": {},
   "outputs": [],
   "source": [
    "x1.append(fitn(np.array([entPartial]))(np.array([factorPartial]), popt[0]))"
   ]
  },
  {
   "cell_type": "code",
   "execution_count": null,
   "metadata": {},
   "outputs": [],
   "source": [
    "plt.plot(h_H*Hq)\n",
    "plt.plot( x1[:,0]*Hq)"
   ]
  },
  {
   "cell_type": "code",
   "execution_count": null,
   "metadata": {},
   "outputs": [],
   "source": [
    "x1.shape"
   ]
  },
  {
   "cell_type": "code",
   "execution_count": null,
   "metadata": {},
   "outputs": [],
   "source": [
    "Hq.shape"
   ]
  },
  {
   "cell_type": "code",
   "execution_count": null,
   "metadata": {},
   "outputs": [],
   "source": [
    "plt.plot(integrate.cumtrapz(np.mean(qm[ti,:], axis=0), x=z, initial=0)/z/Qo, z/Ha)\n",
    "plt.plot(np.mean(qm[ti,:], axis=0)/Qo, z/Ha)\n",
    "plt.axhline(z[indq]/Ha)\n",
    "\n",
    "# plt.xlim(-2, 2)"
   ]
  },
  {
   "cell_type": "code",
   "execution_count": null,
   "metadata": {},
   "outputs": [],
   "source": [
    "plt.plot(vsmooth, z/Ha)\n",
    "plt.axhline(z[inds[0]]/Ha)"
   ]
  },
  {
   "cell_type": "code",
   "execution_count": null,
   "metadata": {},
   "outputs": [],
   "source": [
    "plt.plot(integrate.cumtrapz(z, x=z, initial=z[0]), z)"
   ]
  },
  {
   "cell_type": "code",
   "execution_count": null,
   "metadata": {},
   "outputs": [],
   "source": [
    "plt.plot(np.mean(GSP[ti,0,:], axis=0), z)\n",
    "# plt.plot(np.mean(vbf))\n",
    "plt.axhline(z[inds[0]])"
   ]
  },
  {
   "cell_type": "code",
   "execution_count": null,
   "metadata": {},
   "outputs": [],
   "source": [
    "ts= 20\n",
    "plt.plot(vpwpa[ts], z)\n",
    "plt.plot(vbfa[ts], z)\n",
    "\n",
    "plt.axhline(Htotal[ts], color='g')\n",
    "plt.axhline(ydata[ts]*Htotal[ts])\n",
    "plt.axhline(fitn(np.array([enttotal[ts]]), Htotal[ts])(np.array([factor[ts]]), popt[0]), color='r')\n",
    "plt.ylim(0, 90)"
   ]
  },
  {
   "cell_type": "code",
   "execution_count": null,
   "metadata": {},
   "outputs": [],
   "source": [
    "plt.scatter(ydata*Htotal, np.array(test)*Htotal)\n",
    "plt.title(np.corrcoef(ydata, np.array(test)))"
   ]
  },
  {
   "cell_type": "code",
   "execution_count": null,
   "metadata": {},
   "outputs": [],
   "source": [
    "plt.plot(np.mean(wq[ti,0,:]-0*1e-4*np.gradient(qm[ti,:], axis=-1)/np.gradient(z), axis=0), z/Ha)"
   ]
  },
  {
   "cell_type": "code",
   "execution_count": null,
   "metadata": {},
   "outputs": [],
   "source": [
    "q.shape"
   ]
  },
  {
   "cell_type": "code",
   "execution_count": null,
   "metadata": {},
   "outputs": [],
   "source": [
    "qm.shape"
   ]
  },
  {
   "cell_type": "code",
   "execution_count": null,
   "metadata": {},
   "outputs": [],
   "source": [
    "plt.plot(Htotal)"
   ]
  },
  {
   "cell_type": "code",
   "execution_count": null,
   "metadata": {},
   "outputs": [],
   "source": [
    "plt.plot(Htotal)"
   ]
  },
  {
   "cell_type": "code",
   "execution_count": null,
   "metadata": {},
   "outputs": [],
   "source": [
    "wq.shape"
   ]
  },
  {
   "cell_type": "code",
   "execution_count": null,
   "metadata": {},
   "outputs": [],
   "source": [
    "plt.plot(ustartotal)"
   ]
  },
  {
   "cell_type": "code",
   "execution_count": null,
   "metadata": {},
   "outputs": [],
   "source": [
    "plt.plot(bfh+bfb)\n",
    "plt.plot(bfh)\n",
    "plt.plot(test*1e-4*test)"
   ]
  },
  {
   "cell_type": "code",
   "execution_count": null,
   "metadata": {},
   "outputs": [],
   "source": [
    "plt.plot(-wbmin/wbmax)\n",
    "plt.plot(0.5*1/(1+S2a))\n",
    "plt.plot(ydata)\n",
    "plt.ylim(0,1)"
   ]
  },
  {
   "cell_type": "code",
   "execution_count": null,
   "metadata": {},
   "outputs": [],
   "source": [
    "plt.scatter(vpwp,2*ydata*(1-ydata**2)*0.5/(1+S2a)*Ball)\n",
    "l = np.max([np.abs(vpwp), np.abs(2*ydata*(1-ydata**2)*Ball)])\n",
    "plt.xlim(-l, l)\n",
    "plt.ylim(-l, l)"
   ]
  },
  {
   "cell_type": "code",
   "execution_count": null,
   "metadata": {},
   "outputs": [],
   "source": [
    "intdiss = (Ball*Htotal/2)\n",
    "plt.plot(vbfi/(1+S2a)/intdiss)\n",
    "#plt.plot(Ball)\n",
    "plt.plot(-test*vpwpi/intdiss)\n",
    "plt.plot((vbfi/(1+S2a)-test*vpwpi)/intdiss)\n",
    "\n",
    "plt.ylim(-1, 1)\n",
    "\n",
    "#plt.axvline(120)"
   ]
  },
  {
   "cell_type": "code",
   "execution_count": null,
   "metadata": {},
   "outputs": [],
   "source": [
    "plt.plot((Htotal-Htotal**2)/(1+Htotal))\n",
    "plt.plot(-ydata*Htotal)"
   ]
  },
  {
   "cell_type": "code",
   "execution_count": null,
   "metadata": {},
   "outputs": [],
   "source": [
    "np.asarray(vbfa).shape"
   ]
  },
  {
   "cell_type": "code",
   "execution_count": null,
   "metadata": {},
   "outputs": [],
   "source": []
  },
  {
   "cell_type": "code",
   "execution_count": null,
   "metadata": {},
   "outputs": [],
   "source": [
    "i = 120\n",
    "plt.plot(vbfa[i], zall[i])\n",
    "plt.axhline(Htotal[i]*ydata[i])"
   ]
  },
  {
   "cell_type": "code",
   "execution_count": null,
   "metadata": {},
   "outputs": [],
   "source": []
  }
 ],
 "metadata": {
  "kernelspec": {
   "display_name": "Python 3N",
   "language": "python",
   "name": "python3n"
  },
  "language_info": {
   "codemirror_mode": {
    "name": "ipython",
    "version": 3
   },
   "file_extension": ".py",
   "mimetype": "text/x-python",
   "name": "python",
   "nbconvert_exporter": "python",
   "pygments_lexer": "ipython3",
   "version": "3.6.7"
  }
 },
 "nbformat": 4,
 "nbformat_minor": 2
}
