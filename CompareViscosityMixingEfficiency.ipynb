{
 "cells": [
  {
   "cell_type": "code",
   "execution_count": 1,
   "metadata": {},
   "outputs": [],
   "source": [
    "import os\n",
    "import numpy as np\n",
    "import matplotlib.pyplot as plt\n",
    "from matplotlib.gridspec import GridSpec\n",
    "import h5py\n",
    "from pylab import *\n",
    "import scipy.integrate as integrate\n",
    "#from cmocean import cm as cmo\n",
    "import matplotlib.gridspec as gridspec\n",
    "import matplotlib.ticker \n",
    "import scipy.stats as stats\n",
    "import scipy.optimize as optimize\n",
    "from mpl_toolkits.axes_grid1.inset_locator import inset_axes\n",
    "from scipy.signal import savgol_filter\n",
    "from netCDF4 import Dataset\n",
    "\n",
    "plt.rcParams['text.usetex'] = True\n",
    "plt.rcParams.update({'font.size': 22})\n",
    "plt.rcParams['mathtext.fontset'] = 'stix'\n",
    "plt.rcParams['font.family'] = 'STIXGeneral'"
   ]
  },
  {
   "cell_type": "code",
   "execution_count": 2,
   "metadata": {},
   "outputs": [],
   "source": [
    "# Load Dedalus Run 1\n",
    "\n",
    "#%% Pick the filename and path\n",
    "filename = '/data/thomas/jacob13/SI_ON_A_SLOPE/SI_DNS/SI_1e-5_0p02/snapshots/snapshots_1e-5_0p02_LONG.h5' #Ruan case F\n",
    "visc = 1e-4\n",
    "\n",
    "# filename = '/data/thomas/jacob13/SI_ON_A_SLOPE/SI_DNS/SI_1e-5_0p02/snapshots/snapshots_1e-5_0p02_LOWV.h5' #Ruan case F\n",
    "# visc = 5e-5\n",
    "\n",
    "f = h5py.File(filename, 'r')\n",
    "\n",
    "# Get the data\n",
    "data = list(f['tasks'])\n",
    "\n",
    "# Basic parameters\n",
    "N = f['tasks']['N'][0,0,0] #Interior stratification (background)\n",
    "tht = f['tasks']['tht'] # Slope angle\n",
    "\n",
    "\n",
    "# Load variables in physical space\n",
    "u = f['tasks']['u'] # Cross-slope direction\n",
    "v = f['tasks']['v'] # Along-slope direction\n",
    "w = f['tasks']['w']\n",
    "\n",
    "b = f['tasks']['b'] # Perturbation buoyancy\n",
    "\n",
    "\n",
    "diss = f['tasks']['Diss']\n",
    "dissb = f['tasks']['DISSBPRIME']\n",
    "\n",
    "# Domain parameters\n",
    "x = u.dims[1][0][:]\n",
    "z = u.dims[2][0][:]\n",
    "time = u.dims[0][0][:]\n",
    "# kx = f['scales/kx'][:]/(2*np.pi) # Inverse wavelengths in cross-front direction\n",
    "\n",
    "# Calculations\n",
    "zm = z-z[-1]\n",
    "\n",
    "um = np.mean(u, axis=1)\n",
    "vm = np.mean(v, axis=1)\n",
    "# up = u - um[:,np.newaxis,:]\n",
    "# vp = v - vm[:,np.newaxis,:]\n",
    "\n",
    "uz = np.gradient(um, axis=-1)/np.gradient(z)\n",
    "vz = np.gradient(vm, axis=-1)/np.gradient(z) \n",
    "wz = np.gradient(w, axis=-1)/np.gradient(z)\n",
    "wx = np.gradient(w, axis=1)/np.gradient(x[np.newaxis,:,np.newaxis], axis=1)\n",
    "\n",
    "bm = np.mean(b, axis=1)\n",
    "# bmz = np.gradient(bm, axis=-1)/np.gradient(z)\n",
    "MPE = 0.5*bm**2/N**2\n",
    "\n",
    "mdiss = -visc*uz**2 - visc*vz**2\n",
    "WDISS = -visc*np.mean(wz**2 + wx**2, axis=1)\n",
    "WDISS = 0*WDISS\n",
    "# mdiss = 0*mdiss\n",
    "\n",
    "startind=0\n",
    "zl = range(0, 256)\n",
    "DISSIT_d = integrate.cumtrapz(integrate.trapz(mdiss[startind:,zl] + diss[startind:,0,zl]+WDISS[startind:,zl], x=z[zl], axis=-1), x=time[startind:], initial=0)\n",
    "MPEI_d = integrate.trapz(MPE[startind:,zl], x=z[zl], axis=-1)  - integrate.trapz(MPE[startind:,zl], x=z[zl], axis=-1)[0]\n",
    "# EKEEPEI = integrate.cumtrapz(integrate.trapz(vbfr[startind:,0,zl], x=z[zl], axis=-1), x=time[startind:], initial=0)\n",
    "MIXI_d = integrate.cumtrapz(integrate.trapz(dissb[startind:,0,zl], x=z[zl], axis=-1), x=time[startind:], initial=0)\n",
    "time_d = time"
   ]
  },
  {
   "cell_type": "code",
   "execution_count": 3,
   "metadata": {},
   "outputs": [],
   "source": [
    "# Load Dedalus Run 1\n",
    "\n",
    "#%% Pick the filename and path\n",
    "# filename = '/data/thomas/jacob13/SI_ON_A_SLOPE/SI_DNS/SI_1e-5_0p02/snapshots/snapshots_1e-5_0p02_LONG.h5' #Ruan case F\n",
    "# visc = 1e-4\n",
    "\n",
    "filename = '/data/thomas/jacob13/SI_ON_A_SLOPE/SI_DNS/SI_1e-5_0p02/snapshots/snapshots_1e-5_0p02_LOWV_2.h5' #Ruan case F\n",
    "visc = 1e-5\n",
    "\n",
    "f = h5py.File(filename, 'r')\n",
    "\n",
    "# Get the data\n",
    "data = list(f['tasks'])\n",
    "\n",
    "# Basic parameters\n",
    "N = f['tasks']['N'][0,0,0] #Interior stratification (background)\n",
    "tht = f['tasks']['tht'] # Slope angle\n",
    "\n",
    "\n",
    "# Load variables in physical space\n",
    "u = f['tasks']['u'] # Cross-slope direction\n",
    "v = f['tasks']['v'] # Along-slope direction\n",
    "w = f['tasks']['w']\n",
    "\n",
    "b = f['tasks']['b'] # Perturbation buoyancy\n",
    "\n",
    "\n",
    "diss = f['tasks']['Diss']\n",
    "dissb = f['tasks']['DISSBPRIME']\n",
    "\n",
    "# Domain parameters\n",
    "x = u.dims[1][0][:]\n",
    "z = u.dims[2][0][:]\n",
    "time = u.dims[0][0][:]\n",
    "# kx = f['scales/kx'][:]/(2*np.pi) # Inverse wavelengths in cross-front direction\n",
    "\n",
    "# Calculations\n",
    "zm = z-z[-1]\n",
    "\n",
    "um = np.mean(u, axis=1)\n",
    "vm = np.mean(v, axis=1)\n",
    "# up = u - um[:,np.newaxis,:]\n",
    "# vp = v - vm[:,np.newaxis,:]\n",
    "\n",
    "uz = np.gradient(um, axis=-1)/np.gradient(z)\n",
    "vz = np.gradient(vm, axis=-1)/np.gradient(z) \n",
    "wz = np.gradient(w, axis=-1)/np.gradient(z)\n",
    "wx = np.gradient(w, axis=1)/np.gradient(x[np.newaxis,:,np.newaxis], axis=1)\n",
    "\n",
    "bm = np.mean(b, axis=1)\n",
    "# bmz = np.gradient(bm, axis=-1)/np.gradient(z)\n",
    "MPE = 0.5*bm**2/N**2\n",
    "\n",
    "mdiss = -visc*uz**2 - visc*vz**2\n",
    "WDISS = -visc*np.mean(wz**2 + wx**2, axis=1)\n",
    "WDISS = 0*WDISS\n",
    "# mdiss = 0*mdiss\n",
    "\n",
    "startind=0\n",
    "zl = range(0, 256)\n",
    "DISSIT_2 = integrate.cumtrapz(integrate.trapz(mdiss[startind:,zl] + diss[startind:,0,zl]+WDISS[startind:,zl], x=z[zl], axis=-1), x=time[startind:], initial=0)\n",
    "MPEI_2 = integrate.trapz(MPE[startind:,zl], x=z[zl], axis=-1)  - integrate.trapz(MPE[startind:,zl], x=z[zl], axis=-1)[0]\n",
    "# EKEEPEI = integrate.cumtrapz(integrate.trapz(vbfr[startind:,0,zl], x=z[zl], axis=-1), x=time[startind:], initial=0)\n",
    "MIXI_2 = integrate.cumtrapz(integrate.trapz(dissb[startind:,0,zl], x=z[zl], axis=-1), x=time[startind:], initial=0)\n",
    "time_2 = time"
   ]
  },
  {
   "cell_type": "code",
   "execution_count": null,
   "metadata": {},
   "outputs": [],
   "source": []
  },
  {
   "cell_type": "code",
   "execution_count": 4,
   "metadata": {},
   "outputs": [
    {
     "name": "stderr",
     "output_type": "stream",
     "text": [
      "/usr/local/anaconda3/lib/python3.6/site-packages/ipykernel_launcher.py:3: RuntimeWarning: invalid value encountered in true_divide\n",
      "  This is separate from the ipykernel package so we can avoid doing imports until\n",
      "/usr/local/anaconda3/lib/python3.6/site-packages/ipykernel_launcher.py:4: RuntimeWarning: invalid value encountered in true_divide\n",
      "  after removing the cwd from sys.path.\n",
      "/usr/local/anaconda3/lib/python3.6/site-packages/ipykernel_launcher.py:5: RuntimeWarning: invalid value encountered in true_divide\n",
      "  \"\"\"\n",
      "/usr/local/anaconda3/lib/python3.6/site-packages/ipykernel_launcher.py:6: RuntimeWarning: invalid value encountered in true_divide\n",
      "  \n"
     ]
    },
    {
     "data": {
      "text/plain": [
       "(0, 0.6)"
      ]
     },
     "execution_count": 4,
     "metadata": {},
     "output_type": "execute_result"
    },
    {
     "data": {
      "image/png": "[encoded data removed]",
      "text/plain": [
       "<Figure size 720x360 with 1 Axes>"
      ]
     },
     "metadata": {
      "needs_background": "light"
     },
     "output_type": "display_data"
    }
   ],
   "source": [
    "\n",
    "plt.figure(figsize=(10,5))\n",
    "plt.plot(time_d[startind:]/86400, -MPEI_d/DISSIT_d,linewidth=3, label='$Q$')\n",
    "plt.plot(time_2[startind:]/86400, -MPEI_2/DISSIT_2,linewidth=2,  linestyle='dashed', color='#1f77b4')\n",
    "plt.plot(time_d[startind:]/86400, MIXI_d/DISSIT_d,linewidth=3, label='$\\Gamma$')\n",
    "plt.plot(time_2[startind:]/86400, MIXI_2/DISSIT_2,linewidth=2, linestyle='dashed', color='#ff7f0e')\n",
    "\n",
    "# plt.plot(time[startind:]/86400, EKEEPEI/DISSIT,linewidth=2, label='$\\int_0^t VBF/\\int_0^t \\epsilon$') # VBF/EPSILON (cumulative in time)\n",
    "plt.ylim(-0.1,1)\n",
    "plt.grid()\n",
    "plt.legend(bbox_to_anchor=(0., 0.92, 1., .102))\n",
    "plt.xlabel('Days')\n",
    "plt.xlim(0, 40)\n",
    "plt.ylim(0, 0.6)\n"
   ]
  },
  {
   "cell_type": "code",
   "execution_count": 5,
   "metadata": {},
   "outputs": [
    {
     "data": {
      "text/plain": [
       "(0, 0.06)"
      ]
     },
     "execution_count": 5,
     "metadata": {},
     "output_type": "execute_result"
    },
    {
     "data": {
      "image/png": "[encoded data removed]",
      "text/plain": [
       "<Figure size 720x360 with 1 Axes>"
      ]
     },
     "metadata": {
      "needs_background": "light"
     },
     "output_type": "display_data"
    }
   ],
   "source": [
    "# Plot dissipation rates\n",
    "\n",
    "\n",
    "norm = 0.1**3*1e4\n",
    "plt.figure(figsize=(10,5))\n",
    "plt.plot(time_d[startind:]/86400, -DISSIT_d/(norm),linewidth=3, label='$\\int_0^t \\overline{\\epsilon^*} dt^*$')\n",
    "plt.plot(time_2[startind:]/86400, -DISSIT_2/(norm),linewidth=2,  linestyle='dashed', color='#1f77b4')\n",
    "plt.plot(time_d[startind:]/86400, MPEI_d/norm,linewidth=3, label='$\\Delta \\overline{MPE}^*$')\n",
    "plt.plot(time_2[startind:]/86400, MPEI_2/norm,linewidth=2, linestyle='dashed', color='#ff7f0e')\n",
    "# plt.plot(time[startind:]/86400, 0.1**3*time/(10*1030))\n",
    "# plt.plot(time[startind:]/86400, EKEEPEI/DISSIT,linewidth=2, label='$\\int_0^t VBF/\\int_0^t \\epsilon$') # VBF/EPSILON (cumulative in time)\n",
    "# plt.ylim(-0.1,1)\n",
    "plt.grid()\n",
    "plt.legend(bbox_to_anchor=(0., 0.92, 1., .102))\n",
    "plt.xlabel('Days')\n",
    "plt.xlim(0, 40)\n",
    "# plt.ylabel('$m^3s^{-2}$')\n",
    "plt.ylim(0, 0.06)\n",
    "\n",
    "# plt.savefig('./DISSMPE_1e-5_0p02.pdf', bbox_inches='tight')"
   ]
  },
  {
   "cell_type": "code",
   "execution_count": null,
   "metadata": {},
   "outputs": [],
   "source": []
  }
 ],
 "metadata": {
  "kernelspec": {
   "display_name": "Python 3N",
   "language": "python",
   "name": "python3n"
  },
  "language_info": {
   "codemirror_mode": {
    "name": "ipython",
    "version": 3
   },
   "file_extension": ".py",
   "mimetype": "text/x-python",
   "name": "python",
   "nbconvert_exporter": "python",
   "pygments_lexer": "ipython3",
   "version": "3.6.8"
  }
 },
 "nbformat": 4,
 "nbformat_minor": 2
}
